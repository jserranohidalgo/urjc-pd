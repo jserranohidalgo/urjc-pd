{
 "cells": [
  {
   "cell_type": "markdown",
   "metadata": {},
   "source": [
    "# Scala introduction"
   ]
  },
  {
   "cell_type": "markdown",
   "metadata": {},
   "source": [
    "This notebook offers a basic introduction to the object-oriented features of the Scala programming language. It consists of small code samples that aim at translating into Scala some of the Java examples of the following tutorial: \n",
    "\n",
    "https://docs.oracle.com/javase/tutorial/java/TOC.html\n",
    "\n",
    "In particular, we will talk about: \n",
    "* Classes and objects\n",
    "* Control flow structures\n",
    "* Constructors, private and static members\n",
    "* Inmutable objects\n",
    "* Interfaces and inheritance\n",
    "* Generics"
   ]
  },
  {
   "cell_type": "markdown",
   "metadata": {},
   "source": [
    "### References"
   ]
  },
  {
   "cell_type": "markdown",
   "metadata": {},
   "source": [
    "[__Programming in Scala, \n",
    "A comprehensive step-by-step guide__](https://www.artima.com/shop/programming_in_scala_3ed) Third Edition.\n",
    "by Martin Odersky, Lex Spoon, and Bill Venners. \n",
    "\n",
    "This is an introductory book that covers the basic features of the language as well as its most advanced characteristics. The following chapters are the most relevant for the purpose of this notebook:\n",
    "\n",
    "1. A Scalable Language\n",
    "2. First Steps in Scala\n",
    "3. Next Steps in Scala\n",
    "4. Classes and Objects\n",
    "5. Basic Types and Operations\n",
    "7. Built-in Control Structures 117\n",
    "9. Control Abstraction 167\n",
    "10. Composition and Inheritance 183\n",
    "11. Scala's Hierarchy 211"
   ]
  },
  {
   "cell_type": "markdown",
   "metadata": {},
   "source": [
    "__[Scala book (online)](https://docs.scala-lang.org/overviews/scala-book/introduction.html)__. A basic introduction to the basic features of Scala. Check in particular the first trail:\n",
    "\n",
    "- [_Prelude: a taste of Scala_](https://docs.scala-lang.org/overviews/scala-book/prelude-taste-of-scala.html)"
   ]
  },
  {
   "cell_type": "markdown",
   "metadata": {},
   "source": [
    "[Scala Cheatsheet](https://docs.scala-lang.org/cheatsheets/index.html)"
   ]
  },
  {
   "cell_type": "markdown",
   "metadata": {},
   "source": [
    "# Object-Oriented Programming Concepts\n",
    "\n",
    "https://docs.oracle.com/javase/tutorial/java/concepts/index.html"
   ]
  },
  {
   "cell_type": "markdown",
   "metadata": {},
   "source": [
    "### Classes"
   ]
  },
  {
   "cell_type": "code",
   "execution_count": null,
   "metadata": {},
   "outputs": [],
   "source": [
    "/* \n",
    "class Bicycle {\n",
    "\n",
    "  int cadence = 0;\n",
    "  int speed = 0;\n",
    "  int gear = 1;\n",
    "\n",
    "  void changeCadence(int newValue) {\n",
    "    cadence = newValue;\n",
    "  }\n",
    "\n",
    "  void changeGear(int newValue) {\n",
    "    gear = newValue;\n",
    "  }\n",
    "\n",
    "  void speedUp(int increment) {\n",
    "    speed = speed + increment;   \n",
    "  }\n",
    "\n",
    "  void applyBrakes(int decrement) {\n",
    "    speed = speed - decrement;\n",
    "  }\n",
    "  \n",
    "  void printStates() {\n",
    "       System.out.println(\"cadence:\" +\n",
    "           cadence + \" speed:\" + \n",
    "           speed + \" gear:\" + gear);\n",
    "  }\n",
    "}\n",
    "*/"
   ]
  },
  {
   "cell_type": "code",
   "execution_count": null,
   "metadata": {},
   "outputs": [],
   "source": [
    "class Bicycle {\n",
    "\n",
    "    var cadence: Int = 0\n",
    "    var speed: Int = 0\n",
    "    var gear: Int = 1\n",
    "\n",
    "    def changeCadence(newValue: Int): Unit = {\n",
    "         cadence = newValue;\n",
    "    }\n",
    "\n",
    "    def changeGear(newValue: Int): Unit = {\n",
    "         gear = newValue;\n",
    "    }\n",
    "\n",
    "    def speedUp(increment: Int): Unit = {\n",
    "         speed = speed + increment;   \n",
    "    }\n",
    "\n",
    "    def applyBrakes(decrement: Int) = {\n",
    "         speed = speed - decrement;\n",
    "    }\n",
    "\n",
    "    def printStates(): Unit = {\n",
    "         println(\"cadence:\" +\n",
    "             cadence + \" speed:\" + \n",
    "             speed + \" gear:\" + gear);\n",
    "    }\n",
    "}"
   ]
  },
  {
   "cell_type": "markdown",
   "metadata": {},
   "source": [
    "### Objects and method invocation"
   ]
  },
  {
   "cell_type": "code",
   "execution_count": null,
   "metadata": {},
   "outputs": [],
   "source": [
    "/*\n",
    "// Create two different Bicycle objects\n",
    "\n",
    "Bicycle bike1 = new Bicycle();\n",
    "Bicycle bike2 = new Bicycle();\n",
    "\n",
    "// Invoke methods on those objects\n",
    "\n",
    "bike1.changeCadence(50);\n",
    "bike1.speedUp(10);\n",
    "bike1.changeGear(2);\n",
    "bike1.printStates();\n",
    "\n",
    "bike2.changeCadence(50);\n",
    "bike2.speedUp(10);\n",
    "bike2.changeGear(2);\n",
    "bike2.changeCadence(40);\n",
    "bike2.speedUp(10);\n",
    "bike2.changeGear(3);\n",
    "bike2.printStates();\n",
    "\n",
    "*/"
   ]
  },
  {
   "cell_type": "code",
   "execution_count": null,
   "metadata": {},
   "outputs": [],
   "source": [
    "// Create two different Bicycle objects\n",
    "\n",
    "var bike1: Bicycle = new Bicycle()\n",
    "var bike2: Bicycle = new Bicycle()\n",
    "\n",
    "// Invoke methods on those objects\n",
    "\n",
    "bike1.changeCadence(50)\n",
    "bike1.speedUp(10)\n",
    "bike1.changeGear(2)\n",
    "bike1.printStates()\n",
    "\n",
    "bike2.changeCadence(50)\n",
    "bike2.speedUp(10)\n",
    "bike2.changeGear(2)\n",
    "bike2.changeCadence(40)\n",
    "bike2.speedUp(10)\n",
    "bike2.changeGear(3)\n",
    "bike2.printStates()\n"
   ]
  },
  {
   "cell_type": "markdown",
   "metadata": {},
   "source": [
    "Some syntactic sugar for method invocations:"
   ]
  },
  {
   "cell_type": "code",
   "execution_count": null,
   "metadata": {},
   "outputs": [],
   "source": [
    "import scala.language.postfixOps"
   ]
  },
  {
   "cell_type": "code",
   "execution_count": null,
   "metadata": {},
   "outputs": [],
   "source": [
    "// Invoke methods on those objects\n",
    "\n",
    "bike1 changeCadence 50\n",
    "bike1 speedUp 10\n",
    "bike1 changeGear 2\n",
    "bike1 printStates"
   ]
  },
  {
   "cell_type": "markdown",
   "metadata": {},
   "source": [
    "### Inheritance"
   ]
  },
  {
   "cell_type": "code",
   "execution_count": null,
   "metadata": {},
   "outputs": [],
   "source": [
    "/*\n",
    "class MountainBike extends Bicycle {\n",
    "\n",
    "    // new fields and methods defining \n",
    "    // a mountain bike would go here\n",
    "\n",
    "}\n",
    "*/"
   ]
  },
  {
   "cell_type": "code",
   "execution_count": null,
   "metadata": {},
   "outputs": [],
   "source": [
    "class MountainBike extends Bicycle {\n",
    "\n",
    "    // new fields and methods defining \n",
    "    // a mountain bike would go here\n",
    "    \n",
    "}"
   ]
  },
  {
   "cell_type": "markdown",
   "metadata": {},
   "source": [
    "### Interfaces"
   ]
  },
  {
   "cell_type": "code",
   "execution_count": null,
   "metadata": {},
   "outputs": [],
   "source": [
    "/*\n",
    "interface Bicycle {\n",
    "\n",
    "    //  wheel revolutions per minute\n",
    "    void changeCadence(int newValue);\n",
    "\n",
    "    void changeGear(int newValue);\n",
    "\n",
    "    void speedUp(int increment);\n",
    "\n",
    "    void applyBrakes(int decrement);\n",
    "}\n",
    "*/"
   ]
  },
  {
   "cell_type": "code",
   "execution_count": null,
   "metadata": {},
   "outputs": [],
   "source": [
    "trait Bicycle {\n",
    "\n",
    "    //  wheel revolutions per minute\n",
    "    def changeCadence(newValue: Int)\n",
    "\n",
    "    def changeGear(newValue: Int)\n",
    "\n",
    "    def speedUp(increment: Int)\n",
    "\n",
    "    def applyBrakes(decrement: Int)\n",
    "}"
   ]
  },
  {
   "cell_type": "code",
   "execution_count": null,
   "metadata": {},
   "outputs": [],
   "source": [
    "/*\n",
    "class ACMEBicycle implements Bicycle {\n",
    "\n",
    "    int cadence = 0;\n",
    "    int speed = 0;\n",
    "    int gear = 1;\n",
    "\n",
    "   // The compiler will now require that methods\n",
    "   // changeCadence, changeGear, speedUp, and applyBrakes\n",
    "   // all be implemented. Compilation will fail if those\n",
    "   // methods are missing from this class.\n",
    "\n",
    "    void changeCadence(int newValue) {\n",
    "         cadence = newValue;\n",
    "    }\n",
    "\n",
    "    void changeGear(int newValue) {\n",
    "         gear = newValue;\n",
    "    }\n",
    "\n",
    "    void speedUp(int increment) {\n",
    "         speed = speed + increment;   \n",
    "    }\n",
    "\n",
    "    void applyBrakes(int decrement) {\n",
    "         speed = speed - decrement;\n",
    "    }\n",
    "\n",
    "    void printStates() {\n",
    "         System.out.println(\"cadence:\" +\n",
    "             cadence + \" speed:\" + \n",
    "             speed + \" gear:\" + gear);\n",
    "    }\n",
    "}\n",
    "*/"
   ]
  },
  {
   "cell_type": "code",
   "execution_count": null,
   "metadata": {},
   "outputs": [],
   "source": [
    "class ACMEBicycle extends Bicycle {\n",
    "\n",
    "    var cadence: Int = 0\n",
    "    var speed: Int = 0\n",
    "    var gear: Int = 1\n",
    "\n",
    "   // The compiler will now require that methods\n",
    "   // changeCadence, changeGear, speedUp, and applyBrakes\n",
    "   // all be implemented. Compilation will fail if those\n",
    "   // methods are missing from this class.\n",
    "\n",
    "    def changeCadence(newValue: Int) {\n",
    "         cadence = newValue;\n",
    "    }\n",
    "\n",
    "    def changeGear(newValue: Int) {\n",
    "         gear = newValue;\n",
    "    }\n",
    "\n",
    "    def speedUp(increment:Int) {\n",
    "         speed = speed + increment;   \n",
    "    }\n",
    "\n",
    "    def applyBrakes(decrement: Int) {\n",
    "         speed = speed - decrement;\n",
    "    }\n",
    "\n",
    "    def printStates() {\n",
    "         System.out.println(\"cadence:\" +\n",
    "             cadence + \" speed:\" + \n",
    "             speed + \" gear:\" + gear);\n",
    "    }\n",
    "}"
   ]
  },
  {
   "cell_type": "markdown",
   "metadata": {},
   "source": [
    "# Language basics\n",
    "\n",
    "https://docs.oracle.com/javase/tutorial/java/nutsandbolts/index.html"
   ]
  },
  {
   "cell_type": "markdown",
   "metadata": {},
   "source": [
    "### Control flow statements"
   ]
  },
  {
   "cell_type": "code",
   "execution_count": null,
   "metadata": {},
   "outputs": [],
   "source": [
    "class Bicycle {\n",
    "\n",
    "    var cadence: Int = 0\n",
    "    var speed: Int = 0\n",
    "    var gear: Int = 1\n",
    "\n",
    "    def changeCadence(newValue: Int): Unit = {\n",
    "         cadence = newValue;\n",
    "    }\n",
    "\n",
    "    def changeGear(newValue: Int): Unit = {\n",
    "         gear = newValue;\n",
    "    }\n",
    "\n",
    "    def speedUp(increment: Int): Unit = {\n",
    "         speed = speed + increment;   \n",
    "    }\n",
    "\n",
    "    def applyBrakes(decrement: Int) = {\n",
    "         speed = speed - decrement;\n",
    "    }\n",
    "    \n",
    "    /*\n",
    "    void applyBrakes() {\n",
    "        // the \"if\" clause: bicycle must be moving\n",
    "        if (speed > 0){ \n",
    "            // the \"then\" clause: decrease current speed\n",
    "            speed--;\n",
    "        }\n",
    "    }\n",
    "    */\n",
    "\n",
    "    def printStates(): Unit = {\n",
    "         println(\"cadence:\" +\n",
    "             cadence + \" speed:\" + \n",
    "             speed + \" gear:\" + gear);\n",
    "    }\n",
    "}"
   ]
  },
  {
   "cell_type": "code",
   "execution_count": null,
   "metadata": {},
   "outputs": [],
   "source": [
    "class Bicycle {\n",
    "\n",
    "    var cadence: Int = 0\n",
    "    var speed: Int = 0\n",
    "    var gear: Int = 1\n",
    "\n",
    "    def changeCadence(newValue: Int): Unit = {\n",
    "         cadence = newValue;\n",
    "    }\n",
    "\n",
    "    def changeGear(newValue: Int): Unit = {\n",
    "         gear = newValue;\n",
    "    }\n",
    "\n",
    "    def speedUp(increment: Int): Unit = {\n",
    "         speed = speed + increment;   \n",
    "    }\n",
    "\n",
    "    def applyBrakes(decrement: Int) = {\n",
    "         speed = speed - decrement;\n",
    "    }\n",
    "    \n",
    "    def applyBrakes() {\n",
    "        if (speed > 0)\n",
    "            speed = speed - 1\n",
    "    }\n",
    "\n",
    "    def printStates(): Unit = {\n",
    "         println(\"cadence:\" +\n",
    "             cadence + \" speed:\" + \n",
    "             speed + \" gear:\" + gear);\n",
    "    }\n",
    "}"
   ]
  },
  {
   "cell_type": "code",
   "execution_count": null,
   "metadata": {},
   "outputs": [],
   "source": [
    "var bike: Bicycle = new Bicycle\n",
    "bike.speedUp(10)\n",
    "bike.printStates()\n",
    "bike.applyBrakes()\n",
    "bike.printStates()\n",
    "bike.applyBrakes(9)\n",
    "bike.applyBrakes()\n",
    "bike.printStates()"
   ]
  },
  {
   "cell_type": "code",
   "execution_count": null,
   "metadata": {},
   "outputs": [],
   "source": [
    "class Bicycle {\n",
    "\n",
    "    var cadence: Int = 0\n",
    "    var speed: Int = 0\n",
    "    var gear: Int = 1\n",
    "\n",
    "    def changeCadence(newValue: Int): Unit = {\n",
    "         cadence = newValue;\n",
    "    }\n",
    "\n",
    "    def changeGear(newValue: Int): Unit = {\n",
    "         gear = newValue;\n",
    "    }\n",
    "\n",
    "    def speedUp(increment: Int): Unit = {\n",
    "         speed = speed + increment;   \n",
    "    }\n",
    "\n",
    "    def applyBrakes(decrement: Int) = {\n",
    "         speed = speed - decrement;\n",
    "    }\n",
    "    \n",
    "    \n",
    "    def isMoving(): Boolean = \n",
    "        speed > 0\n",
    "    \n",
    "    /*\n",
    "    void applyBrakes() {\n",
    "        if (isMoving) {\n",
    "            speed--;\n",
    "        } else {\n",
    "            System.err.println(\"The bicycle has already stopped!\");\n",
    "        } \n",
    "    }\n",
    "    */\n",
    "\n",
    "    def printStates(): Unit = {\n",
    "         println(\"cadence:\" +\n",
    "             cadence + \" speed:\" + \n",
    "             speed + \" gear:\" + gear);\n",
    "    }\n",
    "}\n"
   ]
  },
  {
   "cell_type": "code",
   "execution_count": null,
   "metadata": {},
   "outputs": [],
   "source": [
    "class Bicycle {\n",
    "\n",
    "    var cadence: Int = 0\n",
    "    var speed: Int = 0\n",
    "    var gear: Int = 1\n",
    "\n",
    "    def changeCadence(newValue: Int): Unit = {\n",
    "         cadence = newValue;\n",
    "    }\n",
    "\n",
    "    def changeGear(newValue: Int): Unit = {\n",
    "         gear = newValue;\n",
    "    }\n",
    "\n",
    "    def speedUp(increment: Int): Unit = {\n",
    "         speed = speed + increment;   \n",
    "    }\n",
    "\n",
    "    def applyBrakes(decrement: Int) = {\n",
    "         speed = speed - decrement;\n",
    "    }\n",
    "    \n",
    "    \n",
    "    def isMoving(): Boolean = \n",
    "        // return speed > 0\n",
    "        speed > 0\n",
    "    \n",
    "    def applyBrakes() {\n",
    "        if (isMoving) {\n",
    "            speed -= 1;\n",
    "        } else {\n",
    "            System.err.println(\"The bicycle has already stopped!\");\n",
    "        } \n",
    "    }\n",
    "\n",
    "    def printStates(): Unit = {\n",
    "         println(\"cadence:\" +\n",
    "             cadence + \" speed:\" + \n",
    "             speed + \" gear:\" + gear);\n",
    "    }\n",
    "}\n"
   ]
  },
  {
   "cell_type": "code",
   "execution_count": null,
   "metadata": {},
   "outputs": [],
   "source": [
    "var bike: Bicycle = new Bicycle\n",
    "bike.speedUp(10)\n",
    "bike.printStates()\n",
    "bike.applyBrakes()\n",
    "bike.printStates()\n",
    "bike.applyBrakes(9)\n",
    "bike.applyBrakes()\n",
    "bike.printStates()"
   ]
  },
  {
   "cell_type": "markdown",
   "metadata": {},
   "source": [
    "### If-Else-If demo"
   ]
  },
  {
   "cell_type": "code",
   "execution_count": null,
   "metadata": {},
   "outputs": [],
   "source": [
    "/*\n",
    "int testscore = 76;\n",
    "char grade;\n",
    "\n",
    "if (testscore >= 90) {\n",
    "    grade = 'A';\n",
    "} else if (testscore >= 80) {\n",
    "    grade = 'B';\n",
    "} else if (testscore >= 70) {\n",
    "    grade = 'C';\n",
    "} else if (testscore >= 60) {\n",
    "    grade = 'D';\n",
    "} else {\n",
    "    grade = 'F';\n",
    "}\n",
    "System.out.println(\"Grade = \" + grade);\n",
    "*/"
   ]
  },
  {
   "cell_type": "code",
   "execution_count": null,
   "metadata": {},
   "outputs": [],
   "source": [
    "var testscore: Int = 76\n",
    "var grade: Char = ' '\n",
    "\n",
    "if (testscore >= 90) {\n",
    "    grade = 'A';\n",
    "} else if (testscore >= 80) {\n",
    "    grade = 'B';\n",
    "} else if (testscore >= 70) {\n",
    "    grade = 'C';\n",
    "} else if (testscore >= 60) {\n",
    "    grade = 'D';\n",
    "} else {\n",
    "    grade = 'F';\n",
    "}\n",
    "System.out.println(\"Grade = \" + grade);"
   ]
  },
  {
   "cell_type": "markdown",
   "metadata": {},
   "source": [
    "### while statements"
   ]
  },
  {
   "cell_type": "code",
   "execution_count": null,
   "metadata": {},
   "outputs": [],
   "source": [
    "/*\n",
    "int count = 1;\n",
    "while (count < 11) {\n",
    "    System.out.println(\"Count is: \" + count);\n",
    "    count++;\n",
    "}\n",
    "*/"
   ]
  },
  {
   "cell_type": "code",
   "execution_count": null,
   "metadata": {},
   "outputs": [],
   "source": [
    "var count: Int = 1\n",
    "while (count < 11) {\n",
    "    System.out.println(\"Count is: \" + count)\n",
    "    count += 1\n",
    "}\n"
   ]
  },
  {
   "cell_type": "markdown",
   "metadata": {},
   "source": [
    "### For statement"
   ]
  },
  {
   "cell_type": "code",
   "execution_count": null,
   "metadata": {},
   "outputs": [],
   "source": [
    "/*\n",
    "for(int i=1; i<11; i++){\n",
    "  System.out.println(\"Count is: \" + i);\n",
    "}\n",
    "*/"
   ]
  },
  {
   "cell_type": "code",
   "execution_count": null,
   "metadata": {},
   "outputs": [],
   "source": [
    "for(i <- 1 to 10){\n",
    "  System.out.println(\"Count is: \" + i);\n",
    "}"
   ]
  },
  {
   "cell_type": "code",
   "execution_count": null,
   "metadata": {},
   "outputs": [],
   "source": [
    "/*\n",
    "int[] numbers = \n",
    "  {1,2,3,4,5,6,7,8,9,10};\n",
    "\n",
    "for (int item : numbers) {\n",
    "  System.out.println(\"Count is: \" + item);\n",
    "}\n",
    "*/"
   ]
  },
  {
   "cell_type": "code",
   "execution_count": null,
   "metadata": {},
   "outputs": [],
   "source": [
    "var numbers: Array[Int] = \n",
    "  Array(1,2,3,4,5,6,7,8,9,10);\n",
    "\n",
    "for (item <- numbers) {\n",
    "  System.out.println(\"Count is: \" + item);\n",
    "}\n"
   ]
  },
  {
   "cell_type": "markdown",
   "metadata": {},
   "source": [
    "### Exceptions\n",
    "\n",
    "https://docs.oracle.com/javase/tutorial/essential/exceptions/index.html"
   ]
  },
  {
   "cell_type": "code",
   "execution_count": null,
   "metadata": {},
   "outputs": [],
   "source": [
    "/*\n",
    "public void writeList() {\n",
    "    PrintWriter out = null;\n",
    "\n",
    "    try {\n",
    "        System.out.println(\"Entering\" + \" try statement\");\n",
    "\n",
    "        out = new PrintWriter(new FileWriter(\"OutFile.txt\"));\n",
    "        for (int i = 0; i < SIZE; i++) {\n",
    "            out.println(\"Value at: \" + i + \" = \" + list.get(i));\n",
    "        }\n",
    "    } catch (IndexOutOfBoundsException e) {\n",
    "        System.err.println(\"Caught IndexOutOfBoundsException: \"\n",
    "                           +  e.getMessage());\n",
    "                                 \n",
    "    } catch (IOException e) {\n",
    "        System.err.println(\"Caught IOException: \" +  e.getMessage());\n",
    "                                 \n",
    "    } finally {\n",
    "        if (out != null) {\n",
    "            System.out.println(\"Closing PrintWriter\");\n",
    "            out.close();\n",
    "        } \n",
    "        else {\n",
    "            System.out.println(\"PrintWriter not open\");\n",
    "        }\n",
    "    }\n",
    "}\n",
    "*/"
   ]
  },
  {
   "cell_type": "code",
   "execution_count": null,
   "metadata": {},
   "outputs": [],
   "source": [
    "import java.io._\n",
    "\n",
    "def writeList(list: Array[Int], SIZE: Int, fileName: String) {\n",
    "    var out: PrintWriter = null;\n",
    "\n",
    "    try {\n",
    "        System.out.println(\"Entering\" + \" try statement\");\n",
    "\n",
    "        out = new PrintWriter(new FileWriter(fileName));\n",
    "        for (i <- 0 to SIZE-1) {\n",
    "            out.println(\"Value at: \" + i + \" = \" + list.apply(i));\n",
    "        }\n",
    "    } catch {\n",
    "        case e: IndexOutOfBoundsException  => \n",
    "            System.err.println(\"Caught IndexOutOfBoundsException: \"\n",
    "                           +  e.getMessage());\n",
    "                                 \n",
    "        case e: IOException => \n",
    "            System.err.println(\"Caught IOException: \" +  e.getMessage());\n",
    "                                 \n",
    "    } finally {\n",
    "        if (out != null) {\n",
    "            System.out.println(\"Closing PrintWriter\");\n",
    "            out.close();\n",
    "        } \n",
    "        else {\n",
    "            System.out.println(\"PrintWriter not open\");\n",
    "        }\n",
    "    }\n",
    "}"
   ]
  },
  {
   "cell_type": "code",
   "execution_count": null,
   "metadata": {},
   "outputs": [],
   "source": [
    "writeList(Array(1,2,3,4), 4, \"out.txt\")"
   ]
  },
  {
   "cell_type": "code",
   "execution_count": null,
   "metadata": {},
   "outputs": [],
   "source": [
    "writeList(Array(1,2,3,4), 4, \"tmp/out.txt\")"
   ]
  },
  {
   "cell_type": "code",
   "execution_count": null,
   "metadata": {},
   "outputs": [],
   "source": [
    "writeList(Array(1,2,3), 5, \"out.txt\")"
   ]
  },
  {
   "cell_type": "markdown",
   "metadata": {},
   "source": [
    "# Classes and objects\n",
    "\n",
    "https://docs.oracle.com/javase/tutorial/java/javaOO/index.html"
   ]
  },
  {
   "cell_type": "markdown",
   "metadata": {},
   "source": [
    "### Constructors"
   ]
  },
  {
   "cell_type": "code",
   "execution_count": null,
   "metadata": {},
   "outputs": [],
   "source": [
    "class Bicycle {\n",
    "\n",
    "    var cadence: Int = 0\n",
    "    var speed: Int = 0\n",
    "    var gear: Int = 1\n",
    "\n",
    "    /*\n",
    "    public Bicycle(int startCadence, int startSpeed, int startGear) {\n",
    "        gear = startGear;\n",
    "        cadence = startCadence;\n",
    "        speed = startSpeed;\n",
    "    }\n",
    "    \n",
    "    public Bicycle(){\n",
    "        gear = 1;\n",
    "        cadence = 10;\n",
    "        speed = 0;\n",
    "    }\n",
    "    */\n",
    "\n",
    "    def changeCadence(newValue: Int): Unit = {\n",
    "         cadence = newValue;\n",
    "    }\n",
    "\n",
    "    def changeGear(newValue: Int): Unit = {\n",
    "         gear = newValue;\n",
    "    }\n",
    "\n",
    "    def speedUp(increment: Int): Unit = {\n",
    "         speed = speed + increment;   \n",
    "    }\n",
    "\n",
    "    def applyBrakes(decrement: Int) = {\n",
    "         speed = speed - decrement;\n",
    "    }\n",
    "\n",
    "    def printStates(): Unit = {\n",
    "         println(\"cadence:\" +\n",
    "             cadence + \" speed:\" + \n",
    "             speed + \" gear:\" + gear);\n",
    "    }\n",
    "}"
   ]
  },
  {
   "cell_type": "code",
   "execution_count": null,
   "metadata": {},
   "outputs": [],
   "source": [
    "class Bicycle(startCadence: Int, startSpeed: Int, startGear: Int) {\n",
    "\n",
    "    var cadence: Int = startCadence\n",
    "    var speed: Int = startSpeed\n",
    "    var gear: Int = startGear\n",
    "\n",
    "    def this() = \n",
    "        this(0, 0, 1)\n",
    "    \n",
    "    def changeCadence(newValue: Int): Unit = {\n",
    "         cadence = newValue;\n",
    "    }\n",
    "\n",
    "    def changeGear(newValue: Int): Unit = {\n",
    "         gear = newValue;\n",
    "    }\n",
    "\n",
    "    def speedUp(increment: Int): Unit = {\n",
    "         speed = speed + increment;   \n",
    "    }\n",
    "\n",
    "    def applyBrakes(decrement: Int) = {\n",
    "         speed = speed - decrement;\n",
    "    }\n",
    "\n",
    "    def printStates(): Unit = {\n",
    "         println(\"cadence:\" +\n",
    "             cadence + \" speed:\" + \n",
    "             speed + \" gear:\" + gear);\n",
    "    }\n",
    "}"
   ]
  },
  {
   "cell_type": "markdown",
   "metadata": {},
   "source": [
    "### Super-constructors"
   ]
  },
  {
   "cell_type": "code",
   "execution_count": null,
   "metadata": {},
   "outputs": [],
   "source": [
    "/*\n",
    "public class MountainBike extends Bicycle {\n",
    "        \n",
    "    // the MountainBike subclass has one field\n",
    "    public int seatHeight;\n",
    "\n",
    "    // the MountainBike subclass has one constructor\n",
    "    public MountainBike(int startHeight, int startCadence,\n",
    "                        int startSpeed, int startGear) {\n",
    "        super(startCadence, startSpeed, startGear);\n",
    "        seatHeight = startHeight;\n",
    "    }   \n",
    "        \n",
    "    // the MountainBike subclass has one method\n",
    "    public void setHeight(int newValue) {\n",
    "        seatHeight = newValue;\n",
    "    }   \n",
    "\n",
    "}\n",
    "*/"
   ]
  },
  {
   "cell_type": "code",
   "execution_count": null,
   "metadata": {},
   "outputs": [],
   "source": [
    "class MountainBike(\n",
    "    var seatHeight: Int, \n",
    "    cadence: Int, \n",
    "    speed: Int,\n",
    "    gear: Int) \n",
    "extends Bicycle(cadence, speed, gear) {\n",
    "        \n",
    "    // the MountainBike subclass has one method\n",
    "    def setHeight(newValue: Int) {\n",
    "        seatHeight = newValue;\n",
    "    }   \n",
    "\n",
    "}"
   ]
  },
  {
   "cell_type": "markdown",
   "metadata": {},
   "source": [
    "### Private members"
   ]
  },
  {
   "cell_type": "code",
   "execution_count": null,
   "metadata": {},
   "outputs": [],
   "source": [
    "/*\n",
    "public class Bicycle {\n",
    "        \n",
    "    private int cadence;\n",
    "    private int gear;\n",
    "    private int speed;\n",
    "        \n",
    "    public Bicycle(int startCadence, int startSpeed, int startGear) {\n",
    "        gear = startGear;\n",
    "        cadence = startCadence;\n",
    "        speed = startSpeed;\n",
    "    }\n",
    "        \n",
    "    public int getCadence() {\n",
    "        return cadence;\n",
    "    }\n",
    "        \n",
    "    public void setCadence(int newValue) {\n",
    "        cadence = newValue;\n",
    "    }\n",
    "        \n",
    "    public int getGear() {\n",
    "        return gear;\n",
    "    }\n",
    "        \n",
    "    public void setGear(int newValue) {\n",
    "        gear = newValue;\n",
    "    }\n",
    "        \n",
    "    public int getSpeed() {\n",
    "        return speed;\n",
    "    }\n",
    "        \n",
    "    public void applyBrake(int decrement) {\n",
    "        speed -= decrement;\n",
    "    }\n",
    "        \n",
    "    public void speedUp(int increment) {\n",
    "        speed += increment;\n",
    "    }\n",
    "}\n",
    "*/"
   ]
  },
  {
   "cell_type": "code",
   "execution_count": null,
   "metadata": {},
   "outputs": [],
   "source": [
    "class Bicycle(\n",
    "    private var cadence: Int, \n",
    "    private var speed: Int, \n",
    "    private var gear: Int) {\n",
    "\n",
    "    def this() = \n",
    "        this(0, 0, 1)\n",
    "    \n",
    "    def getCadence(): Int = \n",
    "        cadence\n",
    "    \n",
    "    def changeCadence(newValue: Int): Unit = {\n",
    "         cadence = newValue;\n",
    "    }\n",
    "\n",
    "    def changeGear(newValue: Int): Unit = {\n",
    "         gear = newValue;\n",
    "    }\n",
    "\n",
    "    def speedUp(increment: Int): Unit = {\n",
    "         speed = speed + increment;   \n",
    "    }\n",
    "\n",
    "    def applyBrakes(decrement: Int) = {\n",
    "         speed = speed - decrement;\n",
    "    }\n",
    "\n",
    "    def printStates(): Unit = {\n",
    "         println(\"cadence:\" +\n",
    "             cadence + \" speed:\" + \n",
    "             speed + \" gear:\" + gear);\n",
    "    }\n",
    "}"
   ]
  },
  {
   "cell_type": "code",
   "execution_count": null,
   "metadata": {},
   "outputs": [],
   "source": [
    "var b: Bicycle = new Bicycle(0,0,1)"
   ]
  },
  {
   "cell_type": "code",
   "execution_count": null,
   "metadata": {},
   "outputs": [],
   "source": [
    "b.getCadence\n"
   ]
  },
  {
   "cell_type": "markdown",
   "metadata": {},
   "source": [
    "### Static members"
   ]
  },
  {
   "cell_type": "code",
   "execution_count": null,
   "metadata": {},
   "outputs": [],
   "source": [
    "class Bicycle(\n",
    "    private var cadence: Int, \n",
    "    private var speed: Int, \n",
    "    private var gear: Int) {\n",
    "\n",
    "    def this() = \n",
    "        this(0, 0, 1)\n",
    "    \n",
    "    /*\n",
    "    public static int numberOfBicycles = 0\n",
    "    \n",
    "    public Bicycle(int startCadence,\n",
    "                   int startSpeed,\n",
    "                   int startGear) {\n",
    "        gear = startGear;\n",
    "        cadence = startCadence;\n",
    "        speed = startSpeed;\n",
    "\n",
    "        ++numberOfBicycles;\n",
    "    }\n",
    "    */\n",
    "    \n",
    "    def getCadence(): Int = \n",
    "        cadence\n",
    "    \n",
    "    def changeCadence(newValue: Int): Unit = {\n",
    "         cadence = newValue;\n",
    "    }\n",
    "\n",
    "    def changeGear(newValue: Int): Unit = {\n",
    "         gear = newValue;\n",
    "    }\n",
    "\n",
    "    def speedUp(increment: Int): Unit = {\n",
    "         speed = speed + increment;   \n",
    "    }\n",
    "\n",
    "    def applyBrakes(decrement: Int) = {\n",
    "         speed = speed - decrement;\n",
    "    }\n",
    "\n",
    "    def printStates(): Unit = {\n",
    "         println(\"cadence:\" +\n",
    "             cadence + \" speed:\" + \n",
    "             speed + \" gear:\" + gear);\n",
    "    }\n",
    "}\n",
    "\n",
    "// Companion object\n",
    "\n",
    "object Bicycle{\n",
    "    var numberOfBicycles: Int = 0\n",
    "    \n",
    "    def create(): Bicycle = {\n",
    "        numberOfBicycles += 1 \n",
    "        new Bicycle\n",
    "    }\n",
    "}"
   ]
  },
  {
   "cell_type": "code",
   "execution_count": null,
   "metadata": {},
   "outputs": [],
   "source": [
    "// ClassName.methodName(args)\n",
    "\n",
    "Bicycle.numberOfBicycles"
   ]
  },
  {
   "cell_type": "markdown",
   "metadata": {},
   "source": [
    "### Inmutable objects\n",
    "https://docs.oracle.com/javase/tutorial/essential/concurrency/immutable.html"
   ]
  },
  {
   "cell_type": "code",
   "execution_count": null,
   "metadata": {},
   "outputs": [],
   "source": [
    "// vars vs. vals\n",
    "var i: Int = 0\n",
    "val j: Int = 0"
   ]
  },
  {
   "cell_type": "code",
   "execution_count": null,
   "metadata": {},
   "outputs": [],
   "source": [
    "// We can mutate `i`\n",
    "i = 1\n",
    "// But `j` is immutable\n",
    "// j = 1"
   ]
  },
  {
   "cell_type": "code",
   "execution_count": null,
   "metadata": {},
   "outputs": [],
   "source": [
    "// Note that immutable variables may refer to mutable objects\n",
    "val a1: Array[Int] = Array(1,2,3)\n",
    "a1(1) = 4\n"
   ]
  },
  {
   "cell_type": "markdown",
   "metadata": {},
   "source": [
    "Immutable objects in Java:"
   ]
  },
  {
   "cell_type": "code",
   "execution_count": null,
   "metadata": {},
   "outputs": [],
   "source": [
    "/*\n",
    "final public class ImmutableRGB {\n",
    "\n",
    "    // Values must be between 0 and 255.\n",
    "    final private int red;\n",
    "    final private int green;\n",
    "    final private int blue;\n",
    "    final private String name;\n",
    "\n",
    "    private void check(int red,\n",
    "                       int green,\n",
    "                       int blue) {\n",
    "        if (red < 0 || red > 255\n",
    "            || green < 0 || green > 255\n",
    "            || blue < 0 || blue > 255) {\n",
    "            throw new IllegalArgumentException();\n",
    "        }\n",
    "    }\n",
    "\n",
    "    public ImmutableRGB(int red,\n",
    "                        int green,\n",
    "                        int blue,\n",
    "                        String name) {\n",
    "        check(red, green, blue);\n",
    "        this.red = red;\n",
    "        this.green = green;\n",
    "        this.blue = blue;\n",
    "        this.name = name;\n",
    "    }\n",
    "\n",
    "\n",
    "    public int getRGB() {\n",
    "        return ((red << 16) | (green << 8) | blue);\n",
    "    }\n",
    "\n",
    "    public String getName() {\n",
    "        return name;\n",
    "    }\n",
    "\n",
    "    public ImmutableRGB invert() {\n",
    "        return new ImmutableRGB(255 - red,\n",
    "                       255 - green,\n",
    "                       255 - blue,\n",
    "                       \"Inverse of \" + name);\n",
    "    }\n",
    "}\n",
    "*/"
   ]
  },
  {
   "cell_type": "markdown",
   "metadata": {},
   "source": [
    "Immutable objects in Scala:"
   ]
  },
  {
   "cell_type": "code",
   "execution_count": null,
   "metadata": {},
   "outputs": [],
   "source": [
    "class ImmutableRGB private (\n",
    "    val red: Int, \n",
    "    val green: Int, \n",
    "    val blue: Int, \n",
    "    val name: String) {\n",
    "\n",
    "    def getRGB(): Int =\n",
    "        (red << 16) | (green << 8) | blue\n",
    "\n",
    "    def invert(): ImmutableRGB =\n",
    "        new ImmutableRGB(255 - red,\n",
    "                       255 - green,\n",
    "                       255 - blue,\n",
    "                       \"Inverse of \" + name)\n",
    "}\n",
    "\n",
    "object ImmutableRGB{\n",
    "    def apply(red: Int, green: Int, blue: Int, name: String): ImmutableRGB = \n",
    "        if (check(red, green, blue)) \n",
    "            new ImmutableRGB(red, green, blue, name)\n",
    "        else throw new IllegalArgumentException()\n",
    "    \n",
    "    def check(red: Int, green: Int, blue: Int): Boolean =\n",
    "        !(red < 0 || red > 255\n",
    "            || green < 0 || green > 255\n",
    "            || blue < 0 || blue > 255)\n",
    "}"
   ]
  },
  {
   "cell_type": "code",
   "execution_count": null,
   "metadata": {},
   "outputs": [],
   "source": [
    "val color1 = ImmutableRGB(255,255,255,\"black\")\n",
    "color1.getRGB"
   ]
  },
  {
   "cell_type": "code",
   "execution_count": null,
   "metadata": {},
   "outputs": [],
   "source": [
    "// color1.red = 5"
   ]
  },
  {
   "cell_type": "markdown",
   "metadata": {},
   "source": [
    "# Interfaces and inheritance\n",
    "\n",
    "https://docs.oracle.com/javase/tutorial/java/IandI/index.html"
   ]
  },
  {
   "cell_type": "markdown",
   "metadata": {},
   "source": [
    "### Extends + Implements"
   ]
  },
  {
   "cell_type": "code",
   "execution_count": null,
   "metadata": {},
   "outputs": [],
   "source": [
    "/*\n",
    "class MyClass extends MySuperClass implements YourInterface {\n",
    "    // field, constructor, and method declarations\n",
    "}\n",
    "*/"
   ]
  },
  {
   "cell_type": "code",
   "execution_count": null,
   "metadata": {},
   "outputs": [],
   "source": [
    "trait MountainBikeAPI{\n",
    "    def setHeight(newValue: Int)\n",
    "}\n",
    "\n",
    "class MountainBike(\n",
    "    var seatHeight: Int, \n",
    "    cadence: Int, \n",
    "    speed: Int,\n",
    "    gear: Int) \n",
    "extends Bicycle(cadence, speed, gear) \n",
    "with MountainBikeAPI{\n",
    "        \n",
    "    // the MountainBike subclass has one method\n",
    "    def setHeight(newValue: Int) {\n",
    "        seatHeight = newValue;\n",
    "    }   \n",
    "\n",
    "}\n",
    "\n"
   ]
  },
  {
   "cell_type": "markdown",
   "metadata": {},
   "source": [
    "### Default and static interface methods"
   ]
  },
  {
   "cell_type": "code",
   "execution_count": null,
   "metadata": {},
   "outputs": [],
   "source": [
    "/*\n",
    "import java.time.*;\n",
    "\n",
    "public interface TimeClient {\n",
    "    void setTime(int hour, int minute, int second);\n",
    "    void setDate(int day, int month, int year);\n",
    "    void setDateAndTime(int day, int month, int year,\n",
    "                               int hour, int minute, int second);\n",
    "    LocalDateTime getLocalDateTime();\n",
    "    \n",
    "    static ZoneId getZoneId (String zoneString) {\n",
    "        try {\n",
    "            return ZoneId.of(zoneString);\n",
    "        } catch (DateTimeException e) {\n",
    "            System.err.println(\"Invalid time zone: \" + zoneString +\n",
    "                \"; using default time zone instead.\");\n",
    "            return ZoneId.systemDefault();\n",
    "        }\n",
    "    }\n",
    "        \n",
    "    default ZonedDateTime getZonedDateTime(String zoneString) {\n",
    "        return ZonedDateTime.of(getLocalDateTime(), getZoneId(zoneString));\n",
    "    }\n",
    "}\n",
    "*/"
   ]
  },
  {
   "cell_type": "code",
   "execution_count": null,
   "metadata": {},
   "outputs": [],
   "source": [
    "import java.time._\n",
    "\n",
    "trait TimeClient {\n",
    "    def setTime(hour: Int, minute: Int, second: Int): Unit\n",
    "    def setDate(dat: Int, month: Int, year: Int): Unit\n",
    "    def setDateAndTime(day: Int, month: Int, year: Int, \n",
    "                        hour: Int, minute: Int, second: Int): Unit\n",
    "    def getLocalDateTime(): LocalDateTime\n",
    "    \n",
    "    def getZonedDateTime(zoneString: String): ZonedDateTime = {\n",
    "        ZonedDateTime.of(getLocalDateTime(), TimeClient.getZoneId(zoneString))\n",
    "    }\n",
    "}\n",
    "\n",
    "object TimeClient {\n",
    "    def getZoneId (zoneString: String): ZoneId = {\n",
    "        try {\n",
    "            return ZoneId.of(zoneString);\n",
    "        } catch {\n",
    "           case e: DateTimeException =>\n",
    "             System.err.println(\"Invalid time zone: \" + zoneString +\n",
    "                \"; using default time zone instead.\")\n",
    "            return ZoneId.systemDefault()\n",
    "        }\n",
    "    }\n",
    "}"
   ]
  },
  {
   "cell_type": "markdown",
   "metadata": {},
   "source": [
    "### Inheritance Hierarchy\n",
    "\n",
    "In Java: \n",
    "![Java Inheritance Hierarchy](https://docs.oracle.com/javase/tutorial/figures/java/classes-object.gif)"
   ]
  },
  {
   "cell_type": "markdown",
   "metadata": {},
   "source": [
    "In Scala: \n",
    "![](https://docs.scala-lang.org/resources/images/tour/unified-types-diagram.svg)"
   ]
  },
  {
   "cell_type": "markdown",
   "metadata": {},
   "source": [
    "https://www.scala-lang.org/api/2.12.10/scala/Any.html"
   ]
  },
  {
   "cell_type": "code",
   "execution_count": null,
   "metadata": {},
   "outputs": [],
   "source": [
    "var any: Any = \"...\"\n",
    "any.toString\n",
    "any.equals(any)\n",
    "any.hashCode"
   ]
  },
  {
   "cell_type": "markdown",
   "metadata": {},
   "source": [
    "# Generics\n",
    "\n",
    "https://docs.oracle.com/javase/tutorial/java/generics/index.html"
   ]
  },
  {
   "cell_type": "markdown",
   "metadata": {},
   "source": [
    "### Generic classes"
   ]
  },
  {
   "cell_type": "code",
   "execution_count": null,
   "metadata": {},
   "outputs": [],
   "source": [
    "/*\n",
    "List<String> list = new ArrayList<String>();\n",
    "list.add(\"hello\");\n",
    "String s = list.get(0);   \n",
    "*/"
   ]
  },
  {
   "cell_type": "code",
   "execution_count": null,
   "metadata": {},
   "outputs": [],
   "source": [
    "import scala.collection.mutable.ListBuffer\n",
    "\n",
    "var list: ListBuffer[String] = new ListBuffer[String]\n",
    "list += \"hello\"\n",
    "var s: String = list(0)"
   ]
  },
  {
   "cell_type": "code",
   "execution_count": null,
   "metadata": {},
   "outputs": [],
   "source": [
    "// Type inference!\n",
    "var list: ListBuffer[String] = new ListBuffer\n",
    "list += \"hello\"\n",
    "var s = list(0)"
   ]
  },
  {
   "cell_type": "markdown",
   "metadata": {},
   "source": [
    "### Generic methods"
   ]
  },
  {
   "cell_type": "code",
   "execution_count": null,
   "metadata": {},
   "outputs": [],
   "source": [
    "/*\n",
    "public class Pair<K, V> {\n",
    "\n",
    "    private K key;\n",
    "    private V value;\n",
    "\n",
    "    public Pair(K key, V value) {\n",
    "        this.key = key;\n",
    "        this.value = value;\n",
    "    }\n",
    "\n",
    "    public void setKey(K key) { this.key = key; }\n",
    "    public void setValue(V value) { this.value = value; }\n",
    "    public K getKey()   { return key; }\n",
    "    public V getValue() { return value; }\n",
    "}\n",
    "\n",
    "public class Util {\n",
    "    public static <K, V> boolean compare(Pair<K, V> p1, Pair<K, V> p2) {\n",
    "        return p1.getKey().equals(p2.getKey()) &&\n",
    "               p1.getValue().equals(p2.getValue());\n",
    "    }\n",
    "}\n",
    "*/"
   ]
  },
  {
   "cell_type": "code",
   "execution_count": null,
   "metadata": {},
   "outputs": [],
   "source": [
    "class Pair[K, V](\n",
    "    var key: K, \n",
    "    var value: V)\n",
    "\n",
    "object Util {\n",
    "    def compare[K, V](p1: Pair[K, V], p2: Pair[K, V]): Boolean = {\n",
    "        p1.key.equals(p2.key) &&\n",
    "        p1.value.equals(p2.value)\n",
    "    }\n",
    "}\n"
   ]
  },
  {
   "cell_type": "code",
   "execution_count": null,
   "metadata": {},
   "outputs": [],
   "source": [
    "var p1: Pair[Int, String] = new Pair[Int, String](1, \"\")"
   ]
  },
  {
   "cell_type": "code",
   "execution_count": null,
   "metadata": {},
   "outputs": [],
   "source": [
    "// With type inference\n",
    "var p1: Pair[Int, String] = new Pair(1, \"\")"
   ]
  },
  {
   "cell_type": "markdown",
   "metadata": {},
   "source": [
    "### Bounded type parameters"
   ]
  },
  {
   "cell_type": "markdown",
   "metadata": {},
   "source": [
    "[java.lang.Comparable](https://docs.oracle.com/javase/8/docs/api/java/lang/Comparable.html)"
   ]
  },
  {
   "cell_type": "code",
   "execution_count": null,
   "metadata": {},
   "outputs": [],
   "source": [
    "/*\n",
    "public interface Comparable<T> {\n",
    "    public int compareTo(T o);\n",
    "}\n",
    "\n",
    "public static <T extends Comparable<T>> int countGreaterThan(T[] anArray, T elem) {\n",
    "    int count = 0;\n",
    "    for (T e : anArray)\n",
    "        if (e.compareTo(elem) > 0)\n",
    "            ++count;\n",
    "    return count;\n",
    "}\n",
    "*/"
   ]
  },
  {
   "cell_type": "code",
   "execution_count": null,
   "metadata": {},
   "outputs": [],
   "source": [
    "def countGreaterThan[T <: Comparable[T]](anArray: Array[T], elem: T): Int = {\n",
    "    var count: Int = 0\n",
    "    for (e <- anArray)\n",
    "        if (e.compareTo(elem) > 0)\n",
    "            count += 1\n",
    "    count\n",
    "}"
   ]
  },
  {
   "cell_type": "code",
   "execution_count": null,
   "metadata": {},
   "outputs": [],
   "source": [
    "// Integer = java.lang.Integer\n",
    "// 2: scala.Int\n",
    "\n",
    "var array1: Array[Integer] = Array(1,2,3,4,5)\n",
    "countGreaterThan[Integer](array1, 2)\n",
    "countGreaterThan(array1, 2: Integer)\n",
    "\n",
    "var array2: Array[java.lang.String] = Array(\"a\", \"b\", \"c\", \"d\")\n",
    "countGreaterThan(array2, \"b\")"
   ]
  },
  {
   "cell_type": "markdown",
   "metadata": {},
   "source": [
    "Also for classes:"
   ]
  },
  {
   "cell_type": "code",
   "execution_count": null,
   "metadata": {},
   "outputs": [],
   "source": [
    "/*\n",
    "public class NaturalNumber<T extends Integer> {\n",
    "\n",
    "    private T n;\n",
    "\n",
    "    public NaturalNumber(T n)  { this.n = n; }\n",
    "\n",
    "    public boolean isEven() {\n",
    "        return n.intValue() % 2 == 0;\n",
    "    }\n",
    "\n",
    "    // ...\n",
    "}\n",
    "*/"
   ]
  },
  {
   "cell_type": "code",
   "execution_count": null,
   "metadata": {},
   "outputs": [],
   "source": [
    "class NaturalNumber[T <: Integer](\n",
    "    var n: T) {\n",
    "\n",
    "    def isEven(): Boolean =\n",
    "        n.intValue() % 2 == 0\n",
    "\n",
    "    // ...\n",
    "}"
   ]
  },
  {
   "cell_type": "markdown",
   "metadata": {},
   "source": [
    "### Variance (Scala)\n",
    "\n",
    "https://docs.scala-lang.org/tour/variances.html"
   ]
  },
  {
   "cell_type": "code",
   "execution_count": null,
   "metadata": {},
   "outputs": [],
   "source": [
    "abstract class Animal\n",
    "class Perro extends Animal\n",
    "class Doberman extends Perro\n",
    "class Gato extends Animal"
   ]
  },
  {
   "cell_type": "code",
   "execution_count": null,
   "metadata": {},
   "outputs": [],
   "source": [
    "val logan: Perro = new Perro\n",
    "val leo: Perro = new Perro\n",
    "val misifu: Gato = new Gato"
   ]
  },
  {
   "cell_type": "markdown",
   "metadata": {},
   "source": [
    "Some examples with Arrays (invariant in T): \n",
    "\n",
    "/*\n",
    "class Array[T]{ ... }\n",
    "*/"
   ]
  },
  {
   "cell_type": "code",
   "execution_count": null,
   "metadata": {},
   "outputs": [],
   "source": [
    "var arr1: Array[Perro] = Array(logan, leo)\n",
    "var arr2: Array[Animal] = Array(logan, misifu)"
   ]
  },
  {
   "cell_type": "code",
   "execution_count": null,
   "metadata": {},
   "outputs": [],
   "source": [
    "// Will this compile? No, it doesn't compile, since Array[T] is invariant in T\n",
    "// var arr3: Array[Animal] = arr1"
   ]
  },
  {
   "cell_type": "markdown",
   "metadata": {},
   "source": [
    "This compiles, how can it be?"
   ]
  },
  {
   "cell_type": "code",
   "execution_count": null,
   "metadata": {},
   "outputs": [],
   "source": [
    "arr1.:+(misifu)"
   ]
  },
  {
   "cell_type": "markdown",
   "metadata": {},
   "source": [
    "Check out the signature of [:+](https://www.scala-lang.org/api/2.11.12/#scala.Array)"
   ]
  },
  {
   "cell_type": "markdown",
   "metadata": {},
   "source": [
    "Some examples with [List](https://www.scala-lang.org/api/2.11.12/#scala.collection.immutable.List) (covariant in T)\n",
    "\n",
    "/* class List[+T] { ... } */"
   ]
  },
  {
   "cell_type": "code",
   "execution_count": null,
   "metadata": {},
   "outputs": [],
   "source": [
    "var lista1: List[Perro] = List(logan, leo)\n",
    "var lista2: List[Animal] = List(logan, misifu)\n",
    "\n",
    "// Compiles: class List[+T], covariant in T\n",
    "var lista3: List[Animal] = lista1"
   ]
  },
  {
   "cell_type": "code",
   "execution_count": null,
   "metadata": {},
   "outputs": [],
   "source": [
    "// Similarly to arrays, adding new elements may change the type of the list\n",
    "// Signature is like: def +:[B >: T](elem: B)(...): List[B]\n",
    "var lista2: List[Perro] = lista1.:+(leo)\n",
    "var lista3: List[Animal] = lista1.:+(misifu)"
   ]
  }
 ],
 "metadata": {
  "kernelspec": {
   "display_name": "Scala",
   "language": "scala",
   "name": "scala"
  },
  "language_info": {
   "codemirror_mode": "text/x-scala",
   "file_extension": ".sc",
   "mimetype": "text/x-scala",
   "name": "scala",
   "nbconvert_exporter": "script",
   "version": "2.13.3"
  }
 },
 "nbformat": 4,
 "nbformat_minor": 2
}
