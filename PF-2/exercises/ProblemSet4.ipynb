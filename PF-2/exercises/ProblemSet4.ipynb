{
 "cells": [
  {
   "cell_type": "markdown",
   "metadata": {},
   "source": [
    "# Declarative Programming @ URJC\n",
    "# Functional programming\n",
    "## Problem Set 4: The Curry-Howard correspondence"
   ]
  },
  {
   "cell_type": "code",
   "execution_count": 2,
   "metadata": {},
   "outputs": [
    {
     "data": {
      "text/plain": [
       "defined \u001b[32mtype\u001b[39m \u001b[36mNot\u001b[39m\n",
       "defined \u001b[32mtype\u001b[39m \u001b[36m<=>\u001b[39m"
      ]
     },
     "execution_count": 2,
     "metadata": {},
     "output_type": "execute_result"
    }
   ],
   "source": [
    "type Not[P] = P => Nothing\n",
    "type <=>[P, Q] = (P => Q, Q => P)"
   ]
  },
  {
   "cell_type": "markdown",
   "metadata": {},
   "source": [
    "## Exercise 1"
   ]
  },
  {
   "cell_type": "markdown",
   "metadata": {},
   "source": [
    "Prove the following theorems of intuitionistic propositional logic by implementing the corresponding\n",
    "functional programs:\n",
    "\n",
    "$\\vdash p \\vee (q \\wedge r) \\leftrightarrow (p \\vee q) \\wedge (p \\vee r)$\n",
    "\n",
    "$\\vdash (q \\vee r \\rightarrow p) \\leftrightarrow (q \\rightarrow p) \\wedge (r \\rightarrow p)$\n",
    "\n",
    "$\\vdash p \\vee q \\rightarrow \\neg p \\rightarrow q$ \n",
    "\n",
    "$\\vdash p \\vee q \\rightarrow q \\vee p$\n",
    "\n",
    "$\\vdash (p \\rightarrow \\neg q) \\rightarrow (p \\rightarrow q) \\rightarrow \\neg p$\n",
    "\n",
    "$\\vdash \\neg p \\rightarrow p \\rightarrow q$\n",
    "\n",
    "$\\vdash \\neg(p \\rightarrow q) \\rightarrow \\neg q$\n",
    "\n",
    "$\\vdash \\neg p \\rightarrow \\neg (p \\wedge q)$\n",
    "\n",
    "$\\vdash \\neg (p \\wedge q) \\rightarrow p \\rightarrow \\neg q$\n",
    "\n",
    "$\\vdash \\neg (p \\wedge \\neg p)$\n",
    "\n",
    "$\\vdash \\neg (p \\vee q) \\rightarrow \\neg p \\wedge \\neg q$\n",
    "\n",
    "$\\vdash \\neg p \\wedge \\neg q \\rightarrow \\neg (p \\vee q)$"
   ]
  },
  {
   "cell_type": "code",
   "execution_count": 12,
   "metadata": {},
   "outputs": [
    {
     "data": {
      "text/plain": [
       "defined \u001b[32mfunction\u001b[39m \u001b[36mproof\u001b[39m"
      ]
     },
     "execution_count": 12,
     "metadata": {},
     "output_type": "execute_result"
    }
   ],
   "source": [
    "def proof[P, Q, R]: Either[P, (Q, R)] <=> (Either[P, Q], Either[P, R]) = \n",
    "    (???,???) : (Either[P, (Q, R)] => (Either[P, Q], Either[P, R]) ,\n",
    "                ((Either[P, Q], Either[P, R]))=> Either[P, (Q, R)])"
   ]
  },
  {
   "cell_type": "code",
   "execution_count": 13,
   "metadata": {},
   "outputs": [
    {
     "data": {
      "text/plain": [
       "defined \u001b[32mfunction\u001b[39m \u001b[36mproof\u001b[39m"
      ]
     },
     "execution_count": 13,
     "metadata": {},
     "output_type": "execute_result"
    }
   ],
   "source": [
    "def proof[P, Q, R]: Either[P, (Q, R)] <=> (Either[P, Q], Either[P, R]) = \n",
    "    (??? : Either[P, (Q, R)] => (Either[P, Q], Either[P, R]) ,\n",
    "    (??? : ((Either[P, Q], Either[P, R]))=> Either[P, (Q, R)]))"
   ]
  },
  {
   "cell_type": "code",
   "execution_count": 16,
   "metadata": {},
   "outputs": [
    {
     "data": {
      "text/plain": [
       "defined \u001b[32mfunction\u001b[39m \u001b[36mproof\u001b[39m"
      ]
     },
     "execution_count": 16,
     "metadata": {},
     "output_type": "execute_result"
    }
   ],
   "source": [
    "def proof[P, Q, R]: Either[P, (Q, R)] <=> (Either[P, Q], Either[P, R]) = \n",
    "    (\n",
    "        (f1: Either[P, (Q, R)]) => \n",
    "            f1 match{\n",
    "                case Left(p:P)=> \n",
    "                    (??? : Either[P, Q], ??? : Either[P, R])\n",
    "                case Right(qr:(Q,R))=>\n",
    "                    (??? : Either[P, Q], ??? : Either[P, R])\n",
    "            }\n",
    "        \n",
    "        ,\n",
    "        \n",
    "    (??? : ((Either[P, Q], Either[P, R]))=> Either[P, (Q, R)]))"
   ]
  },
  {
   "cell_type": "code",
   "execution_count": 17,
   "metadata": {},
   "outputs": [
    {
     "data": {
      "text/plain": [
       "defined \u001b[32mfunction\u001b[39m \u001b[36mproof\u001b[39m"
      ]
     },
     "execution_count": 17,
     "metadata": {},
     "output_type": "execute_result"
    }
   ],
   "source": [
    "def proof[P, Q, R]: Either[P, (Q, R)] <=> (Either[P, Q], Either[P, R]) = \n",
    "    (\n",
    "        (f1: Either[P, (Q, R)]) => \n",
    "            f1 match{\n",
    "                case Left(p : P)=> \n",
    "                    (Left(p : P) : Either[P, Q],\n",
    "                     Left(p : P) : Either[P, R])\n",
    "                \n",
    "                case Right(qr : (Q,R))=>\n",
    "                    (Right(qr._1 : Q) : Either[P, Q], \n",
    "                     Right(qr._2 : R) : Either[P, R])\n",
    "            }\n",
    "        \n",
    "        ,\n",
    "        \n",
    "    (??? : ((Either[P, Q], Either[P, R]))=> Either[P, (Q, R)]))"
   ]
  },
  {
   "cell_type": "code",
   "execution_count": 18,
   "metadata": {},
   "outputs": [
    {
     "data": {
      "text/plain": [
       "defined \u001b[32mfunction\u001b[39m \u001b[36mproof\u001b[39m"
      ]
     },
     "execution_count": 18,
     "metadata": {},
     "output_type": "execute_result"
    }
   ],
   "source": [
    "def proof[P, Q, R]: Either[P, (Q, R)] <=> (Either[P, Q], Either[P, R]) = \n",
    "    (\n",
    "        {\n",
    "                case Left(p)=> \n",
    "                    (Left(p),\n",
    "                     Left(p))\n",
    "                \n",
    "                case Right((q,r))=>\n",
    "                    (Right(q), \n",
    "                     Right(r))\n",
    "            }\n",
    "        \n",
    "        ,\n",
    "        \n",
    "    (??? : ((Either[P, Q], Either[P, R]))=> Either[P, (Q, R)]))"
   ]
  },
  {
   "cell_type": "code",
   "execution_count": 2,
   "metadata": {},
   "outputs": [
    {
     "data": {
      "text/plain": [
       "defined \u001b[32mfunction\u001b[39m \u001b[36mproof\u001b[39m"
      ]
     },
     "execution_count": 2,
     "metadata": {},
     "output_type": "execute_result"
    }
   ],
   "source": [
    "def proof[P, Q, R]: (Either[Q, R] => P) <=> (Q => P, R => P) = ???"
   ]
  },
  {
   "cell_type": "code",
   "execution_count": 3,
   "metadata": {},
   "outputs": [
    {
     "data": {
      "text/plain": [
       "defined \u001b[32mfunction\u001b[39m \u001b[36mproof\u001b[39m"
      ]
     },
     "execution_count": 3,
     "metadata": {},
     "output_type": "execute_result"
    }
   ],
   "source": [
    "def proof[P, Q]: Either[P, Q] => (P => Nothing) => Q = \n",
    "    {(e: Either[P,Q])=>\n",
    "        (notP: P=>Nothing)=>\n",
    "            e match{\n",
    "                case Left(p:P)=> notP(p):Q\n",
    "                case Right(q:Q)=>q:Q\n",
    "            }\n",
    "            \n",
    "    }"
   ]
  },
  {
   "cell_type": "code",
   "execution_count": 4,
   "metadata": {},
   "outputs": [
    {
     "data": {
      "text/plain": [
       "defined \u001b[32mfunction\u001b[39m \u001b[36mproof\u001b[39m"
      ]
     },
     "execution_count": 4,
     "metadata": {},
     "output_type": "execute_result"
    }
   ],
   "source": [
    "def proof[P, Q]: Either[P, Q] => Either[Q, P] = \n",
    "    (p1: Either[P,Q])=>\n",
    "            p1 match{\n",
    "                case Left(p:P)=>Right(p):Either[Q, P]\n",
    "                case Right(q:Q)=>Left(q):Either[Q, P]\n",
    "            }"
   ]
  },
  {
   "cell_type": "code",
   "execution_count": 2,
   "metadata": {},
   "outputs": [
    {
     "data": {
      "text/plain": [
       "defined \u001b[32mfunction\u001b[39m \u001b[36mproof\u001b[39m"
      ]
     },
     "execution_count": 2,
     "metadata": {},
     "output_type": "execute_result"
    }
   ],
   "source": [
    "def proof[P, Q]: (P => Not[Q]) => (P => Q) => Not[P] = \n",
    "    ??? : ((P => Not[Q]) => (P => Q) => Not[P])"
   ]
  },
  {
   "cell_type": "code",
   "execution_count": 3,
   "metadata": {},
   "outputs": [
    {
     "data": {
      "text/plain": [
       "defined \u001b[32mfunction\u001b[39m \u001b[36mproof\u001b[39m"
      ]
     },
     "execution_count": 3,
     "metadata": {},
     "output_type": "execute_result"
    }
   ],
   "source": [
    "def proof[P, Q]: (P => Not[Q]) => (P => Q) => Not[P] = \n",
    "    (p1 : P => Not[Q]) =>\n",
    "        ??? :((P => Q) => Not[P])"
   ]
  },
  {
   "cell_type": "code",
   "execution_count": 6,
   "metadata": {},
   "outputs": [
    {
     "data": {
      "text/plain": [
       "defined \u001b[32mfunction\u001b[39m \u001b[36mproof\u001b[39m"
      ]
     },
     "execution_count": 6,
     "metadata": {},
     "output_type": "execute_result"
    }
   ],
   "source": [
    "def proof[P, Q]: (P => Not[Q]) => (P => Q) => Not[P] = \n",
    "    (p1 : P => Not[Q]) =>\n",
    "        (p2 :P => Q)=>\n",
    "            ??? : P => Nothing"
   ]
  },
  {
   "cell_type": "code",
   "execution_count": 8,
   "metadata": {},
   "outputs": [
    {
     "data": {
      "text/plain": [
       "defined \u001b[32mfunction\u001b[39m \u001b[36mproof\u001b[39m"
      ]
     },
     "execution_count": 8,
     "metadata": {},
     "output_type": "execute_result"
    }
   ],
   "source": [
    "def proof[P, Q]: (P => Not[Q]) => (P => Q) => Not[P] = \n",
    "    (p1 : P => Q => Nothing) =>\n",
    "        (p2 :P => Q)=>\n",
    "            (p : P) => (p1(p : P)(p2(p : P): Q) : Nothing)"
   ]
  },
  {
   "cell_type": "code",
   "execution_count": 9,
   "metadata": {},
   "outputs": [
    {
     "data": {
      "text/plain": [
       "defined \u001b[32mfunction\u001b[39m \u001b[36mproof\u001b[39m"
      ]
     },
     "execution_count": 9,
     "metadata": {},
     "output_type": "execute_result"
    }
   ],
   "source": [
    "def proof[P, Q]: (P => Not[Q]) => (P => Q) => Not[P] = \n",
    "    p1 =>\n",
    "        p2=>\n",
    "            p => p1(p)(p2(p))"
   ]
  },
  {
   "cell_type": "code",
   "execution_count": 4,
   "metadata": {},
   "outputs": [
    {
     "data": {
      "text/plain": [
       "defined \u001b[32mfunction\u001b[39m \u001b[36mproof\u001b[39m"
      ]
     },
     "execution_count": 4,
     "metadata": {},
     "output_type": "execute_result"
    }
   ],
   "source": [
    "def proof[P, Q]: Not[P] => P => Q = \n",
    "    (notP: P => Nothing)=>\n",
    "        (p: P)=>notP(p)\n",
    "                 "
   ]
  },
  {
   "cell_type": "code",
   "execution_count": 1,
   "metadata": {},
   "outputs": [
    {
     "data": {
      "text/plain": [
       "defined \u001b[32mfunction\u001b[39m \u001b[36mproof\u001b[39m"
      ]
     },
     "execution_count": 1,
     "metadata": {},
     "output_type": "execute_result"
    }
   ],
   "source": [
    "def proof[P, Q]: ((P => Q)=> Nothing)=> Q=> Nothing = \n",
    "    (f1: (P => Q) => Nothing)=>\n",
    "        (q:Q)=>\n",
    "               f1((p:P)=>q)\n",
    "                        "
   ]
  },
  {
   "cell_type": "code",
   "execution_count": 5,
   "metadata": {},
   "outputs": [
    {
     "data": {
      "text/plain": [
       "defined \u001b[32mfunction\u001b[39m \u001b[36mproof\u001b[39m"
      ]
     },
     "execution_count": 5,
     "metadata": {},
     "output_type": "execute_result"
    }
   ],
   "source": [
    "def proof[P, Q]: Not[P] => Not[(P, Q)] = \n",
    "    ??? : (Not[P] => Not[(P, Q)])"
   ]
  },
  {
   "cell_type": "code",
   "execution_count": 7,
   "metadata": {},
   "outputs": [
    {
     "data": {
      "text/plain": [
       "defined \u001b[32mfunction\u001b[39m \u001b[36mproof\u001b[39m"
      ]
     },
     "execution_count": 7,
     "metadata": {},
     "output_type": "execute_result"
    }
   ],
   "source": [
    "def proof[P, Q]: Not[P] => Not[(P, Q)] = \n",
    "     (notP : P => Nothing) => \n",
    "            (pAndq : (P, Q)) => \n",
    "                notP(pAndq._1 : P) : Nothing"
   ]
  },
  {
   "cell_type": "code",
   "execution_count": 8,
   "metadata": {},
   "outputs": [
    {
     "data": {
      "text/plain": [
       "defined \u001b[32mfunction\u001b[39m \u001b[36mproof\u001b[39m"
      ]
     },
     "execution_count": 8,
     "metadata": {},
     "output_type": "execute_result"
    }
   ],
   "source": [
    "def proof[P, Q]: Not[(P, Q)] => P => Not[Q] = \n",
    "    ??? : (Not[(P, Q)] => (P => Not[Q]))"
   ]
  },
  {
   "cell_type": "code",
   "execution_count": 9,
   "metadata": {},
   "outputs": [
    {
     "data": {
      "text/plain": [
       "defined \u001b[32mfunction\u001b[39m \u001b[36mproof\u001b[39m"
      ]
     },
     "execution_count": 9,
     "metadata": {},
     "output_type": "execute_result"
    }
   ],
   "source": [
    "def proof[P, Q]: Not[(P, Q)] => P => Not[Q] = \n",
    "    (notPandQ : Not[(P, Q)]) => \n",
    "        ??? : (P => Not[Q])"
   ]
  },
  {
   "cell_type": "code",
   "execution_count": 10,
   "metadata": {},
   "outputs": [
    {
     "data": {
      "text/plain": [
       "defined \u001b[32mfunction\u001b[39m \u001b[36mproof\u001b[39m"
      ]
     },
     "execution_count": 10,
     "metadata": {},
     "output_type": "execute_result"
    }
   ],
   "source": [
    "def proof[P, Q]: Not[(P, Q)] => P => Not[Q] = \n",
    "    (notPandQ : Not[(P, Q)]) => \n",
    "        (p : P) => ??? : Not[Q]"
   ]
  },
  {
   "cell_type": "code",
   "execution_count": 11,
   "metadata": {},
   "outputs": [
    {
     "data": {
      "text/plain": [
       "defined \u001b[32mfunction\u001b[39m \u001b[36mproof\u001b[39m"
      ]
     },
     "execution_count": 11,
     "metadata": {},
     "output_type": "execute_result"
    }
   ],
   "source": [
    "def proof[P, Q]: Not[(P, Q)] => P => Not[Q] = \n",
    "    (notPandQ : ((P, Q))=> Nothing) => \n",
    "        (p : P) => \n",
    "            (q : Q) => notPandQ(??? : (P,Q)) : Nothing"
   ]
  },
  {
   "cell_type": "code",
   "execution_count": 12,
   "metadata": {},
   "outputs": [
    {
     "data": {
      "text/plain": [
       "defined \u001b[32mfunction\u001b[39m \u001b[36mproof\u001b[39m"
      ]
     },
     "execution_count": 12,
     "metadata": {},
     "output_type": "execute_result"
    }
   ],
   "source": [
    "def proof[P, Q]: Not[(P, Q)] => P => Not[Q] = \n",
    "    (notPandQ : ((P, Q))=> Nothing) => \n",
    "        (p : P) => \n",
    "            (q : Q) => notPandQ((p : P, q : Q)) : Nothing"
   ]
  },
  {
   "cell_type": "code",
   "execution_count": 5,
   "metadata": {},
   "outputs": [
    {
     "data": {
      "text/plain": [
       "defined \u001b[32mfunction\u001b[39m \u001b[36mproof\u001b[39m"
      ]
     },
     "execution_count": 5,
     "metadata": {},
     "output_type": "execute_result"
    }
   ],
   "source": [
    "def proof[P]: (P, P => Nothing)=>Nothing = \n",
    "    (p:P,fnotP:P => Nothing )=>\n",
    "        fnotP(p)\n",
    "        "
   ]
  },
  {
   "cell_type": "code",
   "execution_count": 3,
   "metadata": {},
   "outputs": [
    {
     "data": {
      "text/plain": [
       "defined \u001b[32mfunction\u001b[39m \u001b[36mproof\u001b[39m"
      ]
     },
     "execution_count": 3,
     "metadata": {},
     "output_type": "execute_result"
    }
   ],
   "source": [
    "def proof[P, Q]: Not[Either[P, Q]] => (Not[P], Not[Q]) = \n",
    "    (notPoq:Either[P, Q]=>Nothing)=>\n",
    "        (p => notPoq(Left(p)),q => notPoq(Right(q)))"
   ]
  },
  {
   "cell_type": "code",
   "execution_count": 6,
   "metadata": {},
   "outputs": [
    {
     "data": {
      "text/plain": [
       "defined \u001b[32mfunction\u001b[39m \u001b[36mproof\u001b[39m"
      ]
     },
     "execution_count": 6,
     "metadata": {},
     "output_type": "execute_result"
    }
   ],
   "source": [
    "def proof[P, Q]: (P=> Nothing, Q=> Nothing) => Either[P, Q]=>Nothing = \n",
    "    (t1 :P=>Nothing,t2: Q=>Nothing)=>\n",
    "        ??? :Either[P, Q]=>Nothing  \n",
    "        "
   ]
  },
  {
   "cell_type": "code",
   "execution_count": 9,
   "metadata": {},
   "outputs": [
    {
     "data": {
      "text/plain": [
       "defined \u001b[32mfunction\u001b[39m \u001b[36mproof\u001b[39m"
      ]
     },
     "execution_count": 9,
     "metadata": {},
     "output_type": "execute_result"
    }
   ],
   "source": [
    "def proof[P, Q]: (P=> Nothing, Q=> Nothing) => Either[P, Q]=>Nothing = \n",
    "    (t1 :P=>Nothing,t2: Q=>Nothing)=>\n",
    "        (poq :Either[P, Q])=>\n",
    "            poq match{\n",
    "                case Left(p:P)=> t1(p) : Nothing \n",
    "                case Right(q:Q)=> t2(q) : Nothing \n",
    "            }  \n",
    "        "
   ]
  },
  {
   "cell_type": "markdown",
   "metadata": {},
   "source": [
    "## Exercise 2"
   ]
  },
  {
   "cell_type": "markdown",
   "metadata": {},
   "source": [
    "Proof the following theorem of classical logic assuming that the double negation law holds for proposition `P`:\n",
    "\n",
    "$ \\vdash (\\neg p \\rightarrow p) \\rightarrow p$"
   ]
  },
  {
   "cell_type": "code",
   "execution_count": 2,
   "metadata": {},
   "outputs": [
    {
     "data": {
      "text/plain": [
       "defined \u001b[32mfunction\u001b[39m \u001b[36mproof\u001b[39m"
      ]
     },
     "execution_count": 2,
     "metadata": {},
     "output_type": "execute_result"
    }
   ],
   "source": [
    "def proof[P](dn: Not[Not[P]] => P): (Not[P] => P) => P =\n",
    "premise => dn(notP => notP(premise(notP)))"
   ]
  },
  {
   "cell_type": "markdown",
   "metadata": {},
   "source": [
    "## Exercise 3"
   ]
  },
  {
   "cell_type": "markdown",
   "metadata": {},
   "source": [
    "Proof the following theorems of intuitionistic propositional logic using functional programs: "
   ]
  },
  {
   "cell_type": "markdown",
   "metadata": {},
   "source": [
    "$ \\vdash (p \\rightarrow (q \\rightarrow r)) \\rightarrow (p \\rightarrow q) \\rightarrow p \\rightarrow r$"
   ]
  },
  {
   "cell_type": "markdown",
   "metadata": {},
   "source": [
    "$\\vdash \\neg \\neg \\neg p \\leftrightarrow \\neg p$"
   ]
  },
  {
   "attachments": {
    "image.png": {
     "image/png": "[encoded data removed]"
    }
   },
   "cell_type": "markdown",
   "metadata": {},
   "source": [
    "## Exercise 4\n",
    "\n",
    "\n",
    "Solve the following exercises (taken from the course on logic) using functional programming. \n",
    "\n",
    "![image.png](attachment:image.png)"
   ]
  },
  {
   "cell_type": "code",
   "execution_count": 20,
   "metadata": {},
   "outputs": [
    {
     "data": {
      "text/plain": [
       "defined \u001b[32mfunction\u001b[39m \u001b[36mproof\u001b[39m"
      ]
     },
     "execution_count": 20,
     "metadata": {},
     "output_type": "execute_result"
    }
   ],
   "source": [
    "def proof[P, Q, R, S](\n",
    "    p1: Either[P, Either[Q, R]], \n",
    "    p2: Either[Not[P], S], \n",
    "    p3: S => R): Not[Q] => R = \n",
    "    ??? : (Not[Q]=>R)"
   ]
  },
  {
   "cell_type": "code",
   "execution_count": 22,
   "metadata": {},
   "outputs": [
    {
     "data": {
      "text/plain": [
       "defined \u001b[32mfunction\u001b[39m \u001b[36mproof\u001b[39m"
      ]
     },
     "execution_count": 22,
     "metadata": {},
     "output_type": "execute_result"
    }
   ],
   "source": [
    "def proof[P, Q, R, S](\n",
    "    p1: Either[P, Either[Q, R]], \n",
    "    p2: Either[Not[P], S], \n",
    "    p3: S => R): Not[Q] => R = \n",
    "    \n",
    "    (notQ : Q => Nothing) => \n",
    "        (p1,p2)match{\n",
    "            case (Left(p: P),Left(noP: (P => Nothing)))=> ???\n",
    "            case (Left(p: P), Right(s: S))=> ???\n",
    "            case (Right(Left(q:Q)), Left(noP: (P => Nothing)))=> ???\n",
    "            case (Right(Left(q:Q)),Right(s: S)) => ???\n",
    "            case (Right(Right(r:R)),Left(noP: (P => Nothing)))=> ???\n",
    "            case (Right(Right(r:R)),Right(s: S))=> ???\n",
    "        } "
   ]
  },
  {
   "cell_type": "code",
   "execution_count": 25,
   "metadata": {},
   "outputs": [
    {
     "data": {
      "text/plain": [
       "defined \u001b[32mfunction\u001b[39m \u001b[36mproof\u001b[39m"
      ]
     },
     "execution_count": 25,
     "metadata": {},
     "output_type": "execute_result"
    }
   ],
   "source": [
    "def proof[P, Q, R, S](\n",
    "    p1: Either[P, Either[Q, R]], \n",
    "    p2: Either[Not[P], S], \n",
    "    p3: S => R): Not[Q] => R = \n",
    "    \n",
    "    (notQ : Q => Nothing) => \n",
    "        (p1,p2)match{\n",
    "            case (Left(p: P),Left(noP: (P => Nothing)))=> noP(p)\n",
    "            case (Left(p: P), Right(s: S))=> p3(s)\n",
    "            case (Right(Left(q:Q)), _ )=> notQ(q)\n",
    "            case (Right(Right(r:R)),_ )=> r\n",
    "        } "
   ]
  },
  {
   "cell_type": "code",
   "execution_count": 19,
   "metadata": {},
   "outputs": [
    {
     "data": {
      "text/plain": [
       "defined \u001b[32mfunction\u001b[39m \u001b[36mproof\u001b[39m"
      ]
     },
     "execution_count": 19,
     "metadata": {},
     "output_type": "execute_result"
    }
   ],
   "source": [
    "def proof[P, Q, R, S]: Either[P, Either[Q, R]] => Either[Not[P], S] => (S => R) => Not[Q] => R =\n",
    "    ???"
   ]
  },
  {
   "attachments": {
    "image.png": {
     "image/png": "[encoded data removed]"
    }
   },
   "cell_type": "markdown",
   "metadata": {},
   "source": [
    "![image.png](attachment:image.png)"
   ]
  },
  {
   "cell_type": "code",
   "execution_count": 11,
   "metadata": {},
   "outputs": [
    {
     "data": {
      "text/plain": [
       "defined \u001b[32mfunction\u001b[39m \u001b[36mproof\u001b[39m"
      ]
     },
     "execution_count": 11,
     "metadata": {},
     "output_type": "execute_result"
    }
   ],
   "source": [
    "def proof[P, Q, R](\n",
    "    p1: P => Either[Q, Not[R]], \n",
    "    p2: Either[R, Not[Q]], \n",
    "    p3: Not[Q] => R,\n",
    "    p4: R => Not[Q]): Not[P] = \n",
    "    \n",
    "    (p:P)=>\n",
    "        (p1(p),p2)match{\n",
    "            case (Left(q:Q),Right(notQ:(Q=> Nothing)))=>notQ(q): Nothing\n",
    "            case (Left(q:Q),Left(r:R))=>p4(r)(q): Nothing\n",
    "            case (Right(notR: (R => Nothing)),Right(notQ:(Q=> Nothing))) => notR(p3(notQ)):Nothing\n",
    "            case (Right(notR: (R => Nothing)),Left(r:R))=>notR(r): Nothing\n",
    "        }\n",
    "    "
   ]
  }
 ],
 "metadata": {
  "kernelspec": {
   "display_name": "Scala 2.12",
   "language": "scala",
   "name": "scala212"
  },
  "language_info": {
   "codemirror_mode": "text/x-scala",
   "file_extension": ".sc",
   "mimetype": "text/x-scala",
   "name": "scala",
   "nbconvert_exporter": "script",
   "version": "2.12.12"
  }
 },
 "nbformat": 4,
 "nbformat_minor": 4
}
