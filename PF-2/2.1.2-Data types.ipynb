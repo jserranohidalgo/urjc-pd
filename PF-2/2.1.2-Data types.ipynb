{
 "cells": [
  {
   "cell_type": "markdown",
   "metadata": {},
   "source": [
    "# 2.1.2 Algebraic data types"
   ]
  },
  {
   "cell_type": "markdown",
   "metadata": {},
   "source": [
    "User-defined types in object-oriented languages are specified through class or trait declarations. Types can also be specified from already existing user-defined types through the inheritance mechanism.  "
   ]
  },
  {
   "cell_type": "markdown",
   "metadata": {},
   "source": [
    "In functional programming, the rules for declaring new types are different: no inheritance or classes, just _products_, _sums_ and _exponentiation_ of types. Because of the correspondence with arithmetic (which goes beyond the terminology!), these types are called **algebraic data types** (ADTs). "
   ]
  },
  {
   "cell_type": "markdown",
   "metadata": {},
   "source": [
    "### References\n",
    "\n",
    "[__Programming in Scala, \n",
    "A comprehensive step-by-step guide__](https://www.artima.com/shop/programming_in_scala_3ed) Third Edition.\n",
    "by Martin Odersky, Lex Spoon, and Bill Venners. \n",
    "\n",
    "- Chapter 15. Case Classes and Pattern Matching\n",
    "\n",
    "__[Scala book (online)](https://docs.scala-lang.org/overviews/scala-book/introduction.html)__.\n",
    "\n",
    "- [Match Expressions](https://docs.scala-lang.org/overviews/scala-book/match-expressions.html)\n",
    "- [Case classes](https://docs.scala-lang.org/overviews/scala-book/case-classes.html)\n",
    "- [Case objects](https://docs.scala-lang.org/overviews/scala-book/case-objects.html)\n",
    "\n",
    "[__Functional programming simplified__](https://alvinalexander.com/downloads/fpsimplified-free-preview.pdf), by Alvin Alexander.\n",
    "\n",
    "- Chapters 19. Functional Programming as Algebra \n",
    "\n",
    "[__Tony Morris on ADTs__](https://about.chatroulette.com/posts/algebraic-data-types/)"
   ]
  },
  {
   "cell_type": "markdown",
   "metadata": {},
   "source": [
    "## Product types"
   ]
  },
  {
   "cell_type": "markdown",
   "metadata": {},
   "source": [
    "A value of product type $T_1 * T_2$ is created with a value of $T_1$ **and** a value of $T_2$. The constructor function is:\n",
    "  - `create: (T1, T2) -> T1 * T2` (create is a 2-ary function). \n",
    "\n",
    "Given a value of a product type, we can obtain back both values with observers:\n",
    "  - `fst: T1 * T2 -> T1` \n",
    "  - `snd: T1 * T2 -> T2`\n",
    "  \n"
   ]
  },
  {
   "cell_type": "markdown",
   "metadata": {},
   "source": [
    "### Scala case classes\n",
    "\n",
    "There are several things which are desirable to work with products/records:\n",
    " - Create new product objects without having to invoke `new`\n",
    " - Equality of product objects by value, not by reference\n",
    " - Off-the-shelf hash code\n",
    " - Pattern matching (more on this later on)\n"
   ]
  },
  {
   "cell_type": "markdown",
   "metadata": {},
   "source": [
    "Scala can make all of this for us automatically, using so-called `case classes`: "
   ]
  },
  {
   "cell_type": "code",
   "execution_count": null,
   "metadata": {},
   "outputs": [],
   "source": [
    "case class Rectangle(width: Int, height: Int)\n",
    "case class Circle(radius: Int)\n",
    "case class Triangle(width: Int)"
   ]
  },
  {
   "cell_type": "markdown",
   "metadata": {},
   "source": [
    "This declaration of the `Rectangle` record is essentially equivalent to what we did manually: the `case` keyword tells the Scala compiler to generate a companion object with an `apply` constructor; override the `equals` and `hashCode` methods, among other things."
   ]
  },
  {
   "cell_type": "code",
   "execution_count": null,
   "metadata": {},
   "outputs": [],
   "source": [
    "Rectangle(1,1) == Rectangle(1,1)"
   ]
  },
  {
   "cell_type": "code",
   "execution_count": null,
   "metadata": {},
   "outputs": [],
   "source": [
    "Rectangle(1,1).hashCode"
   ]
  },
  {
   "cell_type": "markdown",
   "metadata": {},
   "source": [
    "### Standard products in Scala: `TupleN` classes"
   ]
  },
  {
   "cell_type": "markdown",
   "metadata": {},
   "source": [
    "The standard library of Scala has already defined for us generic case classes that represent the n-ary products (up to 22). The rough definition of `Tuple2` goes like this:"
   ]
  },
  {
   "cell_type": "code",
   "execution_count": null,
   "metadata": {},
   "outputs": [],
   "source": [
    "object Std{\n",
    "    case class Tuple2[A, B](_1: A, _2: B)\n",
    "}"
   ]
  },
  {
   "cell_type": "markdown",
   "metadata": {},
   "source": [
    "And Scala offers syntactic sugar, both for Tuple types and values. So, instead of writing something like this: "
   ]
  },
  {
   "cell_type": "code",
   "execution_count": null,
   "metadata": {},
   "outputs": [],
   "source": [
    "val t3: Tuple3[Int, String, Boolean] = Tuple3(1, \"uno\", true)"
   ]
  },
  {
   "cell_type": "markdown",
   "metadata": {},
   "source": [
    "we can write it as follows:"
   ]
  },
  {
   "cell_type": "code",
   "execution_count": null,
   "metadata": {},
   "outputs": [],
   "source": [
    "val a: (Int, String, Boolean) = (1, \"uno\", true)"
   ]
  },
  {
   "cell_type": "markdown",
   "metadata": {},
   "source": [
    "### Why are products called _algebraic_?"
   ]
  },
  {
   "cell_type": "markdown",
   "metadata": {},
   "source": [
    "This is an example to illustrate the analogy between algebraic data types and arithmetic."
   ]
  },
  {
   "cell_type": "code",
   "execution_count": null,
   "metadata": {},
   "outputs": [],
   "source": [
    "// Number of values of Boolean type: 2\n",
    "true: Boolean\n",
    "false: Boolean \n",
    "\n",
    "// Number of values of (Boolean, Boolean) type: 2 * 2 \n",
    "(true, true): (Boolean, Boolean)\n",
    "(true, false): (Boolean, Boolean)\n",
    "(false, false): (Boolean, Boolean)\n",
    "(false, true): (Boolean, Boolean)"
   ]
  },
  {
   "cell_type": "markdown",
   "metadata": {},
   "source": [
    "In general, types may be regarded as sets of values. Then, the cardinal of $A * B$, for types $A$ and $B$ is: $|A * B| = |A| * |B|$."
   ]
  },
  {
   "cell_type": "markdown",
   "metadata": {},
   "source": [
    "If product types are analogous to number multiplication, then, is there any type which corresponds to the number 1, i.e. the neutral element of the multiplication? It has to be a type $1$ such that $A*1 \\cong A \\cong 1*A$, where the sign $\\cong$ represents the _isomorphism_ of types, i.e. the types do not need to be equal but there should be a 1-1 mapping (a bijection) between the values of $A*1$ and $A$. Since the type $1$ has to comply with the identity rules, we have that $|A*1| = |A|$, but then $|A| * |1| = |A|$. So, $|1| = 1$, i.e. $1$ must be the type with just one value, i.e. the equivalent to the singleton set. \n"
   ]
  },
  {
   "cell_type": "markdown",
   "metadata": {},
   "source": [
    "This type already exists in the Scala standard library, and it's called `Unit`, and its only value is `()`:"
   ]
  },
  {
   "cell_type": "code",
   "execution_count": null,
   "metadata": {},
   "outputs": [],
   "source": [
    "val unit: Unit = ()"
   ]
  },
  {
   "cell_type": "markdown",
   "metadata": {},
   "source": [
    "The isomorphism $Boolean * 1 \\cong Boolean$ is witnessed by the following functions: "
   ]
  },
  {
   "cell_type": "code",
   "execution_count": null,
   "metadata": {},
   "outputs": [],
   "source": [
    "def from(p: (Boolean, Unit)): Boolean = \n",
    "    p._1\n",
    "\n",
    "def to(b: Boolean): (Boolean, Unit) = \n",
    "    (b, ())"
   ]
  },
  {
   "cell_type": "markdown",
   "metadata": {},
   "source": [
    "which satisfy:\n",
    "- `from(to(b))=b`, for all `b: Boolean`, and \n",
    "- `to(from(b))=b` for all `b: (Boolean, Unit)`."
   ]
  },
  {
   "cell_type": "code",
   "execution_count": null,
   "metadata": {},
   "outputs": [],
   "source": [
    "from(to(true))==true\n",
    "from(to(false))==false\n",
    "to(from((true,())))==(true,())\n",
    "to(from((false,())))==(false,())"
   ]
  },
  {
   "cell_type": "markdown",
   "metadata": {},
   "source": [
    "Note that any function that returns a value of type `Unit` is completely useless from a purely functional perspective, since we already know in advance which is the (only possible) value that it returns: `()`. Therefore, if such a function makes sense is because it does something else than returning values: it must have some side effect, i.e. it has to be _impure_. This is also why we can say that `Unit` is the Scala equivalent to Java's `void`."
   ]
  },
  {
   "cell_type": "markdown",
   "metadata": {},
   "source": [
    "## Sum types       "
   ]
  },
  {
   "cell_type": "markdown",
   "metadata": {},
   "source": [
    "Besides multiplying types, we can also _sum_ types. Given types $A$ and $B$, the sum type $A + B$ represents **either** a value of type $A$ **or** a value of type $B$. Therefore, we have that \n",
    "\n",
    "$|A + B| = |A| + |B|$\n",
    "\n",
    "For instance (the symbol $:=$ is used to give a name to a type):"
   ]
  },
  {
   "cell_type": "markdown",
   "metadata": {},
   "source": [
    "- $MaybeInt := Int + 1$. A value of this type may be an integer; if it is not, then it is the unit value (a value that we use to signal that it is not an integer). So, $|MaybeInt| = |Int| + |1| = |Int| + 1$\n",
    "- $EitherIntOrString := Int + String$. A value of this type is either an integer or a string, i.e. $|EitherIntOrString| = |Int| + |String|$\n",
    "- $Shape := Circle + Rectangle + Triangle$. If we have a value of type $Shape$, then we have either a $Circle$, a $Triangle$ or a $Rectangle$. So, $|Shape| = |Circle| + |Triangle| + |Rectangle|$"
   ]
  },
  {
   "cell_type": "markdown",
   "metadata": {},
   "source": [
    "We create and observe values of a sum type $A + B$ with the following functions: \n",
    "- Injection functions: \n",
    "  - `injA: A -> A + B`\n",
    "  - `injB: B -> A + B`\n",
    "- Match function:\n",
    "  - `match: (A -> C) -> (B -> C) -> A + B -> C`\n",
    "  \n",
    "Note that the `match` function is a higher-order function. Basically, it says: if I know how to obtain a $C$ from $A$ (using function $A \\rightarrow C$), and I know how to obtain a $C$ from $B$, then I know how to obtain a $C$ from $A+B$ (since $A+B$ is either an $A$ or a $B$)."
   ]
  },
  {
   "cell_type": "markdown",
   "metadata": {},
   "source": [
    "### Sum types in Scala"
   ]
  },
  {
   "cell_type": "markdown",
   "metadata": {},
   "source": [
    "How do we define sum types in an object-oriented language like Scala? Basically, we need _inheritance_, but with a special twist: it has to be _sealed_."
   ]
  },
  {
   "cell_type": "code",
   "execution_count": null,
   "metadata": {},
   "outputs": [],
   "source": [
    "// type Shape = Rectangle + Triangle + Circle \n",
    "\n",
    "sealed abstract class Shape\n",
    "case class Rectangle(width: Int, height: Int) extends Shape\n",
    "case class Triangle(width: Int) extends Shape\n",
    "case class Circle(radius: Int) extends Shape"
   ]
  },
  {
   "cell_type": "markdown",
   "metadata": {},
   "source": [
    "As we already saw, the keyword `sealed` prevents the extension of the inheritance hierarchy with new subclasses. This guarantees that the sum type will remain consistent everywhere, i.e. that whenever we have an instance of `Shape` it will be either a rectangle, a circle or a triangle, and nothing else."
   ]
  },
  {
   "cell_type": "markdown",
   "metadata": {},
   "source": [
    "We create values of type `Shape` by using the constructors of its subclasses:"
   ]
  },
  {
   "cell_type": "code",
   "execution_count": null,
   "metadata": {},
   "outputs": [],
   "source": [
    "val s1: Shape = Rectangle(1,1)\n",
    "val s2: Shape = Triangle(1)\n",
    "val s3: Shape = Circle(2)"
   ]
  },
  {
   "cell_type": "markdown",
   "metadata": {},
   "source": [
    "And we _observe_ these values with _pattern matching_, as follows:"
   ]
  },
  {
   "cell_type": "code",
   "execution_count": null,
   "metadata": {},
   "outputs": [],
   "source": [
    "val s: String = s1 match {\n",
    "    // Rectangle => String\n",
    "    case r: Rectangle => \"Rectangle\" : String\n",
    "    // Triangle => String\n",
    "    case t: Triangle  => \"Triangle\"  : String \n",
    "    // Circle => String\n",
    "    case c: Circle    => \"Circle\"    : String\n",
    "}"
   ]
  },
  {
   "cell_type": "markdown",
   "metadata": {},
   "source": [
    "Each `case` declaration represents a function from the corresponding type to the common target result. Being `sealed`, the compiler can check whether some pattern matching expression is complete or not, and warn us in case it's not."
   ]
  },
  {
   "cell_type": "code",
   "execution_count": null,
   "metadata": {},
   "outputs": [],
   "source": [
    "// This is Almond specific. \n",
    "// Also, note that it's possible that this diretive does not work for some kernel versions\n",
    "interp.configureCompiler(_.settings.nowarn.value = false)"
   ]
  },
  {
   "cell_type": "code",
   "execution_count": null,
   "metadata": {},
   "outputs": [],
   "source": [
    "// A warning should be raised here\n",
    "val s: String = s1 match {\n",
    "    case r: Rectangle => \"R\"\n",
    "}"
   ]
  },
  {
   "cell_type": "markdown",
   "metadata": {},
   "source": [
    "### Standard sum types in Scala"
   ]
  },
  {
   "cell_type": "markdown",
   "metadata": {},
   "source": [
    "The standard library of Scala provides two important sum types: [`Option`](https://www.scala-lang.org/api/current/scala/Option.html) and [`Either`](https://www.scala-lang.org/api/current/scala/util/Either.html). They can be defined as follows: "
   ]
  },
  {
   "cell_type": "code",
   "execution_count": null,
   "metadata": {},
   "outputs": [],
   "source": [
    "object StdSumTypes{\n",
    "    sealed abstract class Option[A]\n",
    "    case class Some[A](a: A) extends Option[A]\n",
    "    case class None[A]() extends Option[A]\n",
    "\n",
    "    sealed abstract class Either[A, B]\n",
    "    case class Left[A, B](a: A) extends Either[A, B]\n",
    "    case class Right[A, B](b: B) extends Either[A, B]\n",
    "}"
   ]
  },
  {
   "cell_type": "markdown",
   "metadata": {},
   "source": [
    "These types are important for error handling. We will see how they allow us to get rid of exceptions, at least in the part of our code that we wish to be purely functional. Here it's a small example:"
   ]
  },
  {
   "cell_type": "code",
   "execution_count": null,
   "metadata": {},
   "outputs": [],
   "source": [
    "// Using exceptions\n",
    "\n",
    "def divideWithExceptions(a: Double, b: Double): Double =\n",
    "    if (b==0) throw new Exception(\"divide by cero\")\n",
    "    else a/b"
   ]
  },
  {
   "cell_type": "code",
   "execution_count": null,
   "metadata": {},
   "outputs": [],
   "source": [
    "// divideWithExceptions(5,0)"
   ]
  },
  {
   "cell_type": "code",
   "execution_count": null,
   "metadata": {},
   "outputs": [],
   "source": [
    "// Using option\n",
    "\n",
    "def divideWithOption(a: Double, b: Double): Option[Double] =\n",
    "    if (b==0) Option.empty[Double] // None\n",
    "    else Some(a/b)"
   ]
  },
  {
   "cell_type": "markdown",
   "metadata": {},
   "source": [
    "We now return a value which indicates whether there was an error or not:"
   ]
  },
  {
   "cell_type": "code",
   "execution_count": null,
   "metadata": {},
   "outputs": [],
   "source": [
    "val maybeDouble: Option[Double] = \n",
    "    divideWithOption(5, 0)"
   ]
  },
  {
   "cell_type": "code",
   "execution_count": null,
   "metadata": {},
   "outputs": [],
   "source": [
    "// Using Either\n",
    "\n",
    "def divideWithEither(a: Double, b: Double): Either[String, Double] =\n",
    "    if (b==0) Left(\"Divide by cero\")\n",
    "    else Right(a/b)"
   ]
  },
  {
   "cell_type": "markdown",
   "metadata": {},
   "source": [
    "And now a value which, in case of error indicates the reason:"
   ]
  },
  {
   "cell_type": "code",
   "execution_count": null,
   "metadata": {},
   "outputs": [],
   "source": [
    "val eitherDoubleOrString: Either[String, Double] = \n",
    "    divideWithEither(5,0)"
   ]
  },
  {
   "cell_type": "markdown",
   "metadata": {},
   "source": [
    "### The 0 type in Scala"
   ]
  },
  {
   "cell_type": "markdown",
   "metadata": {},
   "source": [
    "If the unit type was the identity element for product types, is there any identity type for sums? It has to be a type which satisfies the following conditions: \n",
    "\n",
    "- $0 + A \\cong A$\n",
    "- $A + 0 \\cong A$\n",
    "\n",
    "But $|0 + A| = |0| + |A|$, so $|0| = 0$, i.e. the type $0$ must inhabited. In other words, it is a type such that there is no value of that type. "
   ]
  },
  {
   "cell_type": "markdown",
   "metadata": {},
   "source": [
    "We don't have to define this type in Scala it ourselves, since the identity element of sums is already defined in the Scala standard library: it's the type `Nothing`. Since we can't create instances of this type, the only thing that we can do if we have to return a value of this type, or assign a variable of this type a value, is to throw an exception:"
   ]
  },
  {
   "cell_type": "code",
   "execution_count": null,
   "metadata": {},
   "outputs": [],
   "source": [
    "lazy val impossible: Nothing = \n",
    "    throw new Exception(\"no value of type Nothing\")"
   ]
  },
  {
   "cell_type": "markdown",
   "metadata": {},
   "source": [
    "The `???` expression in Scala means essentially an exception of type `Nothing`. Also, note that `Nothing` is the botton of the Scala inheritance hierarchy, i.e. `Nothing` is a subclass of any Scala class. That's why we can use `???` in place of any value in Scala."
   ]
  },
  {
   "cell_type": "code",
   "execution_count": null,
   "metadata": {},
   "outputs": [],
   "source": [
    "def i: Int = ??? // throw new Exception(\"no value\")"
   ]
  },
  {
   "cell_type": "markdown",
   "metadata": {},
   "source": [
    "The isomorphism $Int + 0 \\cong Int$ is witnessed by the following functions:"
   ]
  },
  {
   "cell_type": "code",
   "execution_count": null,
   "metadata": {},
   "outputs": [],
   "source": [
    "// IntOrNothing := Int + Nothing\n",
    "\n",
    "sealed abstract class IntOrNothing\n",
    "case class AnInt(i: Int) extends IntOrNothing\n",
    "case class Impossible(n: Nothing) extends IntOrNothing\n",
    "\n",
    "def fromInt(s: IntOrNothing): Int = \n",
    "    s match {\n",
    "        case AnInt(i) => i: Int\n",
    "        // case _ => (throw new Exception(\"It can't happen\")) : Nothing // Int\n",
    "    }\n",
    "\n",
    "def toIntOrNothing(i: Int): IntOrNothing = \n",
    "    AnInt(i)"
   ]
  },
  {
   "cell_type": "markdown",
   "metadata": {},
   "source": [
    "### More on pattern matching"
   ]
  },
  {
   "cell_type": "markdown",
   "metadata": {},
   "source": [
    "Let's implement a function that calculates the area of a shape:"
   ]
  },
  {
   "cell_type": "code",
   "execution_count": null,
   "metadata": {},
   "outputs": [],
   "source": [
    "import scala.math._\n",
    "\n",
    "def area(shape: Shape): Double = \n",
    "    shape match {\n",
    "        case r: Rectangle => r.width * r.height\n",
    "        case c: Circle => Pi * pow(c.radius, 2)\n",
    "        case t: Triangle => t.width * t.width / 2.0\n",
    "    }"
   ]
  },
  {
   "cell_type": "code",
   "execution_count": null,
   "metadata": {},
   "outputs": [],
   "source": [
    "area(Circle(1))\n",
    "area(Rectangle(2,3))\n",
    "area(Triangle(3))"
   ]
  },
  {
   "cell_type": "markdown",
   "metadata": {},
   "source": [
    "We can implement this function more conveniently, using extractors to _deconstruct_ the value and access more directly its member attributes: "
   ]
  },
  {
   "cell_type": "code",
   "execution_count": null,
   "metadata": {},
   "outputs": [],
   "source": [
    "def area(shape: Shape): Double = \n",
    "    shape match {\n",
    "        case Rectangle(w, h) => w * h\n",
    "        case Circle(r) => Pi * pow(r, 2)\n",
    "        case Triangle(w) => w * w / 2.0\n",
    "    }"
   ]
  },
  {
   "cell_type": "markdown",
   "metadata": {},
   "source": [
    "This can also be used in `val` declarations:"
   ]
  },
  {
   "cell_type": "code",
   "execution_count": null,
   "metadata": {},
   "outputs": [],
   "source": [
    "val r: Rectangle = Rectangle(1,2)\n",
    "val r1@Rectangle(w,h) : Rectangle = Rectangle(1,2)\n",
    "val Rectangle(w1,h1) = Rectangle(1,2)"
   ]
  },
  {
   "cell_type": "markdown",
   "metadata": {},
   "source": [
    "We can also use _guards_ in `case` branches:"
   ]
  },
  {
   "cell_type": "code",
   "execution_count": null,
   "metadata": {},
   "outputs": [],
   "source": [
    "def bigShape(s: Shape): String = \n",
    "    s match {\n",
    "        case Rectangle(w,h) if w+h > 10 => \"big rectangle\"\n",
    "        case Circle(r) if r > 100 => \"big circle\"\n",
    "        case _ => \"no big shape\"\n",
    "    }"
   ]
  },
  {
   "cell_type": "code",
   "execution_count": null,
   "metadata": {},
   "outputs": [],
   "source": [
    "bigShape(Rectangle(2,9))\n",
    "bigShape(Circle(1))\n",
    "bigShape(Triangle(2))"
   ]
  },
  {
   "cell_type": "markdown",
   "metadata": {},
   "source": [
    "We can pattern match on specific _values_ of variables: "
   ]
  },
  {
   "cell_type": "code",
   "execution_count": null,
   "metadata": {},
   "outputs": [],
   "source": [
    "def isRectangle(r: Shape, w: Int, h: Int): Boolean = \n",
    "    r match {\n",
    "        case Rectangle(`w`, `h`) => true\n",
    "        case _ => false\n",
    "    }"
   ]
  },
  {
   "cell_type": "code",
   "execution_count": null,
   "metadata": {},
   "outputs": [],
   "source": [
    "isRectangle(Rectangle(1,2),1,2)"
   ]
  },
  {
   "cell_type": "markdown",
   "metadata": {},
   "source": [
    "We can pattern match repeatedly until several levels of nesting:"
   ]
  },
  {
   "cell_type": "code",
   "execution_count": null,
   "metadata": {},
   "outputs": [],
   "source": [
    "def foo(s: Either[Either[Int, String], (Int, Either[String, Boolean])]): Boolean = \n",
    "    s match {\n",
    "        case Left(Left(i)) => ???\n",
    "        case Left(Right(s)) => ???\n",
    "        case Right((i, Left(s))) => ???\n",
    "        case Right((i, Right(b))) => ???\n",
    "    }"
   ]
  },
  {
   "cell_type": "markdown",
   "metadata": {},
   "source": [
    "This is actually more convenient than this way:"
   ]
  },
  {
   "cell_type": "code",
   "execution_count": null,
   "metadata": {},
   "outputs": [],
   "source": [
    "def foo(s: Either[Either[Int, String], (Int, Either[String, Boolean])]): Boolean = \n",
    "    s match {\n",
    "        case Left(l) => \n",
    "            l match {\n",
    "                case Left(i) => ???\n",
    "                case Right(s) => ???\n",
    "            }\n",
    "        case Right((i, e)) => \n",
    "            e match {\n",
    "                case Left(s) => ???\n",
    "                case Right(b) => ???\n",
    "            }\n",
    "    }"
   ]
  },
  {
   "cell_type": "markdown",
   "metadata": {},
   "source": [
    "Note that `(Int+String)+Int*(String+Boolean)` $\\cong$ `Int + String + Int*String + Int*Boolean`, i.e. four cases.\n"
   ]
  },
  {
   "cell_type": "markdown",
   "metadata": {},
   "source": [
    "More details on pattern matching in Scala can be found [here](https://docs.scala-lang.org/tour/pattern-matching.html). Also, note that we can create custom pattern matching expressions using so-called [_extractors_](https://docs.scala-lang.org/tour/extractor-objects.html). We won't need them in the course, but they can be really helpful to simplifiy and get more understandable pattern matching expressions. "
   ]
  },
  {
   "cell_type": "markdown",
   "metadata": {},
   "source": [
    "## Exponent types"
   ]
  },
  {
   "cell_type": "markdown",
   "metadata": {},
   "source": [
    "We already know how to build new types by _adding_ and _multiplying_ other types. We will see now that function types can be properly called _exponent_ types. Indeed, let's consider how many functions are there with type `Boolean => Boolean`:"
   ]
  },
  {
   "cell_type": "code",
   "execution_count": null,
   "metadata": {},
   "outputs": [],
   "source": [
    "// false -> false, true -> false\n",
    "val f1: Boolean => Boolean = \n",
    "    (x: Boolean) => false\n",
    "\n",
    "// false -> true, true -> true\n",
    "val f2: Boolean => Boolean = \n",
    "    (x: Boolean) => true\n",
    "\n",
    "// false -> false, true -> true \n",
    "val f3: Boolean => Boolean = \n",
    "    (x: Boolean) => x\n",
    "\n",
    "// false -> true, true -> false\n",
    "val f4: Boolean => Boolean = \n",
    "    (x: Boolean) => !x"
   ]
  },
  {
   "cell_type": "markdown",
   "metadata": {},
   "source": [
    "In general, $|X\\Rightarrow Y|=|Y|^{|X|}$, since for any $X$ we have $|Y|$ values available. But the correspondence with arithmetic exponents goes further, since the familiar laws of exponents:"
   ]
  },
  {
   "cell_type": "markdown",
   "metadata": {},
   "source": [
    "$$ \n",
    "\\begin{array}{rcl}\n",
    "X^0 & = & 1 \\\\\n",
    "1^X & = & 1 \\\\\n",
    "X^1 & = & X \\\\\n",
    "Z^{X+Y} & = &  Z^X * Z^Y \\\\\n",
    "Z^{X*Y} & = & Z^{Y^X} \\\\\n",
    "(Y*Z)^X & = & Y^X*Z^X \\\\\n",
    "\\end{array}\n",
    "$$\n",
    "\n"
   ]
  },
  {
   "cell_type": "markdown",
   "metadata": {},
   "source": [
    "can be recasted in terms of laws for algebraic data types as follows:"
   ]
  },
  {
   "cell_type": "markdown",
   "metadata": {},
   "source": [
    "$$ \n",
    "\\begin{array}{rcl}\n",
    "0 \\Rightarrow X & \\cong & 1 \\\\\n",
    "X \\Rightarrow 1 & \\cong & 1 \\\\\n",
    "1 \\Rightarrow X & \\cong & X \\\\\n",
    "(X+Y) \\Rightarrow Z & \\cong & (X \\Rightarrow Z) * (Y \\Rightarrow Z) \\\\\n",
    "(X*Y) \\Rightarrow Z & \\cong & X \\Rightarrow (Y \\Rightarrow Z) \\\\\n",
    "X \\Rightarrow Y*Z & \\cong & (X \\Rightarrow Y)*(X \\Rightarrow Z) \\\\\n",
    "\\end{array}\n",
    "$$\n",
    "\n"
   ]
  },
  {
   "cell_type": "markdown",
   "metadata": {},
   "source": [
    "And these isomorphisms hold! Let's see some examples."
   ]
  },
  {
   "cell_type": "markdown",
   "metadata": {},
   "source": [
    "## $X \\Rightarrow 1 \\cong 1$"
   ]
  },
  {
   "cell_type": "markdown",
   "metadata": {},
   "source": [
    "Essentially, this isomorphism tells us that we only have one implementation of the function type $X \\Rightarrow 1$, for any type $X$. Namely:"
   ]
  },
  {
   "cell_type": "code",
   "execution_count": null,
   "metadata": {},
   "outputs": [],
   "source": [
    "def f[X](b: X): Unit = \n",
    "    ()"
   ]
  },
  {
   "cell_type": "markdown",
   "metadata": {},
   "source": [
    "which agrees with the formula: $|X \\Rightarrow 1| = |1|^{|X|} = 1$."
   ]
  },
  {
   "cell_type": "markdown",
   "metadata": {},
   "source": [
    "## $0 \\Rightarrow X \\cong 1$"
   ]
  },
  {
   "cell_type": "markdown",
   "metadata": {},
   "source": [
    "The same happens for $0 \\Rightarrow X$, for any type $X$: "
   ]
  },
  {
   "cell_type": "code",
   "execution_count": null,
   "metadata": {},
   "outputs": [],
   "source": [
    "def f[X](n: Nothing): X = \n",
    "    n"
   ]
  },
  {
   "cell_type": "markdown",
   "metadata": {},
   "source": [
    "(recall that `Nothing <: X` for any `X` in Scala). This agrees with the arithmetic formula $|0 => X|=|X|^0=1$."
   ]
  },
  {
   "cell_type": "markdown",
   "metadata": {},
   "source": [
    "## $(Y+Z) \\Rightarrow X \\cong (Y \\Rightarrow X) * (Z \\Rightarrow X)$"
   ]
  },
  {
   "cell_type": "markdown",
   "metadata": {},
   "source": [
    "We show this isomorphism by implementing the following functions:"
   ]
  },
  {
   "cell_type": "code",
   "execution_count": null,
   "metadata": {},
   "outputs": [],
   "source": [
    "def from[X,Y,Z](a: Either[Y,Z] => X): (Y => X, Z => X) = \n",
    "    ((y: Y) => a(Left(y)), \n",
    "     (z: Z) => a(Right(z)))\n",
    "    "
   ]
  },
  {
   "cell_type": "code",
   "execution_count": null,
   "metadata": {},
   "outputs": [],
   "source": [
    "def to[X, Y, Z](a: (Y => X, Z => X)): Either[Y, Z] => X = \n",
    "    (x: Either[Y, Z]) => \n",
    "        x match { \n",
    "            case Left(y) => \n",
    "                a._1(y)\n",
    "            case Right(z) => \n",
    "                a._2(z)\n",
    "        }"
   ]
  },
  {
   "cell_type": "markdown",
   "metadata": {},
   "source": [
    "The last pattern matching can also be written more concisely using so-called [partial functions](https://www.scala-lang.org/api/current/scala/PartialFunction.html): "
   ]
  },
  {
   "cell_type": "code",
   "execution_count": null,
   "metadata": {},
   "outputs": [],
   "source": [
    "def to[X, Y, Z](a: (Y => X, Z => X)): Either[Y, Z] => X = \n",
    "    { \n",
    "        case Left(y) => \n",
    "            a._1(y)\n",
    "        case Right(z) => \n",
    "            a._2(z)\n",
    "    }"
   ]
  },
  {
   "cell_type": "markdown",
   "metadata": {},
   "source": [
    "(see this [post](https://alvinalexander.com/scala/how-to-define-use-partial-functions-in-scala-syntax-examples/) for more information on Scala partial functions)."
   ]
  },
  {
   "cell_type": "markdown",
   "metadata": {},
   "source": [
    "But we must also show, or at least _test_, that both functions are mutual inverses, i.e. that:\n",
    "\n",
    "`from(to(f)) == f`, for all `f: (Y => X, Z => X)`\n",
    "\n",
    "`to(from(f)) == f`, for all `f: Either[Y, Z] => X`\n",
    "\n",
    "We will perform some unit testing here with the following two functions:"
   ]
  },
  {
   "cell_type": "code",
   "execution_count": null,
   "metadata": {},
   "outputs": [],
   "source": [
    "def ex1(f: Either[Boolean, Boolean]): Boolean = \n",
    "    false\n",
    "\n",
    "val ex2: (Boolean => Boolean, Boolean => Boolean) = \n",
    "    (_ => false, _ => true)"
   ]
  },
  {
   "cell_type": "markdown",
   "metadata": {},
   "source": [
    "thus fixing types $X$, $Y$ and $Z$ to $Boolean$. Then, we need the following equality functions:"
   ]
  },
  {
   "cell_type": "code",
   "execution_count": null,
   "metadata": {},
   "outputs": [],
   "source": [
    "def equal0(f1: Boolean => Boolean, f2: Boolean => Boolean): Boolean = \n",
    "    f1(false) == f2(true) && \n",
    "    f1(true) == f2(true)\n",
    "\n",
    "def equal1(f1: (Boolean => Boolean, Boolean => Boolean), \n",
    "           f2: (Boolean => Boolean, Boolean => Boolean)): Boolean = \n",
    "    equal0(f1._1, f2._1) && equal0(f2._2, f2._2)\n",
    "    \n",
    "def equal2(f1: Either[Boolean, Boolean] => Boolean, \n",
    "           f2: Either[Boolean, Boolean] => Boolean): Boolean = \n",
    "    f1(Left(false)) == f2(Left(false)) &&\n",
    "    f1(Left(true)) == f2(Left(true)) &&\n",
    "    f1(Right(false)) == f2(Right(false)) &&\n",
    "    f1(Right(true)) == f2(Right(true))"
   ]
  },
  {
   "cell_type": "markdown",
   "metadata": {},
   "source": [
    "and, finally, we can perform our test: "
   ]
  },
  {
   "cell_type": "code",
   "execution_count": null,
   "metadata": {},
   "outputs": [],
   "source": [
    "equal1(from(to(ex2)), ex2)\n",
    "equal2(to(from(ex1)), ex1)"
   ]
  }
 ],
 "metadata": {
  "kernelspec": {
   "display_name": "Scala 2.12",
   "language": "scala",
   "name": "scala212"
  },
  "language_info": {
   "codemirror_mode": "text/x-scala",
   "file_extension": ".sc",
   "mimetype": "text/x-scala",
   "name": "scala",
   "nbconvert_exporter": "script",
   "version": "2.12.12"
  }
 },
 "nbformat": 4,
 "nbformat_minor": 2
}
