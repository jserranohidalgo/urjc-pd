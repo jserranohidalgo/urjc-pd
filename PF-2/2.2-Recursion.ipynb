{
 "cells": [
  {
   "cell_type": "markdown",
   "metadata": {},
   "source": [
    "# 2.2 Recursive data types and functions"
   ]
  },
  {
   "cell_type": "markdown",
   "metadata": {},
   "source": [
    "### References\n",
    "\n",
    "[__Programming in Scala, \n",
    "A comprehensive step-by-step guide__](https://www.artima.com/shop/programming_in_scala_3ed) Third Edition.\n",
    "by Martin Odersky, Lex Spoon, and Bill Venners. \n",
    "\n",
    "- Chapter 16. Working with Lists\n",
    "- Chapter 26. Extractors (optional)\n",
    "\n",
    "[__Functional programming in Scala__](https://www.manning.com/books/functional-programming-in-scala), by Paul Chiusano and Runar Bjarnason.\n",
    "\n",
    "- Chapter 3. Functional data structures\n",
    "\n",
    "[__Functional programming simplified__](https://alvinalexander.com/downloads/fpsimplified-free-preview.pdf), by Alvin Alexander.\n",
    "\n",
    "- Chapters 29-36. Recursion."
   ]
  },
  {
   "cell_type": "markdown",
   "metadata": {},
   "source": [
    "## Recursive types"
   ]
  },
  {
   "cell_type": "markdown",
   "metadata": {},
   "source": [
    "### The `List` type"
   ]
  },
  {
   "cell_type": "markdown",
   "metadata": {},
   "source": [
    "Lists are data structures which represent sequences of values of the same type, of finite length. They can be defined recursively in an informal way as follows: \n",
    "- A list is the empty sequence\n",
    "- A list is a non-empty sequence made of a value and another list, which represent the head and tail of the list, respectively\n",
    "\n",
    "Thus, the type `IntList`, which represents lists of integers, must satisfy the following algebraic equation:\n",
    "\n",
    "`IntList = 1 + Int * IntList`\n",
    "\n",
    "i.e., a list of integers is the empty sequence (represented by the singleton type `1`), or an integer (the head) and a list (its tail).\n",
    "\n"
   ]
  },
  {
   "cell_type": "markdown",
   "metadata": {},
   "source": [
    "The implementation in Scala is similar to the following one (we also give the generic version `List[A]`, rather than the implementation of `IntList`):"
   ]
  },
  {
   "cell_type": "code",
   "execution_count": 1,
   "metadata": {},
   "outputs": [
    {
     "name": "stderr",
     "output_type": "stream",
     "text": [
      "cmd1.sc:15: type mismatch;\n",
      " found   : ammonite.$sess.cmd1.Helper.StdDefinition2.NonEmpty.type\n",
      " required: ammonite.$sess.cmd1.Helper.StdDefinition2.List[Int]\n",
      "        NonEmpty(4,NonEmpty(5, NonEmpty(6, NonEmpty)))\n",
      "                                           ^Compilation Failed"
     ]
    },
    {
     "ename": "",
     "evalue": "",
     "output_type": "error",
     "traceback": [
      "Compilation Failed"
     ]
    }
   ],
   "source": [
    "object StdDefinition {\n",
    "    sealed abstract class IntList\n",
    "    case class Empty() extends IntList\n",
    "    case class NonEmpty(head:Int, tail: IntList) extends IntList\n",
    "}\n",
    "\n",
    "object StdDefinition2 {\n",
    "    sealed abstract class List[A]\n",
    "    case class Empty[A]() extends List[A]\n",
    "    case class NonEmpty[A](head:A, tail: List[A]) extends List[A]\n",
    "    \n",
    "    type IntList = List[Int]\n",
    "    \n",
    "    val l:List[Int]=\n",
    "        NonEmpty(4,NonEmpty(5, NonEmpty(6, NonEmpty)))\n",
    "}"
   ]
  },
  {
   "cell_type": "markdown",
   "metadata": {},
   "source": [
    "However the actual implementation of [immutable lists](https://github.com/scala/scala/blob/v2.13.1/src/library/scala/collection/immutable/List.scala#L79) in the standard library of Scala defines the empty list as an object, rather than a class. This forces us to declare the list covariantly in its generic parameter `A`, which is somewhat inconvenient at times.  The standard definition looks like as follows:"
   ]
  },
  {
   "cell_type": "code",
   "execution_count": null,
   "metadata": {},
   "outputs": [],
   "source": [
    "object ActualStdDefinition{\n",
    "    sealed abstract class List[+A]\n",
    "    case class ::[A](head: A, tail: List[A]) extends List[A]\n",
    "    case object Nil extends List[Nothing]\n",
    "}\n",
    "object ActualStdDefinition{\n",
    "    sealed abstract class List[+A]\n",
    "    case class ::[A](head: A, tail: List[A]) extends List[A]\n",
    "    case object Nil extends List[Nothing]\n",
    "}"
   ]
  },
  {
   "cell_type": "markdown",
   "metadata": {},
   "source": [
    "### Some syntactic sugar"
   ]
  },
  {
   "cell_type": "markdown",
   "metadata": {},
   "source": [
    "Note that we can write standard lists with a more compact syntax: "
   ]
  },
  {
   "cell_type": "code",
   "execution_count": null,
   "metadata": {},
   "outputs": [],
   "source": [
    "// Less beautifully \n",
    "val l1: List[Int] = ::(1, ::(2, ::(3, Nil)))\n",
    "\n",
    "// More idiomatically\n",
    "val l2: List[Int] = 1 :: 2 :: 3 :: Nil\n",
    "val l3: List[Int] = List(1,2,3)"
   ]
  },
  {
   "cell_type": "markdown",
   "metadata": {},
   "source": [
    "And can also pattern match lists, similarly:"
   ]
  },
  {
   "cell_type": "code",
   "execution_count": null,
   "metadata": {},
   "outputs": [],
   "source": [
    "// Less beautifully\n",
    "l1 match {\n",
    "    case Nil => 0\n",
    "    case ::(head, tail) => 1\n",
    "}\n",
    "\n",
    "// more idiomatically\n",
    "l1 match {\n",
    "    case Nil => 0\n",
    "    case head :: tail => 1\n",
    "}\n",
    "\n",
    "// or\n",
    "l1 match {\n",
    "    case List() => 0\n",
    "    case List(h1, h2, h3) => 1\n",
    "}"
   ]
  },
  {
   "cell_type": "markdown",
   "metadata": {},
   "source": [
    "##  Recursive functions"
   ]
  },
  {
   "cell_type": "markdown",
   "metadata": {},
   "source": [
    "Since lists are defined recursively, functions over lists will be commonly recursive as well. For instance, let's implement a recursive function that computes the length of a list. But before, let's implement the function imperatively for the sake of comparison:"
   ]
  },
  {
   "cell_type": "code",
   "execution_count": null,
   "metadata": {},
   "outputs": [],
   "source": [
    "// Using mutable variables\n",
    "\n",
    "def lengthI[A](list: List[A]): Int = {\n",
    "    var acc: Int = 0\n",
    "    var aux: List[A] = list\n",
    "    while (aux != Nil){\n",
    "        // Don't do this ...\n",
    "        aux = aux.asInstanceOf[::[A]].tail\n",
    "        acc += 1\n",
    "    }\n",
    "    acc\n",
    "}"
   ]
  },
  {
   "cell_type": "code",
   "execution_count": null,
   "metadata": {},
   "outputs": [],
   "source": [
    "lengthI(List())\n",
    "lengthI(List(1,2,3,4))"
   ]
  },
  {
   "cell_type": "markdown",
   "metadata": {},
   "source": [
    "The recursive function is implemented as follows: "
   ]
  },
  {
   "cell_type": "code",
   "execution_count": null,
   "metadata": {},
   "outputs": [],
   "source": [
    "// Using recursive functions\n",
    "\n",
    "def lengthR[A](list: List[A]): Int = \n",
    "    list match {\n",
    "        case Nil           => 0\n",
    "        case _ :: tail => 1 + lengthR(tail)\n",
    "    }"
   ]
  },
  {
   "cell_type": "markdown",
   "metadata": {},
   "source": [
    "Some comments: \n",
    "- The recursive function is implemented in a _type-driven development_ style: we proceed, step-by-step, analysing the types of input data that we have available so far, and the types of output that we have to generate. This leads to a divide-and-conquer problem solving strategy and hugely facilitates the implementation.\n",
    "- The recursive function is less efficient, since the stack will blow up with very long lists."
   ]
  },
  {
   "cell_type": "markdown",
   "metadata": {},
   "source": [
    "### Tail-recursive functions"
   ]
  },
  {
   "cell_type": "markdown",
   "metadata": {},
   "source": [
    "The implementation using tail-recursion solves the issues with the stack. It commonly makes use of auxiliary functions:"
   ]
  },
  {
   "cell_type": "code",
   "execution_count": null,
   "metadata": {},
   "outputs": [],
   "source": [
    "// Using tail-recursive functions\n",
    "\n",
    "def lengthTR[A](list: List[A]): Int = {\n",
    "\n",
    "    @annotation.tailrec\n",
    "    def lengthAux(acc: Int, aux: List[A]): Int = \n",
    "        aux match {\n",
    "            case Nil => acc\n",
    "            case _ :: tail => lengthAux(acc+1, tail)\n",
    "        }\n",
    "    \n",
    "    lengthAux(0, list)\n",
    "}"
   ]
  },
  {
   "cell_type": "code",
   "execution_count": null,
   "metadata": {},
   "outputs": [],
   "source": [
    "lengthTR(List())\n",
    "lengthTR(List(1,2,3))"
   ]
  },
  {
   "cell_type": "markdown",
   "metadata": {},
   "source": [
    "We can check the stack-safety problems of non-tail recursive functions by calculating the length of a very big list. We will use the following function, which creates a constant list of given length."
   ]
  },
  {
   "cell_type": "code",
   "execution_count": null,
   "metadata": {},
   "outputs": [],
   "source": [
    "// First, imperatively\n",
    "\n",
    "def constantList[A](value: A, length: Int): List[A] = {\n",
    "    var acc: List[A] = Nil\n",
    "    for (i <- 1 to length)\n",
    "        acc = value :: acc\n",
    "    acc\n",
    "}"
   ]
  },
  {
   "cell_type": "code",
   "execution_count": null,
   "metadata": {},
   "outputs": [],
   "source": [
    "// Next, tail-recursively\n",
    "\n",
    "def constantList[A](value: A, length: Int): List[A] = {\n",
    "\n",
    "    def constantAux(acc: List[A], i: Int): List[A] = \n",
    "        if (i == 0) acc\n",
    "        else constantAux(value :: acc, i-1)\n",
    "    \n",
    "    constantAux(Nil, length)\n",
    "}"
   ]
  },
  {
   "cell_type": "markdown",
   "metadata": {},
   "source": [
    "Now, let's calculate the length of a list long enough to blow up the stack, using each of the three implementations:"
   ]
  },
  {
   "cell_type": "code",
   "execution_count": null,
   "metadata": {},
   "outputs": [],
   "source": [
    "// Imperatively\n",
    "lengthI(constantList(0, 100000))"
   ]
  },
  {
   "cell_type": "code",
   "execution_count": null,
   "metadata": {},
   "outputs": [],
   "source": [
    "// Tail-recursive\n",
    " "
   ]
  },
  {
   "cell_type": "code",
   "execution_count": null,
   "metadata": {},
   "outputs": [],
   "source": [
    "// Plain recursive\n",
    "// lengthR(constantList(0, 10000))"
   ]
  },
  {
   "cell_type": "markdown",
   "metadata": {},
   "source": [
    "### Unit testing with `scalatest`"
   ]
  },
  {
   "cell_type": "code",
   "execution_count": null,
   "metadata": {},
   "outputs": [],
   "source": [
    "import $ivy.`org.scalatest::scalatest:3.0.8`\n",
    "import org.scalatest._"
   ]
  },
  {
   "cell_type": "markdown",
   "metadata": {},
   "source": [
    "From now on, we will also make extensive use of unit testing for the different functions that we implement. And we will use the [`scalatest`](http://www.scalatest.org/) library for that purpose. In particular, for each function we will implement a test catalogue that test it against different test cases. The test catalogue receives the actual function to be tested as a parameter. For instance, this is a possible test class for the `length` function:"
   ]
  },
  {
   "cell_type": "code",
   "execution_count": null,
   "metadata": {},
   "outputs": [],
   "source": [
    "class TestLength(lengthF: List[Int] => Int) extends FlatSpec with Matchers{\n",
    "    \"length\" should \"work\" in {\n",
    "        lengthF(List()) shouldBe 0 \n",
    "        lengthF(List(1)) shouldBe 1 \n",
    "        lengthF(List(1,2,3,4)) shouldBe 4\n",
    "    }\n",
    "}"
   ]
  },
  {
   "cell_type": "markdown",
   "metadata": {},
   "source": [
    "The method `shouldBe` is a _matcher_. The scalatest library offers an extensive catalogue of [them](http://www.scalatest.org/user_guide/using_matchers). Similarly, scalatest also support many different [testing styles](http://www.scalatest.org/user_guide/selecting_a_style). The chosen one here was `FlatSpec`. In order to execute the test catalogue we can simply use the scalatest method `run`:"
   ]
  },
  {
   "cell_type": "code",
   "execution_count": null,
   "metadata": {},
   "outputs": [],
   "source": [
    "run(new TestLength(lengthR))"
   ]
  },
  {
   "cell_type": "markdown",
   "metadata": {},
   "source": [
    "### Example: adding numbers"
   ]
  },
  {
   "cell_type": "markdown",
   "metadata": {},
   "source": [
    "Let's implement a function that sums all the numbers of a list."
   ]
  },
  {
   "cell_type": "code",
   "execution_count": null,
   "metadata": {},
   "outputs": [],
   "source": [
    "class TestSum(sum: List[Int] => Int) extends FlatSpec with Matchers{\n",
    "    \"sum\" should \"work\" in {\n",
    "        sum(List()) shouldBe 0 \n",
    "        sum(List(1)) shouldBe 1 \n",
    "        sum(List(1,2,3,4)) shouldBe 10\n",
    "    }\n",
    "}"
   ]
  },
  {
   "cell_type": "code",
   "execution_count": null,
   "metadata": {},
   "outputs": [],
   "source": [
    "// Recursively\n",
    "\n",
    "def sum(list: List[Int]): Int = \n",
    "    list match {\n",
    "        case Nil => 0 : Int\n",
    "        case head :: tail => head + sum(tail) : Int \n",
    "    }"
   ]
  },
  {
   "cell_type": "code",
   "execution_count": null,
   "metadata": {},
   "outputs": [],
   "source": [
    "run(new TestSum(sum))"
   ]
  },
  {
   "cell_type": "code",
   "execution_count": null,
   "metadata": {},
   "outputs": [],
   "source": [
    "// With tail-recursion\n",
    "\n",
    "def sumTR(list: List[Int]): Int = {\n",
    "\n",
    "    def sumAux(acc: Int, list: List[Int]): Int = \n",
    "        list match {\n",
    "            case Nil => acc : Int\n",
    "            case head :: tail => sumAux(head + acc, tail) : Int \n",
    "        }\n",
    "    \n",
    "    sumAux(0, list)\n",
    "}"
   ]
  },
  {
   "cell_type": "code",
   "execution_count": null,
   "metadata": {},
   "outputs": [],
   "source": [
    "run(new TestSum(sumTR))"
   ]
  },
  {
   "cell_type": "markdown",
   "metadata": {},
   "source": [
    "### Example: multiplying list elements"
   ]
  },
  {
   "cell_type": "markdown",
   "metadata": {},
   "source": [
    "Let's multiply the elements of a list. If the list is empty we return the identity element for integers."
   ]
  },
  {
   "cell_type": "code",
   "execution_count": null,
   "metadata": {},
   "outputs": [],
   "source": [
    "class TestProduct(product: List[Int] => Int) extends FlatSpec with Matchers{\n",
    "    \"product\" should \"work\" in {\n",
    "        product(List()) shouldBe 1 \n",
    "        product(List(1)) shouldBe 1 \n",
    "        product(List(1,2,3,4)) shouldBe 24\n",
    "        product(List(1,0,5,6,7)) shouldBe 0\n",
    "    }\n",
    "}"
   ]
  },
  {
   "cell_type": "markdown",
   "metadata": {},
   "source": [
    " This is the common recursive implementation:"
   ]
  },
  {
   "cell_type": "code",
   "execution_count": null,
   "metadata": {},
   "outputs": [],
   "source": [
    "def product(list: List[Int]): Int = \n",
    "    list match {\n",
    "        case Nil => 1\n",
    "        case head :: tail => \n",
    "            head * product(tail)\n",
    "    }"
   ]
  },
  {
   "cell_type": "code",
   "execution_count": null,
   "metadata": {},
   "outputs": [],
   "source": [
    "run(new TestProduct(product))"
   ]
  },
  {
   "cell_type": "markdown",
   "metadata": {},
   "source": [
    "But we can optimize the function a little bit. Note that if the number 0 belongs to the list, then the result is 0, no matter how many elements the list has. So, once we find the element 0 it's a waste of resources to make the recursive call. Let's take this into account."
   ]
  },
  {
   "cell_type": "code",
   "execution_count": null,
   "metadata": {},
   "outputs": [],
   "source": [
    "def product2(list: List[Int]): Int = \n",
    "    list match {\n",
    "        case Nil => 1\n",
    "        // We add this extra case\n",
    "        case 0 :: _ => 0\n",
    "        case head :: tail => head * product2(tail)\n",
    "    }"
   ]
  },
  {
   "cell_type": "code",
   "execution_count": null,
   "metadata": {},
   "outputs": [],
   "source": [
    "run(new TestProduct(product2))"
   ]
  },
  {
   "cell_type": "markdown",
   "metadata": {},
   "source": [
    "A similar optimization can be made for the tail-recursive implementation."
   ]
  },
  {
   "cell_type": "markdown",
   "metadata": {},
   "source": [
    "### Example: membership"
   ]
  },
  {
   "cell_type": "markdown",
   "metadata": {},
   "source": [
    "Let's implement a function that given a list and an element, returns whether the element belongs to that list."
   ]
  },
  {
   "cell_type": "code",
   "execution_count": null,
   "metadata": {},
   "outputs": [],
   "source": [
    "class TestMember(member: (List[Int], Int) => Boolean) extends FlatSpec with Matchers{\n",
    "    \"member\" should \"work\" in {\n",
    "        member(List(), 6) shouldBe false\n",
    "        member(List(1), 1) shouldBe true\n",
    "        member(List(1), 3) shouldBe false\n",
    "        member(List(1,2,3,4), 4) shouldBe true\n",
    "    }\n",
    "}"
   ]
  },
  {
   "cell_type": "code",
   "execution_count": null,
   "metadata": {},
   "outputs": [],
   "source": [
    "def member[A](list: List[A], elem: A): Boolean = \n",
    "    list match {\n",
    "        case Nil => false\n",
    "        case head :: tail => \n",
    "            head == elem || member(tail, elem)\n",
    "    }"
   ]
  },
  {
   "cell_type": "code",
   "execution_count": null,
   "metadata": {},
   "outputs": [],
   "source": [
    "run(new TestMember(member))"
   ]
  },
  {
   "cell_type": "markdown",
   "metadata": {},
   "source": [
    "We can also pattern match against a specific value as follows:"
   ]
  },
  {
   "cell_type": "code",
   "execution_count": null,
   "metadata": {},
   "outputs": [],
   "source": [
    "def member[A](list: List[A], elem: A): Boolean = \n",
    "    list match {\n",
    "        case Nil => false\n",
    "        case `elem` :: _ => true\n",
    "        case _ :: tail => member(tail, elem)\n",
    "    }"
   ]
  },
  {
   "cell_type": "markdown",
   "metadata": {},
   "source": [
    "### Example: last element"
   ]
  },
  {
   "cell_type": "markdown",
   "metadata": {},
   "source": [
    "Let's implement a function that returns the last element of a given list. Note that an empty list does not have elements, and, hence, does not have a last element."
   ]
  },
  {
   "cell_type": "code",
   "execution_count": null,
   "metadata": {},
   "outputs": [],
   "source": [
    "class TestLast(last: List[Int] => Option[Int]) extends FlatSpec with Matchers{\n",
    "    \"last\" should \"work\" in {\n",
    "        last(List()) shouldBe None\n",
    "        last(List(1)) shouldBe Some(1)\n",
    "        last(List(1,2,3,4)) shouldBe Some(4)\n",
    "    }\n",
    "}"
   ]
  },
  {
   "cell_type": "code",
   "execution_count": null,
   "metadata": {},
   "outputs": [],
   "source": [
    "@annotation.tailrec\n",
    "def last[A](list: List[A]): Option[A] =\n",
    "    list match {\n",
    "        case Nil => None\n",
    "        case head :: Nil => Some(head)\n",
    "        case head :: tail => last(tail)\n",
    "    }"
   ]
  },
  {
   "cell_type": "code",
   "execution_count": null,
   "metadata": {},
   "outputs": [],
   "source": [
    "run(new TestLast(last))"
   ]
  },
  {
   "cell_type": "markdown",
   "metadata": {},
   "source": [
    "### Example: insert last"
   ]
  },
  {
   "cell_type": "markdown",
   "metadata": {},
   "source": [
    "Now, a function that allows us to insert an element at the end of the list. "
   ]
  },
  {
   "cell_type": "code",
   "execution_count": null,
   "metadata": {},
   "outputs": [],
   "source": [
    "class TestInsertLast(insertLast: (List[Int], Int) => List[Int]) \n",
    "extends FlatSpec with Matchers{\n",
    "    \"insertLast\" should \"work\" in {\n",
    "        insertLast(List(), 6) shouldBe List(6)\n",
    "        insertLast(List(1), 1) shouldBe List(1,1)\n",
    "        insertLast(List(1,2,3,4), 4) shouldBe List(1,2,3,4,4)\n",
    "    }\n",
    "}"
   ]
  },
  {
   "cell_type": "code",
   "execution_count": null,
   "metadata": {},
   "outputs": [],
   "source": [
    "def insertLast[A](list: List[A], elem: A): List[A] = \n",
    "    list match {\n",
    "        case Nil => List(elem)\n",
    "        case head :: tail => \n",
    "            head :: insertLast(tail, elem)\n",
    "    }"
   ]
  },
  {
   "cell_type": "code",
   "execution_count": null,
   "metadata": {},
   "outputs": [],
   "source": [
    "run(new TestInsertLast(insertLast))"
   ]
  },
  {
   "cell_type": "markdown",
   "metadata": {},
   "source": [
    "### Example: reverse lists"
   ]
  },
  {
   "cell_type": "markdown",
   "metadata": {},
   "source": [
    "Implement a function which receives a list and returns its reverse."
   ]
  },
  {
   "cell_type": "code",
   "execution_count": null,
   "metadata": {},
   "outputs": [],
   "source": [
    "class TestReverse(reverse: List[Int] => List[Int]) extends FlatSpec with Matchers{\n",
    "    \"reverse\" should \"work\" in {\n",
    "        reverse(List()) shouldBe List()\n",
    "        reverse(List(1)) shouldBe List(1)\n",
    "        reverse(List(1,2,3)) shouldBe List(3,2,1)\n",
    "    }\n",
    "}"
   ]
  },
  {
   "cell_type": "code",
   "execution_count": null,
   "metadata": {},
   "outputs": [],
   "source": [
    "// Really inefficient \n",
    "\n",
    "def reverse[A](list: List[A]): List[A] = \n",
    "    list match {\n",
    "        case Nil => Nil\n",
    "        case head :: tail =>\n",
    "                insertLast(reverse(tail), head)\n",
    "    }"
   ]
  },
  {
   "cell_type": "code",
   "execution_count": null,
   "metadata": {},
   "outputs": [],
   "source": [
    "run(new TestReverse(reverse))"
   ]
  },
  {
   "cell_type": "code",
   "execution_count": null,
   "metadata": {},
   "outputs": [],
   "source": [
    "// Tail-recursive, efficiently\n",
    "\n",
    "def reverseTR[A](list: List[A]): List[A] = {\n",
    "    def reverseAux(acc: List[A], list: List[A]): List[A] = \n",
    "        list match {\n",
    "            case Nil => acc\n",
    "            case head :: tail => \n",
    "                reverseAux(head :: acc, tail)\n",
    "        }\n",
    "    \n",
    "    reverseAux(Nil, list)\n",
    "}"
   ]
  },
  {
   "cell_type": "code",
   "execution_count": null,
   "metadata": {},
   "outputs": [],
   "source": [
    "run(new TestReverse(reverseTR))"
   ]
  },
  {
   "cell_type": "markdown",
   "metadata": {},
   "source": [
    "### Example: concatenate lists"
   ]
  },
  {
   "cell_type": "code",
   "execution_count": null,
   "metadata": {},
   "outputs": [],
   "source": [
    "class TestConcatenate(concatenate: (List[Int], List[Int]) => List[Int]) \n",
    "extends FlatSpec with Matchers{\n",
    "    \"concatenate\" should \"work\" in {\n",
    "        concatenate(List(), List()) shouldBe List()\n",
    "        concatenate(List(1), List()) shouldBe List(1)\n",
    "        concatenate(List(), List(1)) shouldBe List(1)\n",
    "        concatenate(List(1,2,3), List(1,3)) shouldBe List(1,2,3,1,3)\n",
    "        concatenate(List(1,2,3), List(4,5,6)) shouldBe List(1,2,3,4,5,6)\n",
    "    }\n",
    "}"
   ]
  },
  {
   "cell_type": "code",
   "execution_count": null,
   "metadata": {},
   "outputs": [],
   "source": [
    "def concatenate[A](list1: List[A], list2: List[A]): List[A] =\n",
    "    list1 match {\n",
    "        case Nil => \n",
    "            list2 : List[A]\n",
    "        case head :: tail => \n",
    "            (head :: concatenate(tail, list2)) : List[A]\n",
    "    }"
   ]
  },
  {
   "cell_type": "code",
   "execution_count": null,
   "metadata": {},
   "outputs": [],
   "source": [
    "run(new TestConcatenate(concatenate))"
   ]
  },
  {
   "cell_type": "markdown",
   "metadata": {},
   "source": [
    "Tail-recursive concatenation:"
   ]
  },
  {
   "cell_type": "code",
   "execution_count": null,
   "metadata": {},
   "outputs": [],
   "source": [
    "def concatenateTR[A](list1: List[A], list2: List[A]): List[A] = {\n",
    "\n",
    "    def concAux(acc: List[A], list: List[A]): List[A] = \n",
    "        list match {\n",
    "            case Nil => acc\n",
    "            case head :: tail => \n",
    "                concAux(head :: acc, tail)\n",
    "        }\n",
    "    \n",
    "    concAux(list2, concAux(Nil, list1))\n",
    "}"
   ]
  },
  {
   "cell_type": "code",
   "execution_count": null,
   "metadata": {},
   "outputs": [],
   "source": [
    "run(new TestConcatenate(concatenateTR))"
   ]
  },
  {
   "cell_type": "code",
   "execution_count": null,
   "metadata": {},
   "outputs": [],
   "source": []
  }
 ],
 "metadata": {
  "kernelspec": {
   "display_name": "Scala 2.12",
   "language": "scala",
   "name": "scala212"
  },
  "language_info": {
   "codemirror_mode": "text/x-scala",
   "file_extension": ".sc",
   "mimetype": "text/x-scala",
   "name": "scala",
   "nbconvert_exporter": "script",
   "version": "2.12.12"
  }
 },
 "nbformat": 4,
 "nbformat_minor": 2
}
