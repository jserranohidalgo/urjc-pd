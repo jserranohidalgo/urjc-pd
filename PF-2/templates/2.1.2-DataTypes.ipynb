{
 "cells": [
  {
   "cell_type": "markdown",
   "metadata": {},
   "source": [
    "# 2.1.2 Algebraic data types"
   ]
  },
  {
   "cell_type": "markdown",
   "metadata": {},
   "source": [
    "User-defined types in object-oriented languages are specified through class or trait declarations. Types can also be specified from already existing user-defined types through the inheritance mechanism.  "
   ]
  },
  {
   "cell_type": "markdown",
   "metadata": {},
   "source": [
    "In functional programming, the rules for declaring new types are different: no inheritance or classes, just _products_, _sums_ and _exponentiation_ of types. Because of the correspondence with arithmetic (which goes beyond the terminology!), these types are called **algebraic data types** (ADTs). "
   ]
  },
  {
   "cell_type": "markdown",
   "metadata": {},
   "source": [
    "### References\n",
    "\n",
    "[__Programming in Scala, \n",
    "A comprehensive step-by-step guide__](https://www.artima.com/shop/programming_in_scala_3ed) Third Edition.\n",
    "by Martin Odersky, Lex Spoon, and Bill Venners. \n",
    "\n",
    "- Chapter 15. Case Classes and Pattern Matching\n",
    "\n",
    "__[Scala book (online)](https://docs.scala-lang.org/overviews/scala-book/introduction.html)__.\n",
    "\n",
    "- [Match Expressions](https://docs.scala-lang.org/overviews/scala-book/match-expressions.html)\n",
    "- [Case classes](https://docs.scala-lang.org/overviews/scala-book/case-classes.html)\n",
    "- [Case objects](https://docs.scala-lang.org/overviews/scala-book/case-objects.html)\n",
    "\n",
    "[__Functional programming simplified__](https://alvinalexander.com/downloads/fpsimplified-free-preview.pdf), by Alvin Alexander.\n",
    "\n",
    "- Chapters 19. Functional Programming as Algebra \n",
    "\n",
    "[__Tony Morris on ADTs__](https://about.chatroulette.com/posts/algebraic-data-types/)"
   ]
  },
  {
   "cell_type": "markdown",
   "metadata": {},
   "source": [
    "## Product types"
   ]
  },
  {
   "cell_type": "markdown",
   "metadata": {},
   "source": [
    "A value of product type $T_1 * T_2$ is created with a value of $T_1$ **and** a value of $T_2$. The constructor function is:\n",
    "  - `create: (T1, T2) -> T1 * T2` (create is a 2-ary function). \n",
    "\n",
    "Given a value of a product type, we can obtain back both values with observers:\n",
    "  - `fst: T1 * T2 -> T1` \n",
    "  - `snd: T1 * T2 -> T2`\n",
    "  \n"
   ]
  },
  {
   "cell_type": "markdown",
   "metadata": {},
   "source": [
    "### Scala case classes\n",
    "\n",
    "There are several things which are desirable to work with products/records:\n",
    " - Create new product objects without having to invoke `new`\n",
    " - Equality of product objects by value, not by reference\n",
    " - Off-the-shelf hash code\n",
    " - Pattern matching (more on this later on)\n"
   ]
  },
  {
   "cell_type": "markdown",
   "metadata": {},
   "source": [
    "Scala can make all of this for us automatically, using so-called `case classes`: "
   ]
  },
  {
   "cell_type": "code",
   "execution_count": 1,
   "metadata": {},
   "outputs": [
    {
     "data": {
      "text/plain": [
       "defined \u001b[32mclass\u001b[39m \u001b[36mRectangle\u001b[39m\n",
       "defined \u001b[32mclass\u001b[39m \u001b[36mCircle\u001b[39m\n",
       "defined \u001b[32mclass\u001b[39m \u001b[36mTriangle\u001b[39m"
      ]
     },
     "execution_count": 1,
     "metadata": {},
     "output_type": "execute_result"
    }
   ],
   "source": [
    "// products Rectangle, circle, triangle un producto es un tipo de dato construido mediante dos datos, un valor de cada componente\n",
    "\n",
    "//Type Rectangle = Int * Int\n",
    "case class Rectangle(width: Int, height: Int)\n",
    "case class Circle(radius:Int)\n",
    "case class Triangle(side:Int)\n",
    "\n"
   ]
  },
  {
   "cell_type": "code",
   "execution_count": 3,
   "metadata": {},
   "outputs": [
    {
     "data": {
      "text/plain": [
       "\u001b[36mr\u001b[39m: \u001b[32mRectangle\u001b[39m = \u001b[33mRectangle\u001b[39m(\u001b[32m5\u001b[39m, \u001b[32m4\u001b[39m)"
      ]
     },
     "execution_count": 3,
     "metadata": {},
     "output_type": "execute_result"
    }
   ],
   "source": [
    "val r: Rectangle=Rectangle(5,4)"
   ]
  },
  {
   "cell_type": "code",
   "execution_count": 4,
   "metadata": {},
   "outputs": [
    {
     "data": {
      "text/plain": [
       "\u001b[36mres3_0\u001b[39m: \u001b[32mInt\u001b[39m = \u001b[32m5\u001b[39m\n",
       "\u001b[36mres3_1\u001b[39m: \u001b[32mInt\u001b[39m = \u001b[32m4\u001b[39m"
      ]
     },
     "execution_count": 4,
     "metadata": {},
     "output_type": "execute_result"
    }
   ],
   "source": [
    "r.width\n",
    "r.height"
   ]
  },
  {
   "cell_type": "markdown",
   "metadata": {},
   "source": [
    "This declaration of the `Rectangle` record is essentially equivalent to what we did manually: the `case` keyword tells the Scala compiler to generate a companion object with an `apply` constructor; override the `equals` and `hashCode` methods, among other things."
   ]
  },
  {
   "cell_type": "code",
   "execution_count": null,
   "metadata": {},
   "outputs": [],
   "source": [
    "// equality works\n"
   ]
  },
  {
   "cell_type": "code",
   "execution_count": null,
   "metadata": {},
   "outputs": [],
   "source": [
    "// hashCode works\n"
   ]
  },
  {
   "cell_type": "markdown",
   "metadata": {},
   "source": [
    "### Standard products in Scala: `TupleN` classes"
   ]
  },
  {
   "cell_type": "markdown",
   "metadata": {},
   "source": [
    "The standard library of Scala has already defined for us generic case classes that represent the n-ary products (up to 22). The rough definition of `Tuple2` goes like this:"
   ]
  },
  {
   "cell_type": "code",
   "execution_count": 5,
   "metadata": {},
   "outputs": [
    {
     "data": {
      "text/plain": [
       "defined \u001b[32mobject\u001b[39m \u001b[36mStd\u001b[39m"
      ]
     },
     "execution_count": 5,
     "metadata": {},
     "output_type": "execute_result"
    }
   ],
   "source": [
    "object Std{\n",
    "    // tuples in Scala, specific and generic\n",
    "    case class IntAndString(i:Int, s:String)\n",
    "    case class CharAndBoolean(c:Char,b:Boolean)\n",
    "\n",
    "    //.. usamos genericos\n",
    "    case class Tuple2[A,B](_1:A,_2:B)\n",
    "    \n",
    "    \n",
    "}"
   ]
  },
  {
   "cell_type": "markdown",
   "metadata": {},
   "source": [
    "And Scala offers syntactic sugar, both for Tuple types and values. So, instead of writing something like this: "
   ]
  },
  {
   "cell_type": "code",
   "execution_count": 7,
   "metadata": {},
   "outputs": [
    {
     "data": {
      "text/plain": [
       "defined \u001b[32mtype\u001b[39m \u001b[36mIntAndString\u001b[39m\n",
       "\u001b[36mp2\u001b[39m: (\u001b[32mChar\u001b[39m, \u001b[32mBoolean\u001b[39m) = (\u001b[32m'a'\u001b[39m, true)\n",
       "\u001b[36mres6_2\u001b[39m: \u001b[32mChar\u001b[39m = \u001b[32m'a'\u001b[39m\n",
       "\u001b[36mres6_3\u001b[39m: \u001b[32mBoolean\u001b[39m = true\n",
       "\u001b[36mp3\u001b[39m: (\u001b[32mChar\u001b[39m, \u001b[32mBoolean\u001b[39m, \u001b[32mInt\u001b[39m) = (\u001b[32m'a'\u001b[39m, true, \u001b[32m5\u001b[39m)"
      ]
     },
     "execution_count": 7,
     "metadata": {},
     "output_type": "execute_result"
    }
   ],
   "source": [
    "// tuples without sugar\n",
    "    type IntAndString = Tuple2[Int,String]\n",
    "\n",
    "    val p2: Tuple2[Char,Boolean] =Tuple2('a',true)\n",
    "\n",
    "    p2._1\n",
    "    p2._2\n",
    "\n",
    "    val p3: Tuple3[Char,Boolean,Int] =Tuple3('a',true,5)\n",
    "    "
   ]
  },
  {
   "cell_type": "markdown",
   "metadata": {},
   "source": [
    "we can write it as follows:"
   ]
  },
  {
   "cell_type": "code",
   "execution_count": 8,
   "metadata": {},
   "outputs": [
    {
     "data": {
      "text/plain": [
       "\u001b[36mp2_withsugar\u001b[39m: (\u001b[32mInt\u001b[39m, \u001b[32mString\u001b[39m) = (\u001b[32m1\u001b[39m, \u001b[32m\"Hola\"\u001b[39m)"
      ]
     },
     "execution_count": 8,
     "metadata": {},
     "output_type": "execute_result"
    }
   ],
   "source": [
    "// tuples with sugar\n",
    "    val p2_withsugar:(Int,String)=(1,\"Hola\")"
   ]
  },
  {
   "cell_type": "markdown",
   "metadata": {},
   "source": [
    "### Why are products called _algebraic_?"
   ]
  },
  {
   "cell_type": "markdown",
   "metadata": {},
   "source": [
    "This is an example to illustrate the analogy between algebraic data types and arithmetic."
   ]
  },
  {
   "cell_type": "code",
   "execution_count": 10,
   "metadata": {},
   "outputs": [
    {
     "ename": "",
     "evalue": "",
     "output_type": "error",
     "traceback": [
      "\u001b[31mscala.NotImplementedError: an implementation is missing\u001b[39m\n  scala.Predef$.$qmark$qmark$qmark(\u001b[32mPredef.scala\u001b[39m:\u001b[32m288\u001b[39m)\n  ammonite.$sess.cmd9$Helper.<init>(\u001b[32mcmd9.sc\u001b[39m:\u001b[32m8\u001b[39m)\n  ammonite.$sess.cmd9$.<init>(\u001b[32mcmd9.sc\u001b[39m:\u001b[32m7\u001b[39m)\n  ammonite.$sess.cmd9$.<clinit>(\u001b[32mcmd9.sc\u001b[39m:\u001b[32m-1\u001b[39m)"
     ]
    }
   ],
   "source": [
    "// Number of values of Boolean type: ???\n",
    "    true:Boolean\n",
    "    false:Boolean\n",
    "\n",
    "\n",
    "// Number of values of (Boolean, Boolean) type: ??? \n",
    "    \n",
    "//step1\n",
    "??? : (Boolean,Boolean)\n",
    "//step2\n",
    "(??? :Boolean,??? :Boolean)\n",
    "//step3\n",
    "(false:Boolean,??? :Boolean)\n",
    "(true:Boolean,??? :Boolean)\n",
    "//step4\n",
    "(false:Boolean,false:Boolean)\n",
    "(false:Boolean,true:Boolean)\n",
    "(true:Boolean,false:Boolean)\n",
    "(true:Boolean,true:Boolean)\n",
    "\n",
    "//??? :(Boolean,Boolean,Boolean)\n",
    "//8 en total: 2 * 2 * 2 = |Boolean| * |Boolean| * |Boolean|"
   ]
  },
  {
   "cell_type": "markdown",
   "metadata": {},
   "source": [
    "In general, types may be regarded as sets of values. Then, the cardinal of $A * B$, for types $A$ and $B$ is: $|A * B| = |A| * |B|$."
   ]
  },
  {
   "cell_type": "markdown",
   "metadata": {},
   "source": [
    "If product types are analogous to number multiplication, then, is there any type which corresponds to the number 1, i.e. the neutral element of the multiplication? It has to be a type $1$ such that $A*1 \\cong A \\cong 1*A$, where the sign $\\cong$ represents the _isomorphism_ of types, i.e. the types do not need to be equal but there should be a 1-1 mapping (a bijection) between the values of $A*1$ and $A$. Since the type $1$ has to comply with the identity rules, we have that $|A*1| = |A|$, but then $|A| * |1| = |A|$. So, $|1| = 1$, i.e. $1$ must be the type with just one value, i.e. the equivalent to the singleton set. \n"
   ]
  },
  {
   "cell_type": "markdown",
   "metadata": {},
   "source": [
    "This type already exists in the Scala standard library, and it's called `Unit`, and its only value is `()`:"
   ]
  },
  {
   "cell_type": "code",
   "execution_count": null,
   "metadata": {},
   "outputs": [],
   "source": [
    "// The unit type and value\n",
    "val u: Unit =()"
   ]
  },
  {
   "cell_type": "markdown",
   "metadata": {},
   "source": [
    "The isomorphism $Boolean * 1 \\cong Boolean$ is witnessed by the following functions: "
   ]
  },
  {
   "cell_type": "code",
   "execution_count": 16,
   "metadata": {},
   "outputs": [
    {
     "data": {
      "text/plain": [
       "\u001b[36mres15_0\u001b[39m: (\u001b[32mBoolean\u001b[39m, \u001b[32mUnit\u001b[39m) = (false, ())\n",
       "\u001b[36mres15_1\u001b[39m: (\u001b[32mBoolean\u001b[39m, \u001b[32mUnit\u001b[39m) = (true, ())\n",
       "defined \u001b[32mfunction\u001b[39m \u001b[36mfrom\u001b[39m\n",
       "defined \u001b[32mfunction\u001b[39m \u001b[36mto\u001b[39m"
      ]
     },
     "execution_count": 16,
     "metadata": {},
     "output_type": "execute_result"
    }
   ],
   "source": [
    "// Isomorphism of (Boolean, Unit) and Boolean\n",
    "//??? :(Boolean,Unit)\n",
    "\n",
    "//(??? :Boolean, ??? :Unit)\n",
    "\n",
    "(false :Boolean, () :Unit)\n",
    "(true :Boolean, () :Unit)\n",
    "\n",
    "def from(p:(Boolean,Unit)): Boolean =\n",
    "    p._1\n",
    "\n",
    "def to(b:Boolean): (Boolean,Unit)=\n",
    "    (b :Boolean, ():Unit)\n"
   ]
  },
  {
   "cell_type": "markdown",
   "metadata": {},
   "source": [
    "which satisfy:\n",
    "- `from(to(b))=b`, for all `b: Boolean`, and \n",
    "- `to(from(b))=b` for all `b: (Boolean, Unit)`."
   ]
  },
  {
   "cell_type": "code",
   "execution_count": 20,
   "metadata": {},
   "outputs": [
    {
     "data": {
      "text/plain": [
       "\u001b[36mres19_0\u001b[39m: \u001b[32mBoolean\u001b[39m = true\n",
       "\u001b[36mres19_1\u001b[39m: \u001b[32mBoolean\u001b[39m = true\n",
       "\u001b[36mres19_2\u001b[39m: \u001b[32mBoolean\u001b[39m = true\n",
       "\u001b[36mres19_3\u001b[39m: \u001b[32mBoolean\u001b[39m = true"
      ]
     },
     "execution_count": 20,
     "metadata": {},
     "output_type": "execute_result"
    }
   ],
   "source": [
    "// test from-to, to-from equalities\n",
    "from(to(true)) == true\n",
    "from(to(false)) == false\n",
    "\n",
    "to(from(true,()))==(true,())\n",
    "to(from(false,()))==(false,())"
   ]
  },
  {
   "cell_type": "markdown",
   "metadata": {},
   "source": [
    "Note that any function that returns a value of type `Unit` is completely useless from a purely functional perspective, since we already know in advance which is the (only possible) value that it returns: `()`. Therefore, if such a function makes sense is because it does something else than returning values: it must have some side effect, i.e. it has to be _impure_. This is also why we can say that `Unit` is the Scala equivalent to Java's `void`."
   ]
  },
  {
   "cell_type": "markdown",
   "metadata": {},
   "source": [
    "## Sum types       "
   ]
  },
  {
   "cell_type": "markdown",
   "metadata": {},
   "source": [
    "Besides multiplying types, we can also _sum_ types. Given types $A$ and $B$, the sum type $A + B$ represents **either** a value of type $A$ **or** a value of type $B$. Therefore, we have that \n",
    "\n",
    "$|A + B| = |A| + |B|$\n",
    "\n",
    "For instance (the symbol $:=$ is used to give a name to a type):"
   ]
  },
  {
   "cell_type": "markdown",
   "metadata": {},
   "source": [
    "- $MaybeInt := Int + 1$. A value of this type may be an integer; if it is not, then it is the unit value (a value that we use to signal that it is not an integer). So, $|MaybeInt| = |Int| + |1| = |Int| + 1$\n",
    "- $EitherIntOrString := Int + String$. A value of this type is either an integer or a string, i.e. $|EitherIntOrString| = |Int| + |String|$\n",
    "- $Shape := Circle + Rectangle + Triangle$. If we have a value of type $Shape$, then we have either a $Circle$, a $Triangle$ or a $Rectangle$. So, $|Shape| = |Circle| + |Triangle| + |Rectangle|$"
   ]
  },
  {
   "cell_type": "markdown",
   "metadata": {},
   "source": [
    "We create and observe values of a sum type $A + B$ with the following functions: \n",
    "- Injection functions: \n",
    "  - `injA: A -> A + B`\n",
    "  - `injB: B -> A + B`\n",
    "- Match function:\n",
    "  - `match: (A -> C) -> (B -> C) -> A + B -> C`\n",
    "  \n",
    "Note that the `match` function is a higher-order function. Basically, it says: if I know how to obtain a $C$ from $A$ (using function $A \\rightarrow C$), and I know how to obtain a $C$ from $B$, then I know how to obtain a $C$ from $A+B$ (since $A+B$ is either an $A$ or a $B$)."
   ]
  },
  {
   "cell_type": "markdown",
   "metadata": {},
   "source": [
    "### Sum types in Scala"
   ]
  },
  {
   "cell_type": "markdown",
   "metadata": {},
   "source": [
    "How do we define sum types in an object-oriented language like Scala? Basically, we need _inheritance_, but with a special twist: it has to be _sealed_."
   ]
  },
  {
   "cell_type": "code",
   "execution_count": 25,
   "metadata": {},
   "outputs": [
    {
     "data": {
      "text/plain": [
       "defined \u001b[32mclass\u001b[39m \u001b[36mShape\u001b[39m\n",
       "defined \u001b[32mclass\u001b[39m \u001b[36mRectangle\u001b[39m\n",
       "defined \u001b[32mclass\u001b[39m \u001b[36mCircle\u001b[39m\n",
       "defined \u001b[32mclass\u001b[39m \u001b[36mTriangle\u001b[39m"
      ]
     },
     "execution_count": 25,
     "metadata": {},
     "output_type": "execute_result"
    }
   ],
   "source": [
    "// type Shape = ...\n",
    "\n",
    "sealed abstract class Shape //sealed evita que fuera de esta celda s ehagan mas herencia\n",
    "case class Rectangle(width: Int, height: Int) extends Shape\n",
    "case class Circle(radius:Int) extends Shape\n",
    "case class Triangle(side:Int) extends Shape"
   ]
  },
  {
   "cell_type": "markdown",
   "metadata": {},
   "source": [
    "As we already saw, the keyword `sealed` prevents the extension of the inheritance hierarchy with new subclasses. This guarantees that the sum type will remain consistent everywhere, i.e. that whenever we have an instance of `Shape` it will be either a rectangle, a circle or a triangle, and nothing else."
   ]
  },
  {
   "cell_type": "markdown",
   "metadata": {},
   "source": [
    "We create values of type `Shape` by using the constructors of its subclasses:"
   ]
  },
  {
   "cell_type": "code",
   "execution_count": 23,
   "metadata": {},
   "outputs": [
    {
     "data": {
      "text/plain": [
       "\u001b[36mr\u001b[39m: \u001b[32mShape\u001b[39m = \u001b[33mRectangle\u001b[39m(\u001b[32m1\u001b[39m, \u001b[32m1\u001b[39m)\n",
       "\u001b[36mc\u001b[39m: \u001b[32mShape\u001b[39m = \u001b[33mCircle\u001b[39m(\u001b[32m2\u001b[39m)\n",
       "\u001b[36mt\u001b[39m: \u001b[32mShape\u001b[39m = \u001b[33mTriangle\u001b[39m(\u001b[32m3\u001b[39m)"
      ]
     },
     "execution_count": 23,
     "metadata": {},
     "output_type": "execute_result"
    }
   ],
   "source": [
    "// creation of values of type Shape\n",
    "val r: Shape= Rectangle(1,1)\n",
    "val c: Shape= Circle(2)\n",
    "val t: Shape= Triangle(3)\n",
    "//val s: Shape= new Shape al ser abstracta no deja :D"
   ]
  },
  {
   "cell_type": "markdown",
   "metadata": {},
   "source": [
    "And we _observe_ these values with _pattern matching_, as follows:"
   ]
  },
  {
   "cell_type": "code",
   "execution_count": 27,
   "metadata": {},
   "outputs": [
    {
     "data": {
      "text/plain": [
       "defined \u001b[32mfunction\u001b[39m \u001b[36mkind\u001b[39m"
      ]
     },
     "execution_count": 27,
     "metadata": {},
     "output_type": "execute_result"
    }
   ],
   "source": [
    "// observe values of type Shape, toString function\n",
    "\n",
    "def kind(s:Shape): String =\n",
    "    s match{\n",
    "        case r: Rectangle => \"a rectangle\" : String\n",
    "        case c: Circle => \"a circle\" : String\n",
    "        case t: Triangle => \"a triangle\" : String\n",
    "    }"
   ]
  },
  {
   "cell_type": "code",
   "execution_count": 28,
   "metadata": {},
   "outputs": [
    {
     "data": {
      "text/plain": [
       "\u001b[36mres27_0\u001b[39m: \u001b[32mString\u001b[39m = \u001b[32m\"a rectangle\"\u001b[39m\n",
       "\u001b[36mres27_1\u001b[39m: \u001b[32mString\u001b[39m = \u001b[32m\"a triangle\"\u001b[39m\n",
       "\u001b[36mres27_2\u001b[39m: \u001b[32mString\u001b[39m = \u001b[32m\"a circle\"\u001b[39m"
      ]
     },
     "execution_count": 28,
     "metadata": {},
     "output_type": "execute_result"
    }
   ],
   "source": [
    "kind(Rectangle(1,2))\n",
    "kind(Triangle(3))\n",
    "kind(Circle(5))"
   ]
  },
  {
   "cell_type": "markdown",
   "metadata": {},
   "source": [
    "Each `case` declaration represents a function from the corresponding type to the common target result. Being `sealed`, the compiler can check whether some pattern matching expression is complete or not, and warn us in case it's not."
   ]
  },
  {
   "cell_type": "code",
   "execution_count": 30,
   "metadata": {},
   "outputs": [],
   "source": [
    "// This is Almond specific. \n",
    "// Also, note that it's possible that this diretive does not work for some kernel versions\n",
    "interp.configureCompiler(_.settings.nowarn.value = false)"
   ]
  },
  {
   "cell_type": "code",
   "execution_count": 31,
   "metadata": {},
   "outputs": [
    {
     "name": "stderr",
     "output_type": "stream",
     "text": [
      "cmd30.sc:2: match may not be exhaustive.\n",
      "It would fail on the following input: Triangle(_)\n",
      "    s match{\n",
      "    ^"
     ]
    },
    {
     "data": {
      "text/plain": [
       "defined \u001b[32mfunction\u001b[39m \u001b[36mkind\u001b[39m"
      ]
     },
     "execution_count": 31,
     "metadata": {},
     "output_type": "execute_result"
    }
   ],
   "source": [
    "// A warning should be raised here\n",
    "def kind(s:Shape): String =\n",
    "    s match{\n",
    "        case r: Rectangle => \"a rectangle\" : String\n",
    "        case c: Circle => \"a circle\" : String\n",
    "       // case t: Triangle => \"a triangle\" : String\n",
    "    }\n",
    "\n"
   ]
  },
  {
   "cell_type": "markdown",
   "metadata": {},
   "source": [
    "### Standard sum types in Scala"
   ]
  },
  {
   "cell_type": "markdown",
   "metadata": {},
   "source": [
    "The standard library of Scala provides two important sum types: [`Option`](https://www.scala-lang.org/api/current/scala/Option.html) and [`Either`](https://www.scala-lang.org/api/current/scala/util/Either.html). They can be defined as follows: "
   ]
  },
  {
   "cell_type": "code",
   "execution_count": 32,
   "metadata": {},
   "outputs": [
    {
     "data": {
      "text/plain": [
       "defined \u001b[32mobject\u001b[39m \u001b[36mStdSumTypes\u001b[39m"
      ]
     },
     "execution_count": 32,
     "metadata": {},
     "output_type": "execute_result"
    }
   ],
   "source": [
    "object StdSumTypes{\n",
    "    // Option\n",
    "    //type Option[A]= A+1 \n",
    "    sealed abstract class Option[A]\n",
    "    case class Some[A](a:A)extends Option[A]\n",
    "    //case class None[A](u: Unit)extends Option[A]\n",
    "    case class None[A]() extends Option[A]\n",
    "    \n",
    "    // Either\n",
    "    sealed abstract class Either[A,B]\n",
    "    case class Left[A,B](a:A) extends Either[A,B]\n",
    "    case class Rigth[A,B](b:B) extends Either[A,B]\n",
    "    \n",
    "}"
   ]
  },
  {
   "cell_type": "markdown",
   "metadata": {},
   "source": [
    "These types are important for error handling. We will see how they allow us to get rid of exceptions, at least in the part of our code that we wish to be purely functional. Here it's a small example:"
   ]
  },
  {
   "cell_type": "code",
   "execution_count": 33,
   "metadata": {},
   "outputs": [
    {
     "data": {
      "text/plain": [
       "defined \u001b[32mfunction\u001b[39m \u001b[36mdivideWithExceptions\u001b[39m"
      ]
     },
     "execution_count": 33,
     "metadata": {},
     "output_type": "execute_result"
    }
   ],
   "source": [
    "// Using exceptions\n",
    "\n",
    "def divideWithExceptions(a: Double, b: Double): Double =\n",
    "    if (b==0) throw new Exception(\"divide by cero\")\n",
    "    else a/b"
   ]
  },
  {
   "cell_type": "code",
   "execution_count": 34,
   "metadata": {},
   "outputs": [
    {
     "ename": "",
     "evalue": "",
     "output_type": "error",
     "traceback": [
      "\u001b[31mjava.lang.Exception: divide by cero\u001b[39m\n  ammonite.$sess.cmd32$Helper.divideWithExceptions(\u001b[32mcmd32.sc\u001b[39m:\u001b[32m2\u001b[39m)\n  ammonite.$sess.cmd33$Helper.<init>(\u001b[32mcmd33.sc\u001b[39m:\u001b[32m1\u001b[39m)\n  ammonite.$sess.cmd33$.<init>(\u001b[32mcmd33.sc\u001b[39m:\u001b[32m7\u001b[39m)\n  ammonite.$sess.cmd33$.<clinit>(\u001b[32mcmd33.sc\u001b[39m:\u001b[32m-1\u001b[39m)"
     ]
    }
   ],
   "source": [
    "// divideWithExceptions(5,0)\n",
    "val d: Double =divideWithExceptions(5,0)"
   ]
  },
  {
   "cell_type": "code",
   "execution_count": 37,
   "metadata": {},
   "outputs": [
    {
     "data": {
      "text/plain": [
       "defined \u001b[32mfunction\u001b[39m \u001b[36mdivideWithOption\u001b[39m"
      ]
     },
     "execution_count": 37,
     "metadata": {},
     "output_type": "execute_result"
    }
   ],
   "source": [
    "// Using option\n",
    "\n",
    "def divideWithOption(a: Double, b: Double): Option[Double] =\n",
    "    if (b==0) None: Option[Double]\n",
    "    else Some(a/b): Option[Double]"
   ]
  },
  {
   "cell_type": "markdown",
   "metadata": {},
   "source": [
    "We now return a value which indicates whether there was an error or not:"
   ]
  },
  {
   "cell_type": "code",
   "execution_count": 39,
   "metadata": {},
   "outputs": [
    {
     "data": {
      "text/plain": [
       "\u001b[36mres38\u001b[39m: \u001b[32mOption\u001b[39m[\u001b[32mDouble\u001b[39m] = \u001b[32mNone\u001b[39m"
      ]
     },
     "execution_count": 39,
     "metadata": {},
     "output_type": "execute_result"
    }
   ],
   "source": [
    "divideWithOption(5,0)"
   ]
  },
  {
   "cell_type": "code",
   "execution_count": 40,
   "metadata": {},
   "outputs": [
    {
     "data": {
      "text/plain": [
       "defined \u001b[32mfunction\u001b[39m \u001b[36mdivideWithEither\u001b[39m"
      ]
     },
     "execution_count": 40,
     "metadata": {},
     "output_type": "execute_result"
    }
   ],
   "source": [
    "// Using Either\n",
    "\n",
    "def divideWithEither(a: Double, b: Double): Either[String,Double] =\n",
    "    if (b==0) Left(\"Divide by cero\"): Either[String,Double]\n",
    "    else Right(a/b):Either[String,Double]"
   ]
  },
  {
   "cell_type": "markdown",
   "metadata": {},
   "source": [
    "And now a value which, in case of error indicates the reason:"
   ]
  },
  {
   "cell_type": "code",
   "execution_count": 41,
   "metadata": {},
   "outputs": [
    {
     "data": {
      "text/plain": [
       "\u001b[36mres40\u001b[39m: \u001b[32mEither\u001b[39m[\u001b[32mString\u001b[39m, \u001b[32mDouble\u001b[39m] = \u001b[33mLeft\u001b[39m(\u001b[32m\"Divide by cero\"\u001b[39m)"
      ]
     },
     "execution_count": 41,
     "metadata": {},
     "output_type": "execute_result"
    }
   ],
   "source": [
    "divideWithEither(3,0)"
   ]
  },
  {
   "cell_type": "markdown",
   "metadata": {},
   "source": [
    "### The 0 type in Scala"
   ]
  },
  {
   "cell_type": "markdown",
   "metadata": {},
   "source": [
    "If the unit type was the identity element for product types, is there any identity type for sums? It has to be a type which satisfies the following conditions: \n",
    "\n",
    "- $0 + A \\cong A$\n",
    "- $A + 0 \\cong A$\n",
    "\n",
    "But $|0 + A| = |0| + |A|$, so $|0| = 0$, i.e. the type $0$ must inhabited. In other words, it is a type such that there is no value of that type. "
   ]
  },
  {
   "cell_type": "markdown",
   "metadata": {},
   "source": [
    "We don't have to define this type in Scala it ourselves, since the identity element of sums is already defined in the Scala standard library: it's the type `Nothing`. Since we can't create instances of this type, the only thing that we can do if we have to return a value of this type, or assign a variable of this type a value, is to throw an exception:"
   ]
  },
  {
   "cell_type": "code",
   "execution_count": 42,
   "metadata": {},
   "outputs": [
    {
     "data": {
      "text/html": [
       "<div class=\"jp-RenderedText\">\n",
       "<pre><code><span style=\"color: rgb(0, 187, 187)\"><span class=\"ansi-cyan-fg\">impossible</span></span>: <span style=\"color: rgb(0, 187, 0)\"><span class=\"ansi-green-fg\">Nothing</span></span> = <span style=\"color: white\"><span class=\"ansi-white-fg\">[lazy]</span></span></code></pre>\n",
       "</div>"
      ],
      "text/plain": [
       "\u001b[36mimpossible\u001b[39m: \u001b[32mNothing\u001b[39m = \u001b[37m[lazy]\u001b[39m"
      ]
     },
     "metadata": {},
     "output_type": "display_data"
    }
   ],
   "source": [
    "lazy val impossible: Nothing = throw new Exception(\"no value!\")"
   ]
  },
  {
   "cell_type": "markdown",
   "metadata": {},
   "source": [
    "The `???` expression in Scala means essentially an exception of type `Nothing`. Also, note that `Nothing` is the botton of the Scala inheritance hierarchy, i.e. `Nothing` is a subclass of any Scala class. That's why we can use `???` in place of any value in Scala."
   ]
  },
  {
   "cell_type": "code",
   "execution_count": 44,
   "metadata": {},
   "outputs": [
    {
     "data": {
      "text/plain": [
       "defined \u001b[32mfunction\u001b[39m \u001b[36mi\u001b[39m"
      ]
     },
     "execution_count": 44,
     "metadata": {},
     "output_type": "execute_result"
    }
   ],
   "source": [
    "def i: Int = ??? : Nothing // throw new Exception(\"no value\")"
   ]
  },
  {
   "cell_type": "markdown",
   "metadata": {},
   "source": [
    "The isomorphism $Int + 0 \\cong Int$ is witnessed by the following functions:"
   ]
  },
  {
   "cell_type": "code",
   "execution_count": null,
   "metadata": {},
   "outputs": [],
   "source": [
    "// IntOrNothing := Int + Nothing\n",
    "\n",
    "\n",
    "// from-to\n",
    "\n"
   ]
  },
  {
   "cell_type": "markdown",
   "metadata": {},
   "source": [
    "### More on pattern matching"
   ]
  },
  {
   "cell_type": "markdown",
   "metadata": {},
   "source": [
    "Let's implement a function that calculates the area of a shape:"
   ]
  },
  {
   "cell_type": "code",
   "execution_count": 45,
   "metadata": {},
   "outputs": [
    {
     "data": {
      "text/plain": [
       "\u001b[32mimport \u001b[39m\u001b[36mscala.math._\n",
       "\n",
       "// area function\n",
       "//def area(s:Shape): Double=\n",
       "    //s match{\n",
       "        //case r: Rectangle => r.width*r.height\n",
       "        //case c: Circle => pow(c.radius,2) * Pi\n",
       "      //  case t: Triangle => t.side * t.side /2\n",
       "        \n",
       "    //}\n",
       "\n",
       "\u001b[39m\n",
       "defined \u001b[32mfunction\u001b[39m \u001b[36marea\u001b[39m"
      ]
     },
     "execution_count": 45,
     "metadata": {},
     "output_type": "execute_result"
    }
   ],
   "source": [
    "import scala.math._\n",
    "\n",
    "// area function\n",
    "//def area(s:Shape): Double=\n",
    "    //s match{\n",
    "        //case r: Rectangle => r.width*r.height\n",
    "        //case c: Circle => pow(c.radius,2) * Pi\n",
    "      //  case t: Triangle => t.side * t.side /2\n",
    "        \n",
    "    //}\n",
    "\n",
    "def area(s:Shape): Double=\n",
    "    s match{\n",
    "        case Rectangle(w,h) => w*h\n",
    "        case Circle(r) => pow(r,2) * Pi\n",
    "        case Triangle(s) => s * s /2\n",
    "        \n",
    "    }"
   ]
  },
  {
   "cell_type": "code",
   "execution_count": 51,
   "metadata": {},
   "outputs": [
    {
     "data": {
      "text/plain": [
       "\u001b[36mres50_0\u001b[39m: \u001b[32mDouble\u001b[39m = \u001b[32m8.0\u001b[39m\n",
       "\u001b[36mres50_1\u001b[39m: \u001b[32mDouble\u001b[39m = \u001b[32m28.274333882308138\u001b[39m\n",
       "\u001b[36mres50_2\u001b[39m: \u001b[32mDouble\u001b[39m = \u001b[32m8.0\u001b[39m"
      ]
     },
     "execution_count": 51,
     "metadata": {},
     "output_type": "execute_result"
    }
   ],
   "source": [
    "// some invocations\n",
    "area(Rectangle(2,4))\n",
    "area(Circle(3))\n",
    "area(Triangle(4))"
   ]
  },
  {
   "cell_type": "markdown",
   "metadata": {},
   "source": [
    "We can implement this function more conveniently, using extractors to _deconstruct_ the value and access more directly its member attributes: "
   ]
  },
  {
   "cell_type": "code",
   "execution_count": null,
   "metadata": {},
   "outputs": [],
   "source": [
    "// using extractors\n",
    "\n"
   ]
  },
  {
   "cell_type": "markdown",
   "metadata": {},
   "source": [
    "We can also use _guards_ in `case` branches:"
   ]
  },
  {
   "cell_type": "code",
   "execution_count": 48,
   "metadata": {},
   "outputs": [
    {
     "data": {
      "text/plain": [
       "defined \u001b[32mfunction\u001b[39m \u001b[36mbigShape\u001b[39m"
      ]
     },
     "execution_count": 48,
     "metadata": {},
     "output_type": "execute_result"
    }
   ],
   "source": [
    "// big shape function with guards\n",
    "def bigShape(s: Shape): Boolean =\n",
    "     s match{\n",
    "        case Rectangle(w,h) if h > 10.0 => true\n",
    "        case Circle(r) if r > 10.0 => true\n",
    "        case _ =>false\n",
    "    }\n"
   ]
  },
  {
   "cell_type": "code",
   "execution_count": null,
   "metadata": {},
   "outputs": [],
   "source": [
    "// invoke"
   ]
  },
  {
   "cell_type": "markdown",
   "metadata": {},
   "source": [
    "We can pattern match on specific _values_ of variables: "
   ]
  },
  {
   "cell_type": "code",
   "execution_count": 47,
   "metadata": {},
   "outputs": [
    {
     "data": {
      "text/plain": [
       "defined \u001b[32mfunction\u001b[39m \u001b[36misRectangle\u001b[39m"
      ]
     },
     "execution_count": 47,
     "metadata": {},
     "output_type": "execute_result"
    }
   ],
   "source": [
    "// is rectangle of specific width and height \n",
    "def isRectangle(s:Shape, w1:Int): Boolean =\n",
    "    s match{\n",
    "        case Rectangle(`w1`,h) => true\n",
    "        case _ =>false\n",
    "    }"
   ]
  },
  {
   "cell_type": "code",
   "execution_count": null,
   "metadata": {},
   "outputs": [],
   "source": [
    "// invoke\n"
   ]
  },
  {
   "cell_type": "markdown",
   "metadata": {},
   "source": [
    "We can pattern match repeatedly until several levels of nesting:"
   ]
  },
  {
   "cell_type": "code",
   "execution_count": 1,
   "metadata": {},
   "outputs": [
    {
     "data": {
      "text/plain": [
       "defined \u001b[32mfunction\u001b[39m \u001b[36mfoo\u001b[39m"
      ]
     },
     "execution_count": 1,
     "metadata": {},
     "output_type": "execute_result"
    }
   ],
   "source": [
    "//(Int + String) + Int *(String + Boolean)\n",
    "//Int + String + Int*String + Int*Boolean\n",
    "\n",
    "def foo(s: Either[Either[Int, String], (Int, Either[String, Boolean])]): Int =\n",
    "    s match{\n",
    "        case Left(a: Either[Int,String]) => \n",
    "            a match{\n",
    "                case Left(i:Int)=> 1\n",
    "                case Right(s:String) => 2\n",
    "            }\n",
    "        case Right(t: (Int, Either[String,Boolean])) => \n",
    "            t._2 match{\n",
    "                case Left(s:String) => 3\n",
    "                case Right(b: Boolean) => 4\n",
    "            }\n",
    "    }"
   ]
  },
  {
   "cell_type": "code",
   "execution_count": 2,
   "metadata": {},
   "outputs": [
    {
     "data": {
      "text/plain": [
       "\u001b[36mres1\u001b[39m: \u001b[32mInt\u001b[39m = \u001b[32m4\u001b[39m"
      ]
     },
     "execution_count": 2,
     "metadata": {},
     "output_type": "execute_result"
    }
   ],
   "source": [
    "foo(Right((0:Int, Right(true:Boolean): Either [String,Boolean])))"
   ]
  },
  {
   "cell_type": "markdown",
   "metadata": {},
   "source": [
    "This is actually more convenient than this way:"
   ]
  },
  {
   "cell_type": "code",
   "execution_count": 3,
   "metadata": {},
   "outputs": [
    {
     "data": {
      "text/plain": [
       "defined \u001b[32mfunction\u001b[39m \u001b[36mfoo\u001b[39m"
      ]
     },
     "execution_count": 3,
     "metadata": {},
     "output_type": "execute_result"
    }
   ],
   "source": [
    "def foo(s: Either[Either[Int, String], (Int, Either[String, Boolean])]): Int = \n",
    "    s match{\n",
    "        case Left(Left(i:Int)) => 1\n",
    "        case Left(Right(s:String)) => 2\n",
    "        case Right((i: Int, Left(s:String))) => 3\n",
    "        case Right((i: Int, Right(b: Boolean))) => 4\n",
    "    }"
   ]
  },
  {
   "cell_type": "markdown",
   "metadata": {},
   "source": [
    "Note that `(Int+String)+Int*(String+Boolean)` $\\cong$ `Int + String + Int*String + Int*Boolean`, i.e. four cases.\n"
   ]
  },
  {
   "cell_type": "markdown",
   "metadata": {},
   "source": [
    "More details on pattern matching in Scala can be found [here](https://docs.scala-lang.org/tour/pattern-matching.html). Also, note that we can create custom pattern matching expressions using so-called [_extractors_](https://docs.scala-lang.org/tour/extractor-objects.html). We won't need them in the course, but they can be really helpful to simplifiy and get more understandable pattern matching expressions. "
   ]
  },
  {
   "cell_type": "code",
   "execution_count": 5,
   "metadata": {},
   "outputs": [
    {
     "data": {
      "text/plain": [
       "defined \u001b[32mfunction\u001b[39m \u001b[36mfoo\u001b[39m"
      ]
     },
     "execution_count": 5,
     "metadata": {},
     "output_type": "execute_result"
    }
   ],
   "source": [
    "def foo(s: Either[Int, String]): Boolean = \n",
    "    s match{\n",
    "        case Left(i: Int) => true\n",
    "        case Right(t: String) => false\n",
    "    }"
   ]
  },
  {
   "cell_type": "code",
   "execution_count": 4,
   "metadata": {},
   "outputs": [
    {
     "data": {
      "text/plain": [
       "\u001b[36mfoo\u001b[39m: \u001b[32mEither\u001b[39m[\u001b[32mInt\u001b[39m, \u001b[32mString\u001b[39m] => \u001b[32mBoolean\u001b[39m = ammonite.$sess.cmd3$Helper$$Lambda$2413/1953977424@39260642"
      ]
     },
     "execution_count": 4,
     "metadata": {},
     "output_type": "execute_result"
    }
   ],
   "source": [
    "val foo : Either[Int, String]=> Boolean =\n",
    "    {\n",
    "        case Left(i) => true\n",
    "        case Right(i) => false\n",
    "    }"
   ]
  },
  {
   "cell_type": "markdown",
   "metadata": {},
   "source": [
    "## Exponent types"
   ]
  },
  {
   "cell_type": "markdown",
   "metadata": {},
   "source": [
    "We already know how to build new types by _adding_ and _multiplying_ other types. We will see now that function types can be properly called _exponent_ types. Indeed, let's consider how many functions are there with type `Boolean => Boolean`:"
   ]
  },
  {
   "cell_type": "code",
   "execution_count": null,
   "metadata": {},
   "outputs": [],
   "source": [
    "// false -> false, true -> false\n",
    "// ..."
   ]
  },
  {
   "cell_type": "markdown",
   "metadata": {},
   "source": [
    "In general, $|X\\Rightarrow Y|=|Y|^{|X|}$, since for any $X$ we have $|Y|$ values available. But the correspondence with arithmetic exponents goes further, since the familiar laws of exponents:"
   ]
  },
  {
   "cell_type": "markdown",
   "metadata": {},
   "source": [
    "$$ \n",
    "\\begin{array}{rcl}\n",
    "X^0 & = & 1 \\\\\n",
    "1^X & = & 1 \\\\\n",
    "X^1 & = & X \\\\\n",
    "Z^{X+Y} & = &  Z^X * Z^Y \\\\\n",
    "Z^{X*Y} & = & Z^{Y^X} \\\\\n",
    "(Y*Z)^X & = & Y^X*Z^X \\\\\n",
    "\\end{array}\n",
    "$$\n",
    "\n"
   ]
  },
  {
   "cell_type": "markdown",
   "metadata": {},
   "source": [
    "can be recasted in terms of laws for algebraic data types as follows:"
   ]
  },
  {
   "cell_type": "markdown",
   "metadata": {},
   "source": [
    "$$ \n",
    "\\begin{array}{rcl}\n",
    "0 \\Rightarrow X & \\cong & 1 \\\\\n",
    "X \\Rightarrow 1 & \\cong & 1 \\\\\n",
    "1 \\Rightarrow X & \\cong & X \\\\\n",
    "(X+Y) \\Rightarrow Z & \\cong & (X \\Rightarrow Z) * (Y \\Rightarrow Z) \\\\\n",
    "(X*Y) \\Rightarrow Z & \\cong & X \\Rightarrow (Y \\Rightarrow Z) \\\\\n",
    "X \\Rightarrow Y*Z & \\cong & (X \\Rightarrow Y)*(X \\Rightarrow Z) \\\\\n",
    "\\end{array}\n",
    "$$\n",
    "\n"
   ]
  },
  {
   "cell_type": "markdown",
   "metadata": {},
   "source": [
    "And these isomorphisms hold! Let's see some examples."
   ]
  },
  {
   "cell_type": "markdown",
   "metadata": {},
   "source": [
    "## $X \\Rightarrow 1 \\cong 1$"
   ]
  },
  {
   "cell_type": "markdown",
   "metadata": {},
   "source": [
    "Essentially, this isomorphism tells us that we only have one implementation of the function type $X \\Rightarrow 1$, for any type $X$. Namely:"
   ]
  },
  {
   "cell_type": "code",
   "execution_count": null,
   "metadata": {},
   "outputs": [],
   "source": [
    "// the only function X => 1"
   ]
  },
  {
   "cell_type": "markdown",
   "metadata": {},
   "source": [
    "which agrees with the formula: $|X \\Rightarrow 1| = |1|^{|X|} = 1$."
   ]
  },
  {
   "cell_type": "markdown",
   "metadata": {},
   "source": [
    "## $0 \\Rightarrow X \\cong 1$"
   ]
  },
  {
   "cell_type": "markdown",
   "metadata": {},
   "source": [
    "The same happens for $0 \\Rightarrow X$, for any type $X$: "
   ]
  },
  {
   "cell_type": "code",
   "execution_count": null,
   "metadata": {},
   "outputs": [],
   "source": [
    "// the only function 0 => X\n"
   ]
  },
  {
   "cell_type": "markdown",
   "metadata": {},
   "source": [
    "(recall that `Nothing <: X` for any `X` in Scala). This agrees with the arithmetic formula $|0 => X|=|X|^0=1$."
   ]
  },
  {
   "cell_type": "markdown",
   "metadata": {},
   "source": [
    "## $(Y+Z) \\Rightarrow X \\cong (Y \\Rightarrow X) * (Z \\Rightarrow X)$"
   ]
  },
  {
   "cell_type": "markdown",
   "metadata": {},
   "source": [
    "We show this isomorphism by implementing the following functions:"
   ]
  },
  {
   "cell_type": "code",
   "execution_count": 6,
   "metadata": {},
   "outputs": [
    {
     "data": {
      "text/plain": [
       "defined \u001b[32mfunction\u001b[39m \u001b[36mfrom\u001b[39m"
      ]
     },
     "execution_count": 6,
     "metadata": {},
     "output_type": "execute_result"
    }
   ],
   "source": [
    "// from\n",
    "def from[X,Y,Z](f:Either[Y,Z] => X): (Y => X, Z => X)=\n",
    "    ((y: Y) => f(Left(y : Y) :Either[Y,Z]) : X,\n",
    "     (z : Z) => f(Right(z : Z) :Either[Y,Z]) : X)\n"
   ]
  },
  {
   "cell_type": "code",
   "execution_count": null,
   "metadata": {},
   "outputs": [],
   "source": [
    "// to\n",
    "def to(t: (Y=>X, Z=>X)): Either[Y,Z]=> X =\n",
    "    "
   ]
  },
  {
   "cell_type": "markdown",
   "metadata": {},
   "source": [
    "The last pattern matching can also be written more concisely using so-called [partial functions](https://www.scala-lang.org/api/current/scala/PartialFunction.html): "
   ]
  },
  {
   "cell_type": "code",
   "execution_count": 7,
   "metadata": {},
   "outputs": [
    {
     "data": {
      "text/plain": [
       "defined \u001b[32mfunction\u001b[39m \u001b[36mto\u001b[39m"
      ]
     },
     "execution_count": 7,
     "metadata": {},
     "output_type": "execute_result"
    }
   ],
   "source": [
    "def to[X, Y, Z](t: (Y => X, Z => X)): Either[Y, Z] => X = \n",
    "    (e : Either[Y, Z]) => \n",
    "         e match{\n",
    "             case Left(y:Y)=>\n",
    "                 t._1(y: Y) : X\n",
    "             case Right(z: Z)=>\n",
    "                 t._2(z:Z) : X\n",
    "         }"
   ]
  },
  {
   "cell_type": "markdown",
   "metadata": {},
   "source": [
    "(see this [post](https://alvinalexander.com/scala/how-to-define-use-partial-functions-in-scala-syntax-examples/) for more information on Scala partial functions)."
   ]
  },
  {
   "cell_type": "markdown",
   "metadata": {},
   "source": [
    "But we must also show, or at least _test_, that both functions are mutual inverses, i.e. that:\n",
    "\n",
    "`from(to(f)) == f`, for all `f: (Y => X, Z => X)`\n",
    "\n",
    "`to(from(f)) == f`, for all `f: Either[Y, Z] => X`\n",
    "\n",
    "We will perform some unit testing here with the following two functions:"
   ]
  },
  {
   "cell_type": "code",
   "execution_count": null,
   "metadata": {},
   "outputs": [],
   "source": [
    "def ex1(f: Either[Boolean, Boolean]): Boolean = \n",
    "    false\n",
    "\n",
    "val ex2: (Boolean => Boolean, Boolean => Boolean) = \n",
    "    (_ => false, _ => true)"
   ]
  },
  {
   "cell_type": "markdown",
   "metadata": {},
   "source": [
    "thus fixing types $X$, $Y$ and $Z$ to $Boolean$. Then, we need the following equality functions:"
   ]
  },
  {
   "cell_type": "code",
   "execution_count": null,
   "metadata": {},
   "outputs": [],
   "source": [
    "def equal0(f1: Boolean => Boolean, f2: Boolean => Boolean): Boolean = \n",
    "    f1(false) == f2(true) && \n",
    "    f1(true) == f2(true)\n",
    "\n",
    "def equal1(f1: (Boolean => Boolean, Boolean => Boolean), \n",
    "           f2: (Boolean => Boolean, Boolean => Boolean)): Boolean = \n",
    "    equal0(f1._1, f2._1) && equal0(f2._2, f2._2)\n",
    "    \n",
    "def equal2(f1: Either[Boolean, Boolean] => Boolean, \n",
    "           f2: Either[Boolean, Boolean] => Boolean): Boolean = \n",
    "    f1(Left(false)) == f2(Left(false)) &&\n",
    "    f1(Left(true)) == f2(Left(true)) &&\n",
    "    f1(Right(false)) == f2(Right(false)) &&\n",
    "    f1(Right(true)) == f2(Right(true))"
   ]
  },
  {
   "cell_type": "markdown",
   "metadata": {},
   "source": [
    "and, finally, we can perform our test: "
   ]
  },
  {
   "cell_type": "code",
   "execution_count": null,
   "metadata": {},
   "outputs": [],
   "source": [
    "equal1(from(to(ex2)), ex2)\n",
    "equal2(to(from(ex1)), ex1)"
   ]
  }
 ],
 "metadata": {
  "kernelspec": {
   "display_name": "Scala 2.12",
   "language": "scala",
   "name": "scala212"
  },
  "language_info": {
   "codemirror_mode": "text/x-scala",
   "file_extension": ".sc",
   "mimetype": "text/x-scala",
   "name": "scala",
   "nbconvert_exporter": "script",
   "version": "2.12.12"
  }
 },
 "nbformat": 4,
 "nbformat_minor": 2
}
