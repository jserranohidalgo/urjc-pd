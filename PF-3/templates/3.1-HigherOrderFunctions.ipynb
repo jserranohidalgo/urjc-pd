{
 "cells": [
  {
   "cell_type": "markdown",
   "metadata": {},
   "source": [
    "# Higher-order functions"
   ]
  },
  {
   "cell_type": "markdown",
   "metadata": {},
   "source": [
    "In this notebook, we will see that higher-order functions (HOFs) are essential modularity devices, and we will introduce the most common higher-order functions that operate over many different data structures."
   ]
  },
  {
   "cell_type": "code",
   "execution_count": 1,
   "metadata": {},
   "outputs": [
    {
     "name": "stderr",
     "output_type": "stream",
     "text": [
      "Downloading https://repo1.maven.org/maven2/org/scalatest/scalatest_2.12/3.0.8/scalatest_2.12-3.0.8.pom\n",
      "Downloaded https://repo1.maven.org/maven2/org/scalatest/scalatest_2.12/3.0.8/scalatest_2.12-3.0.8.pom\n",
      "Downloading https://repo1.maven.org/maven2/org/scalactic/scalactic_2.12/3.0.8/scalactic_2.12-3.0.8.pom\n",
      "Downloaded https://repo1.maven.org/maven2/org/scalactic/scalactic_2.12/3.0.8/scalactic_2.12-3.0.8.pom\n",
      "Downloading https://repo1.maven.org/maven2/org/scalactic/scalactic_2.12/3.0.8/scalactic_2.12-3.0.8.jar\n",
      "Downloading https://repo1.maven.org/maven2/org/scalatest/scalatest_2.12/3.0.8/scalatest_2.12-3.0.8.jar\n",
      "Downloading https://repo1.maven.org/maven2/org/scalactic/scalactic_2.12/3.0.8/scalactic_2.12-3.0.8-sources.jar\n",
      "Downloading https://repo1.maven.org/maven2/org/scalatest/scalatest_2.12/3.0.8/scalatest_2.12-3.0.8-sources.jar\n",
      "Downloaded https://repo1.maven.org/maven2/org/scalactic/scalactic_2.12/3.0.8/scalactic_2.12-3.0.8-sources.jar\n",
      "Downloaded https://repo1.maven.org/maven2/org/scalactic/scalactic_2.12/3.0.8/scalactic_2.12-3.0.8.jar\n",
      "Downloaded https://repo1.maven.org/maven2/org/scalatest/scalatest_2.12/3.0.8/scalatest_2.12-3.0.8-sources.jar\n",
      "Downloaded https://repo1.maven.org/maven2/org/scalatest/scalatest_2.12/3.0.8/scalatest_2.12-3.0.8.jar\n"
     ]
    },
    {
     "data": {
      "text/plain": [
       "\u001b[32mimport \u001b[39m\u001b[36m$ivy.$                               \n",
       "\u001b[39m\n",
       "\u001b[32mimport \u001b[39m\u001b[36m_root_.org.scalatest._\u001b[39m"
      ]
     },
     "execution_count": 1,
     "metadata": {},
     "output_type": "execute_result"
    }
   ],
   "source": [
    "import $ivy.`org.scalatest::scalatest:3.0.8`\n",
    "import _root_.org.scalatest._"
   ]
  },
  {
   "cell_type": "markdown",
   "metadata": {},
   "source": [
    "### References\n",
    "\n",
    "[__Programming in Scala, \n",
    "A comprehensive step-by-step guide__](https://www.artima.com/shop/programming_in_scala_3ed) Third Edition.\n",
    "by Martin Odersky, Lex Spoon, and Bill Venners. \n",
    "\n",
    "- Chapter 6. Functional objects\n",
    "- Chapter 8. Functions and closures\n",
    "- Chapter 16. Working with Lists\n",
    "- Chapter 23. For Expressions Revisited\n",
    "\n",
    "[__Functional programming in Scala__](https://www.manning.com/books/functional-programming-in-scala), by Paul Chiusano and Runar Bjarnason.\n",
    "\n",
    "- Chapter 3. Functional data structures\n",
    "\n",
    "[__Functional programming simplified__](https://alvinalexander.com/downloads/fpsimplified-free-preview.pdf), by Alvin Alexander.\n",
    "\n",
    "- Chapter 22. Functions Are Variables, Too\n",
    "- Chapter 23. Using Methods As If They Were Functions\n",
    "- Chapter 24. How to Write Functions That Take Functions as Input Parameters\n",
    "- Chapter 25. How to Write a ‘map’ Function\n",
    "- Chapter 27. Functions Can Have Multiple Parameter Groups\n",
    "- Chapter 28. Partially-Applied Functions (and Currying)"
   ]
  },
  {
   "cell_type": "code",
   "execution_count": null,
   "metadata": {},
   "outputs": [],
   "source": [
    "def compose[A,B,C](f: B => C, g: A => B): A => C =\n",
    "    (a: A)=> f(g(a))"
   ]
  },
  {
   "cell_type": "markdown",
   "metadata": {},
   "source": [
    "## `FoldRight`: divide and conquer"
   ]
  },
  {
   "cell_type": "markdown",
   "metadata": {},
   "source": [
    "HOFs shine when the time comes to break monoliths. For instance, let's consider the following two functions:"
   ]
  },
  {
   "cell_type": "code",
   "execution_count": 2,
   "metadata": {},
   "outputs": [
    {
     "data": {
      "text/plain": [
       "defined \u001b[32mfunction\u001b[39m \u001b[36msum\u001b[39m"
      ]
     },
     "execution_count": 2,
     "metadata": {},
     "output_type": "execute_result"
    }
   ],
   "source": [
    "def sum(list: List[Int]): Int = \n",
    "    list match{\n",
    "        case Nil => 0\n",
    "        case head::tail=> head + sum(tail)\n",
    "    }"
   ]
  },
  {
   "cell_type": "code",
   "execution_count": 3,
   "metadata": {},
   "outputs": [
    {
     "data": {
      "text/plain": [
       "defined \u001b[32mfunction\u001b[39m \u001b[36mmultiply\u001b[39m"
      ]
     },
     "execution_count": 3,
     "metadata": {},
     "output_type": "execute_result"
    }
   ],
   "source": [
    "def multiply(list: List[Int]): Int = \n",
    "     list match{\n",
    "        case Nil => 1\n",
    "        case head::tail=> head * multiply(tail)\n",
    "    }"
   ]
  },
  {
   "cell_type": "markdown",
   "metadata": {},
   "source": [
    "These functions clearly share a common logic: their only differences are the value which is returned when the list is empty, and the function used to combine numbers (`+` and `*`, respectively). We can abstract away these differences and arrive to a more generic function which encodes that common logic:"
   ]
  },
  {
   "cell_type": "code",
   "execution_count": 4,
   "metadata": {},
   "outputs": [
    {
     "data": {
      "text/plain": [
       "defined \u001b[32mfunction\u001b[39m \u001b[36mfoldRight\u001b[39m"
      ]
     },
     "execution_count": 4,
     "metadata": {},
     "output_type": "execute_result"
    }
   ],
   "source": [
    "def foldRight(list: List[Int])(\n",
    "    nil:Int,\n",
    "    cons:(Int,Int)=>Int): Int = \n",
    "    list match{\n",
    "        case Nil => nil\n",
    "        case head::tail=> \n",
    "         val tailSol:Int = foldRight(tail)(nil,cons)\n",
    "         cons(head,tailSol):Int\n",
    "    }"
   ]
  },
  {
   "cell_type": "markdown",
   "metadata": {},
   "source": [
    "which allows us to re-define in a modular way the `sum` and `multiply` functions:"
   ]
  },
  {
   "cell_type": "code",
   "execution_count": 5,
   "metadata": {},
   "outputs": [
    {
     "data": {
      "text/plain": [
       "defined \u001b[32mfunction\u001b[39m \u001b[36msum\u001b[39m"
      ]
     },
     "execution_count": 5,
     "metadata": {},
     "output_type": "execute_result"
    }
   ],
   "source": [
    "def sum(list: List[Int]): Int = \n",
    "    foldRight(list)(\n",
    "        0,\n",
    "        (head: Int, tailSum: Int)=> head + tailSum : Int)"
   ]
  },
  {
   "cell_type": "code",
   "execution_count": 6,
   "metadata": {},
   "outputs": [
    {
     "data": {
      "text/plain": [
       "defined \u001b[32mfunction\u001b[39m \u001b[36msum\u001b[39m"
      ]
     },
     "execution_count": 6,
     "metadata": {},
     "output_type": "execute_result"
    }
   ],
   "source": [
    "def sum(list: List[Int]): Int = \n",
    "    foldRight(list)(0,_+_)"
   ]
  },
  {
   "cell_type": "code",
   "execution_count": 9,
   "metadata": {},
   "outputs": [
    {
     "data": {
      "text/plain": [
       "\u001b[36mres8\u001b[39m: \u001b[32mInt\u001b[39m = \u001b[32m15\u001b[39m"
      ]
     },
     "execution_count": 9,
     "metadata": {},
     "output_type": "execute_result"
    }
   ],
   "source": [
    "sum(List(1,2,3,4,5))"
   ]
  },
  {
   "cell_type": "code",
   "execution_count": 7,
   "metadata": {},
   "outputs": [
    {
     "data": {
      "text/plain": [
       "defined \u001b[32mfunction\u001b[39m \u001b[36mmultiply\u001b[39m"
      ]
     },
     "execution_count": 7,
     "metadata": {},
     "output_type": "execute_result"
    }
   ],
   "source": [
    "def multiply(list: List[Int]): Int = \n",
    "    foldRight(list)(\n",
    "        1,\n",
    "        (head: Int, tailMul: Int)=> head * tailMul : Int)"
   ]
  },
  {
   "cell_type": "code",
   "execution_count": 8,
   "metadata": {},
   "outputs": [
    {
     "data": {
      "text/plain": [
       "defined \u001b[32mfunction\u001b[39m \u001b[36mmultiply\u001b[39m"
      ]
     },
     "execution_count": 8,
     "metadata": {},
     "output_type": "execute_result"
    }
   ],
   "source": [
    "def multiply(list: List[Int]): Int = \n",
    "    foldRight(list)(1,_*_)"
   ]
  },
  {
   "cell_type": "markdown",
   "metadata": {},
   "source": [
    "But we don't need to constrain ourselves to integers. In its generic version, the `combine` function is actually the `foldRight` higher-order function (for `List`s):"
   ]
  },
  {
   "cell_type": "code",
   "execution_count": 10,
   "metadata": {},
   "outputs": [
    {
     "data": {
      "text/plain": [
       "defined \u001b[32mfunction\u001b[39m \u001b[36mfoo\u001b[39m"
      ]
     },
     "execution_count": 10,
     "metadata": {},
     "output_type": "execute_result"
    }
   ],
   "source": [
    "def foo(list:List[Int]): Boolean =\n",
    "    list match{\n",
    "        case Nil=> true\n",
    "        case head :: tail =>\n",
    "            val tailOrdered: Boolean = foo(tail)\n",
    "            tail match{\n",
    "                case Nil => true\n",
    "                case head2 :: tail2 => \n",
    "                head< head2 && tailOrdered\n",
    "            }\n",
    "    }"
   ]
  },
  {
   "cell_type": "code",
   "execution_count": 11,
   "metadata": {},
   "outputs": [
    {
     "data": {
      "text/plain": [
       "defined \u001b[32mfunction\u001b[39m \u001b[36mfoo\u001b[39m"
      ]
     },
     "execution_count": 11,
     "metadata": {},
     "output_type": "execute_result"
    }
   ],
   "source": [
    "def foo(list:List[Int]): Boolean =\n",
    "    list match{\n",
    "        case head :: head2 :: tail =>\n",
    "            val tailOrdered: Boolean = foo(head2 :: tail)\n",
    "                head< head2 && tailOrdered\n",
    "        case _ => true\n",
    "    }"
   ]
  },
  {
   "cell_type": "code",
   "execution_count": 12,
   "metadata": {},
   "outputs": [
    {
     "data": {
      "text/plain": [
       "defined \u001b[32mfunction\u001b[39m \u001b[36mfoldRight\u001b[39m"
      ]
     },
     "execution_count": 12,
     "metadata": {},
     "output_type": "execute_result"
    }
   ],
   "source": [
    "def foldRight(list: List[Int])(\n",
    "    nil:Boolean,\n",
    "    cons:(Int,Boolean)=>Boolean): Boolean = \n",
    "    list match{\n",
    "        case Nil => nil\n",
    "        case head::tail=> \n",
    "         val tailSol:Boolean = foldRight(tail)(nil,cons)\n",
    "         cons(head,tailSol):Boolean\n",
    "    }"
   ]
  },
  {
   "cell_type": "code",
   "execution_count": 13,
   "metadata": {},
   "outputs": [
    {
     "data": {
      "text/plain": [
       "defined \u001b[32mfunction\u001b[39m \u001b[36mfoldRight\u001b[39m"
      ]
     },
     "execution_count": 13,
     "metadata": {},
     "output_type": "execute_result"
    }
   ],
   "source": [
    "//EL BUENO, USA RECURSIVIDAD Y GENERICIDAD\n",
    "def foldRight[A,B](list: List[A])(\n",
    "    nil:B,\n",
    "    cons:(A,B)=>B): B = \n",
    "    list match{\n",
    "        case Nil => nil\n",
    "        case head::tail=> \n",
    "         val tailSol:B = foldRight(tail)(nil,cons)\n",
    "         cons(head,tailSol):B\n",
    "    }"
   ]
  },
  {
   "cell_type": "code",
   "execution_count": 17,
   "metadata": {},
   "outputs": [
    {
     "data": {
      "text/plain": [
       "defined \u001b[32mfunction\u001b[39m \u001b[36msorted\u001b[39m"
      ]
     },
     "execution_count": 17,
     "metadata": {},
     "output_type": "execute_result"
    }
   ],
   "source": [
    "def sorted(list:List[Int]): Boolean =\n",
    "    foldRight(list)(\n",
    "       (Nil, true): (List[Int],Boolean),\n",
    "        (head:Int,tailSol: (List[Int],Boolean)) =>\n",
    "            tailSol._1 match {\n",
    "                case Nil => (head::tailSol._1,true)\n",
    "                case head2::tail2 =>\n",
    "                    (head :: tailSol._1,\n",
    "                     head < head2 && tailSol._2)\n",
    "            })._2"
   ]
  },
  {
   "cell_type": "code",
   "execution_count": 15,
   "metadata": {},
   "outputs": [
    {
     "data": {
      "text/plain": [
       "\u001b[36mres14\u001b[39m: \u001b[32mBoolean\u001b[39m = true"
      ]
     },
     "execution_count": 15,
     "metadata": {},
     "output_type": "execute_result"
    }
   ],
   "source": [
    "sorted(List(1,2,3,4,5))"
   ]
  },
  {
   "cell_type": "code",
   "execution_count": 18,
   "metadata": {},
   "outputs": [
    {
     "data": {
      "text/plain": [
       "\u001b[36mres17\u001b[39m: \u001b[32mBoolean\u001b[39m = false"
      ]
     },
     "execution_count": 18,
     "metadata": {},
     "output_type": "execute_result"
    }
   ],
   "source": [
    "sorted(List(1,2,8,4,5))"
   ]
  },
  {
   "cell_type": "markdown",
   "metadata": {},
   "source": [
    "Graphically, we can explain the behaviour of `foldRight` as follows: "
   ]
  },
  {
   "cell_type": "markdown",
   "metadata": {},
   "source": [
    "![with elements](../images/foldRight.1.svg)\n",
    "\n",
    "(all images credit to [Scala Visual Reference](https://superruzafa.github.io/visual-scala-reference/))"
   ]
  },
  {
   "cell_type": "markdown",
   "metadata": {},
   "source": [
    "We can understand `foldRight` as an implementation of the divide-and-conquer design pattern: first, divide your problems in subproblems; second, solve these sub-problems; last, compose their solutions to obtain the solution to the overall problem. If the sub-problems are simple enough they can be solved directly; otherwise, they are solved recursively. In the case of lists:\n",
    "- The problem is obtaining a value of type `B` for a given list.\n",
    "- The only sub-problem corresponds to the tail of that list. \n",
    "- The arguments of the `foldRight` function tell us how to obtain the solution for the empty list (the atomic problem which can not be further decomposed), and how to obtain the solution from the solution to the sub-problem."
   ]
  },
  {
   "cell_type": "markdown",
   "metadata": {},
   "source": [
    "From this perspective, the implementation of `sum` and `multiply` is exactly the same as before when we used the function `combine`, although we can explain them differently:"
   ]
  },
  {
   "cell_type": "code",
   "execution_count": null,
   "metadata": {},
   "outputs": [],
   "source": [
    "def sum(list: List[Int]): Int = \n",
    "    ???"
   ]
  },
  {
   "cell_type": "code",
   "execution_count": null,
   "metadata": {},
   "outputs": [],
   "source": [
    "def multiply(list: List[Int]): Int = \n",
    "    ???"
   ]
  },
  {
   "cell_type": "markdown",
   "metadata": {},
   "source": [
    "#### Improved type-inference"
   ]
  },
  {
   "cell_type": "markdown",
   "metadata": {},
   "source": [
    "Technically, you may have noticed that we have to give extra type information in the invocations to `foldRight`. In fact, the following code doesn't compile. Check it yourself!"
   ]
  },
  {
   "cell_type": "code",
   "execution_count": null,
   "metadata": {},
   "outputs": [],
   "source": [
    "\n",
    "def multiply(list: List[Int]): Int = \n",
    "    foldRight(list)(1, (a, b) => a * b)\n",
    "    //list.foldRight(1)(_*_)\n"
   ]
  },
  {
   "cell_type": "markdown",
   "metadata": {},
   "source": [
    "In order to help the Scala compiler to infer the type parameters of the `foldRight` function, we need to change its signature a little bit: "
   ]
  },
  {
   "cell_type": "code",
   "execution_count": null,
   "metadata": {},
   "outputs": [],
   "source": []
  },
  {
   "cell_type": "markdown",
   "metadata": {},
   "source": [
    "By splitting the second parameter list, we allow the Scala compiler to infer the type of `B`, before it analyses the type of the `cons` argument. Now this works:"
   ]
  },
  {
   "cell_type": "code",
   "execution_count": null,
   "metadata": {},
   "outputs": [],
   "source": []
  },
  {
   "cell_type": "markdown",
   "metadata": {},
   "source": [
    "#### HOFs in the Scala API"
   ]
  },
  {
   "cell_type": "markdown",
   "metadata": {},
   "source": [
    "The `foldRight` HOF, as all the HOFs that we will explain in this notebook, are actually part of the standard Collections library of Scala. Typically, they are implemented as member methods of the corresponding collection class. For lists, the [Scala API](https://www.scala-lang.org/api/2.13.1/scala/collection/immutable/List.html) offers something like this:"
   ]
  },
  {
   "cell_type": "code",
   "execution_count": null,
   "metadata": {},
   "outputs": [],
   "source": [
    "object Standard{\n",
    "    class List[A]{\n",
    "        def foldRight[B](b: B)(f: (B, A) => B): B = ???\n",
    "    }\n",
    "}"
   ]
  },
  {
   "cell_type": "markdown",
   "metadata": {},
   "source": [
    "So, invocations of the standard `foldRight` do not receive the list as argument, but are common method invocations on some `List` instance:"
   ]
  },
  {
   "cell_type": "code",
   "execution_count": null,
   "metadata": {},
   "outputs": [],
   "source": []
  },
  {
   "cell_type": "markdown",
   "metadata": {},
   "source": [
    "Normally, we will use standard HOFs instead of our home-made versions, once they are explained. "
   ]
  },
  {
   "cell_type": "markdown",
   "metadata": {},
   "source": [
    "## The Hall of Fame of HOFs"
   ]
  },
  {
   "cell_type": "markdown",
   "metadata": {},
   "source": [
    "Besides `compose`, `andThen` and `foldRight`, there are other famous higher-order functions which work great as modularity devices: "
   ]
  },
  {
   "cell_type": "code",
   "execution_count": null,
   "metadata": {},
   "outputs": [],
   "source": [
    "def foldLeft[A, B](list: List[A])(b: B)(f: (B, A) => B): B = ???\n",
    "def filter[A](list: List[A])(f: A => Boolean): List[A] = ???\n",
    "def map[A, B](list: List[A])(f: A => B): List[B] = ???\n",
    "def flatMap[A, B](list: List[A])(f: A => List[B]): List[B] = ???"
   ]
  },
  {
   "cell_type": "markdown",
   "metadata": {},
   "source": [
    "But most of these functions do not only work for `List`, they work also for `Option`, `Either[A, ?]`, and many other data structures. For instance:"
   ]
  },
  {
   "cell_type": "code",
   "execution_count": null,
   "metadata": {},
   "outputs": [],
   "source": [
    "def foldRight[A, B](opt: Option[A])(none: B)(some: A => B): B = ???\n",
    "def filter[A](opt: Option[A])(f: A => Boolean): Option[A] = ???\n",
    "def map[A, B](opt: Option[A])(f: A => B): Option[B] = ???  \n",
    "def flatMap[A, B](opt: Option[A])(f: A => Option[B] ): Option[B] = ???"
   ]
  },
  {
   "cell_type": "code",
   "execution_count": null,
   "metadata": {},
   "outputs": [],
   "source": [
    "def foldRight[A, B, C](opt: Either[A, B])(left: A => C, right: B => C): C = ???\n",
    "def filter[A, B](opt: Either[A, B])(f: B => Boolean): Either[A, B] = ???\n",
    "def map[A, B, C](opt: Either[A, B])(f: B => C): Either[A, C] = ???  \n",
    "def flatMap[A, B, C](opt: Either[A, B])(f: B => Either[A, C] ): Either[A, C] = ???"
   ]
  },
  {
   "cell_type": "markdown",
   "metadata": {},
   "source": [
    "The `fold` function is the catamorphism for `Option` and `Either[A, ?]`, in the same way than `foldRight` is the catamorphism for lists (we will see catamorphisms later on). "
   ]
  },
  {
   "cell_type": "markdown",
   "metadata": {},
   "source": [
    "## FoldLeft: a better loop"
   ]
  },
  {
   "cell_type": "markdown",
   "metadata": {},
   "source": [
    "The `foldLeft` HOF is the functional way to implement common imperative algorithms. For instance:"
   ]
  },
  {
   "cell_type": "code",
   "execution_count": 20,
   "metadata": {},
   "outputs": [
    {
     "data": {
      "text/plain": [
       "defined \u001b[32mfunction\u001b[39m \u001b[36mlength\u001b[39m"
      ]
     },
     "execution_count": 20,
     "metadata": {},
     "output_type": "execute_result"
    }
   ],
   "source": [
    "def length[A](list: List[A]): Int = {\n",
    "    var out: Int = 0\n",
    "    for (e <- list)\n",
    "        out += 1\n",
    "    out\n",
    "}"
   ]
  },
  {
   "cell_type": "code",
   "execution_count": 19,
   "metadata": {},
   "outputs": [
    {
     "data": {
      "text/plain": [
       "defined \u001b[32mfunction\u001b[39m \u001b[36mreverse\u001b[39m"
      ]
     },
     "execution_count": 19,
     "metadata": {},
     "output_type": "execute_result"
    }
   ],
   "source": [
    "def reverse[A](list: List[A]): List[A] = {\n",
    "    var out: List[A] = Nil\n",
    "    for (e <- list)\n",
    "        out = e :: out\n",
    "    out\n",
    "} "
   ]
  },
  {
   "cell_type": "markdown",
   "metadata": {},
   "source": [
    "The following implementation abstracts away the differences in the above functions, and declares two additional parameters: the initial value of a mutable variable, and the update function executed in every step of the loop."
   ]
  },
  {
   "cell_type": "code",
   "execution_count": 23,
   "metadata": {},
   "outputs": [
    {
     "data": {
      "text/plain": [
       "defined \u001b[32mfunction\u001b[39m \u001b[36mfoldLeft\u001b[39m"
      ]
     },
     "execution_count": 23,
     "metadata": {},
     "output_type": "execute_result"
    }
   ],
   "source": [
    "def foldLeft[A,B](list: List[A])(initial: B,update :(B,A)=>B): B = {\n",
    "    var out: B = initial\n",
    "    for (e <- list)\n",
    "        out = update(out:B, e:A)\n",
    "    out\n",
    "} "
   ]
  },
  {
   "cell_type": "code",
   "execution_count": 24,
   "metadata": {},
   "outputs": [
    {
     "data": {
      "text/plain": [
       "defined \u001b[32mfunction\u001b[39m \u001b[36mreverse\u001b[39m"
      ]
     },
     "execution_count": 24,
     "metadata": {},
     "output_type": "execute_result"
    }
   ],
   "source": [
    "def reverse[A](list:List[A]):List[A]=\n",
    "    foldLeft(list)(\n",
    "        Nil: List[A],\n",
    "        (out: List[A], e: A)=> \n",
    "            e :: out : List[A])"
   ]
  },
  {
   "cell_type": "code",
   "execution_count": 25,
   "metadata": {},
   "outputs": [
    {
     "data": {
      "text/plain": [
       "defined \u001b[32mfunction\u001b[39m \u001b[36mlength\u001b[39m"
      ]
     },
     "execution_count": 25,
     "metadata": {},
     "output_type": "execute_result"
    }
   ],
   "source": [
    "def length[A](list:List[A]):Int=\n",
    "    foldLeft(list)(\n",
    "        0: Int,\n",
    "        (out: Int, e: A)=> \n",
    "            out += 1 : Int)"
   ]
  },
  {
   "cell_type": "code",
   "execution_count": 0,
   "metadata": {},
   "outputs": [
    {
     "name": "stderr",
     "output_type": "stream",
     "text": [
      "cmd0.sc:3: not found: type A\n",
      "        val res0_1 = ((out: Int, e: A)=>out+1)\n",
      "                                    ^cmd0.sc:2: missing argument list for method foldLeft in trait LinearSeqOptimized\n",
      "Unapplied methods are only converted to functions when a function type is expected.\n",
      "You can make this conversion explicit by writing `foldLeft _` or `foldLeft(_)(_)` instead of `foldLeft`.\n",
      "    list.foldLeft(0)\n",
      "                 ^Compilation Failed"
     ]
    },
    {
     "ename": "",
     "evalue": "",
     "output_type": "error",
     "traceback": [
      "Compilation Failed"
     ]
    }
   ],
   "source": [
    "def length[A](list:List[A]):Int=\n",
    "    list.foldLeft(0)\n",
    "        ((out: Int, e: A)=>out+1)"
   ]
  },
  {
   "cell_type": "markdown",
   "metadata": {},
   "source": [
    "Similarly, the `foldLeft` function is typically used where a tail-recursive function is needed. Its recursive implementation is naturally tail-recursive:"
   ]
  },
  {
   "cell_type": "code",
   "execution_count": null,
   "metadata": {},
   "outputs": [],
   "source": [
    "//@annotation.tailrec\n",
    "def foldLeft[A, B](list: List[A])(out: B)(update: (B, A) => B): B =\n",
    "    ???"
   ]
  },
  {
   "cell_type": "markdown",
   "metadata": {},
   "source": [
    "Using `foldLeft` we can implement functions at a higher-level of abstraction, i.e. using constructs which are nearer to the problem-domain, without caring about mutable variables, tail-safe recursion, etc. Its use also leads to very concise (and readable!) implementations. For instance, these are (almost) one-liner implementations of some of the functions of the last notebook on recursive functions:"
   ]
  },
  {
   "cell_type": "code",
   "execution_count": null,
   "metadata": {},
   "outputs": [],
   "source": [
    "def length[A](list: List[A]): Int = \n",
    "    ???"
   ]
  },
  {
   "cell_type": "code",
   "execution_count": null,
   "metadata": {},
   "outputs": [],
   "source": [
    "def sum(list: List[Int]): Int = \n",
    "    ???"
   ]
  },
  {
   "cell_type": "code",
   "execution_count": null,
   "metadata": {},
   "outputs": [],
   "source": [
    "def reverse[A](list: List[A]): List[A] = \n",
    "    ???"
   ]
  },
  {
   "cell_type": "markdown",
   "metadata": {},
   "source": [
    "But we may also use the `foldRight` function to implement them:"
   ]
  },
  {
   "cell_type": "code",
   "execution_count": null,
   "metadata": {},
   "outputs": [],
   "source": [
    "def length[A](list: List[A]): Int = \n",
    "    ???"
   ]
  },
  {
   "cell_type": "code",
   "execution_count": null,
   "metadata": {},
   "outputs": [],
   "source": [
    "def sum(list: List[Int]): Int = \n",
    "    ???"
   ]
  },
  {
   "cell_type": "code",
   "execution_count": null,
   "metadata": {},
   "outputs": [],
   "source": [
    "def reverse[A](list: List[A]): List[A] = \n",
    "    ???"
   ]
  },
  {
   "cell_type": "markdown",
   "metadata": {},
   "source": [
    "Functionally, both versions are equivalent, but the ones using `foldLeft` are more efficient. In particular, the `foldRight` version of `reverse` has cuadratic complexity. "
   ]
  },
  {
   "cell_type": "markdown",
   "metadata": {},
   "source": [
    "#### Implementing `foldRight` with `foldLeft`"
   ]
  },
  {
   "cell_type": "markdown",
   "metadata": {},
   "source": [
    "The implementation that we gave for `foldRight` was not tail-recursive, so this will blow up the stack:"
   ]
  },
  {
   "cell_type": "code",
   "execution_count": null,
   "metadata": {},
   "outputs": [],
   "source": [
    "foldRight[Int, Int](List.fill(100000)(1))(0)((_,_)=> 0)"
   ]
  },
  {
   "cell_type": "markdown",
   "metadata": {},
   "source": [
    "In order to obtain a better implementation, we may first reverse the list and use `foldLeft` as follows: "
   ]
  },
  {
   "cell_type": "code",
   "execution_count": null,
   "metadata": {},
   "outputs": [],
   "source": [
    "def foldRightTR[A, B](list: List[A])(nil: B)(cons: (A, B) => B): B = \n",
    "    ???"
   ]
  },
  {
   "cell_type": "markdown",
   "metadata": {},
   "source": [
    "This implementation works right with big lists:"
   ]
  },
  {
   "cell_type": "code",
   "execution_count": null,
   "metadata": {},
   "outputs": [],
   "source": [
    "// foldRightTR[Int, Int](List.fill(100000)(1))(0)((_,_)=> 0)"
   ]
  },
  {
   "cell_type": "markdown",
   "metadata": {},
   "source": [
    "#### Implementing `foldLeft` with `foldRight`"
   ]
  },
  {
   "cell_type": "markdown",
   "metadata": {},
   "source": [
    "This is also possible, though challenging. We start from the tail-recursive implementation of `foldLeft`. First, we rearrange the arguments so that it now returns a function instead of a plain value of type `B`. "
   ]
  },
  {
   "cell_type": "code",
   "execution_count": null,
   "metadata": {},
   "outputs": [],
   "source": [
    "def foldLeft[A, B](list: List[A])(out: B)(update: (B, A) => B): B =\n",
    "    list match {\n",
    "        case Nil => out\n",
    "        case head :: tail => \n",
    "            foldLeft(tail)(update(out, head))(update)\n",
    "    }"
   ]
  },
  {
   "cell_type": "markdown",
   "metadata": {},
   "source": [
    "This was in order to better expose the recursion pattern of `foldRight`. The solution is now obtained simply by noticing that `foldLeft(tail)(update)` is the solution for the tail:"
   ]
  },
  {
   "cell_type": "code",
   "execution_count": null,
   "metadata": {},
   "outputs": [],
   "source": [
    "def foldLeftAux[A, B](list: List[A])(update: (B, A) => B): B => B =\n",
    "    ???"
   ]
  },
  {
   "cell_type": "markdown",
   "metadata": {},
   "source": [
    "The original signature can then be implemented as follows: "
   ]
  },
  {
   "cell_type": "code",
   "execution_count": null,
   "metadata": {},
   "outputs": [],
   "source": [
    "def foldLeft[A, B](list: List[A])(out: B)(update: (B, A) => B): B =\n",
    "    ???"
   ]
  },
  {
   "cell_type": "markdown",
   "metadata": {},
   "source": [
    "## The `map` HOF"
   ]
  },
  {
   "cell_type": "code",
   "execution_count": 1,
   "metadata": {},
   "outputs": [
    {
     "data": {
      "text/plain": [
       "defined \u001b[32mfunction\u001b[39m \u001b[36mlengths\u001b[39m"
      ]
     },
     "execution_count": 1,
     "metadata": {},
     "output_type": "execute_result"
    }
   ],
   "source": [
    "def lengths(list:List[String]):List[Int]=\n",
    "    list match{\n",
    "        case Nil=>Nil:List[Int]\n",
    "        case head::tail=>\n",
    "            val taillengths:List[Int]=lengths(tail)\n",
    "            head.length::taillengths:List[Int]\n",
    "    }"
   ]
  },
  {
   "cell_type": "code",
   "execution_count": 2,
   "metadata": {
    "scrolled": true
   },
   "outputs": [
    {
     "data": {
      "text/plain": [
       "defined \u001b[32mfunction\u001b[39m \u001b[36mlengths\u001b[39m"
      ]
     },
     "execution_count": 2,
     "metadata": {},
     "output_type": "execute_result"
    }
   ],
   "source": [
    "def lengths(list:List[String]):List[Int]=\n",
    "    list.foldRight(Nil:List[Int])((head,tailLengths)=>\n",
    "        head.length :: tailLengths:List[Int])"
   ]
  },
  {
   "cell_type": "code",
   "execution_count": 5,
   "metadata": {},
   "outputs": [
    {
     "data": {
      "text/plain": [
       "defined \u001b[32mfunction\u001b[39m \u001b[36mevens\u001b[39m"
      ]
     },
     "execution_count": 5,
     "metadata": {},
     "output_type": "execute_result"
    }
   ],
   "source": [
    "def evens(list:List[String]):List[Boolean]=\n",
    "    map(list)(s => s.length % 2 == 0)"
   ]
  },
  {
   "cell_type": "markdown",
   "metadata": {},
   "source": [
    "The `map` function is one of the essential HOFs. Its purpose is applying a function to the elements of a data structure, in such a way that the relationships between these elements do not change. The only thing that must be modified is the _content_ of the data structure, not its _shape_. This condition is expressed in the following equations:\n",
    "\n",
    "1. `map(list)(identity) == list` for all `list: List[A]`\n",
    "2. `map(map(list)(f))(g) == map(list)(g compose f)` for all `list: List[A]`, `f: A => B`, `g: B => C`"
   ]
  },
  {
   "cell_type": "markdown",
   "metadata": {},
   "source": [
    "![map](../images/map.svg)"
   ]
  },
  {
   "cell_type": "markdown",
   "metadata": {},
   "source": [
    "The implementation for lists can be done as follows:"
   ]
  },
  {
   "cell_type": "code",
   "execution_count": 6,
   "metadata": {},
   "outputs": [
    {
     "data": {
      "text/plain": [
       "defined \u001b[32mfunction\u001b[39m \u001b[36mmap\u001b[39m"
      ]
     },
     "execution_count": 6,
     "metadata": {},
     "output_type": "execute_result"
    }
   ],
   "source": [
    "def map[A, B](list: List[A])(f: A => B): List[B] = \n",
    "     list match{\n",
    "        case Nil=>Nil:List[B]\n",
    "        case (head: A)::(tail: List[A])=>\n",
    "            val tailMapped:List[B]=map(tail)(f)\n",
    "            f(head)::tailMapped:List[B]\n",
    "    }"
   ]
  },
  {
   "cell_type": "markdown",
   "metadata": {},
   "source": [
    "The `map` function is polymorphic in `A` and `B`, but we can't pass generic functions (aka polymorphic values) as parameters using `FunctionN`classes (these classes only wrap functions from specific types to specific result types). We may create polymorphic versions of `FunctionN` clases, but in order to keep things simple, we will define the test catalogue for `map` using a specific signature chosen at random (any other may serve as well):"
   ]
  },
  {
   "cell_type": "code",
   "execution_count": 3,
   "metadata": {},
   "outputs": [
    {
     "data": {
      "text/plain": [
       "defined \u001b[32mclass\u001b[39m \u001b[36mTestMap\u001b[39m"
      ]
     },
     "execution_count": 3,
     "metadata": {},
     "output_type": "execute_result"
    }
   ],
   "source": [
    "class TestMap(\n",
    "    map: List[Int] => (Int => Boolean) => List[Boolean]\n",
    ") extends FlatSpec with Matchers{\n",
    "    \n",
    "    val isEven: Int => Boolean = _ % 2 == 0\n",
    "    \n",
    "    \"mapping an empty list\" should \"return an empty list\" in {\n",
    "        map(List())(isEven) shouldBe Nil\n",
    "    }\n",
    "    \n",
    "    \"mapping an non-empty list\" should \"only change its content\" in {\n",
    "        map(List(1))(isEven) shouldBe List(false)\n",
    "        map(List(1,2))(isEven) shouldBe List(isEven(1),isEven(2))\n",
    "        map(List(1,2,3))(isEven) shouldBe List(isEven(1),isEven(2),isEven(3))\n",
    "    }\n",
    "}"
   ]
  },
  {
   "cell_type": "markdown",
   "metadata": {},
   "source": [
    "To run the tests we will pass the `map` function for `Ìnt` and `Boolean` types:"
   ]
  },
  {
   "cell_type": "code",
   "execution_count": 10,
   "metadata": {},
   "outputs": [
    {
     "name": "stdout",
     "output_type": "stream",
     "text": [
      "\u001b[32mcmd8$Helper$TestMap:\u001b[0m\n",
      "\u001b[32mmapping an empty list\u001b[0m\n",
      "\u001b[32m- should return an empty list\u001b[0m\n",
      "\u001b[32mmapping an non-empty list\u001b[0m\n",
      "\u001b[32m- should only change its content\u001b[0m\n"
     ]
    }
   ],
   "source": [
    "run(new TestMap(map[Int, Boolean]))"
   ]
  },
  {
   "cell_type": "markdown",
   "metadata": {},
   "source": [
    "The implementation of `map` is really close to the implementation of `foldRight`. Indeed, we can give a more modular implementation using this more basic HOF: "
   ]
  },
  {
   "cell_type": "code",
   "execution_count": 4,
   "metadata": {},
   "outputs": [
    {
     "data": {
      "text/plain": [
       "defined \u001b[32mfunction\u001b[39m \u001b[36mmapFR\u001b[39m"
      ]
     },
     "execution_count": 4,
     "metadata": {},
     "output_type": "execute_result"
    }
   ],
   "source": [
    "/*\n",
    "def foldRight[A, B](list: List[A])(nil: B)(cons: (A, B) => B): B = \n",
    "    list match {\n",
    "        case Nil => nil\n",
    "        case head :: tail => cons(head, foldRight(tail)(nil)(cons))\n",
    "    }\n",
    "*/\n",
    "\n",
    "def mapFR[A, B](list: List[A])(f: A => B): List[B] = \n",
    "    list.foldRight(Nil:List[B])((head:A,tailMapped:List[B])=>f(head)::tailMapped:List[B])"
   ]
  },
  {
   "cell_type": "code",
   "execution_count": 5,
   "metadata": {},
   "outputs": [
    {
     "name": "stdout",
     "output_type": "stream",
     "text": [
      "\u001b[32mcmd2$Helper$TestMap:\u001b[0m\n",
      "\u001b[32mmapping an empty list\u001b[0m\n",
      "\u001b[32m- should return an empty list\u001b[0m\n",
      "\u001b[32mmapping an non-empty list\u001b[0m\n",
      "\u001b[32m- should only change its content\u001b[0m\n"
     ]
    }
   ],
   "source": [
    "run(new TestMap(mapFR))"
   ]
  },
  {
   "cell_type": "markdown",
   "metadata": {},
   "source": [
    "### `map` for `Option`"
   ]
  },
  {
   "cell_type": "markdown",
   "metadata": {},
   "source": [
    "The implementation of the `map` function given above works over lists, but we can also map optional values and many other data structures. The implementation for the data structure `Option` must satisfy the following test:"
   ]
  },
  {
   "cell_type": "code",
   "execution_count": 1,
   "metadata": {},
   "outputs": [
    {
     "name": "stderr",
     "output_type": "stream",
     "text": [
      "cmd1.sc:6: not found: value isEven\n",
      "        map(None)(isEven) shouldBe None\n",
      "                  ^cmd1.sc:10: not found: value isEven\n",
      "        map(Option(3))(isEven) shouldBe Some(false)\n",
      "                       ^cmd1.sc:11: not found: value isEven\n",
      "        map(Option(1))(isEven) shouldBe Some(false)\n",
      "                       ^cmd1.sc:12: not found: value isEven\n",
      "        map(Option(2))(isEven) shouldBe Some(true)\n",
      "                       ^Compilation Failed"
     ]
    },
    {
     "ename": "",
     "evalue": "",
     "output_type": "error",
     "traceback": [
      "Compilation Failed"
     ]
    }
   ],
   "source": [
    "class TestMapOption(\n",
    "    map: Option[Int] => (Int => Boolean) => Option[Boolean]\n",
    ") extends FlatSpec with Matchers{\n",
    "    \n",
    "    \"mapping the `None` value\" should \"return `None`\" in {\n",
    "        map(None)(isEven) shouldBe None\n",
    "    }\n",
    "    \n",
    "    \"mapping a `Some` value\" should \"only change its content\" in {\n",
    "        map(Option(3))(isEven) shouldBe Some(false)\n",
    "        map(Option(1))(isEven) shouldBe Some(false)\n",
    "        map(Option(2))(isEven) shouldBe Some(true)\n",
    "    }\n",
    "    \n",
    "        \n",
    "}"
   ]
  },
  {
   "cell_type": "markdown",
   "metadata": {},
   "source": [
    "The implementation is simple:"
   ]
  },
  {
   "cell_type": "code",
   "execution_count": 7,
   "metadata": {},
   "outputs": [
    {
     "data": {
      "text/plain": [
       "defined \u001b[32mfunction\u001b[39m \u001b[36mmapOpt\u001b[39m"
      ]
     },
     "execution_count": 7,
     "metadata": {},
     "output_type": "execute_result"
    }
   ],
   "source": [
    "def mapOpt[A, B](maybeA: Option[A])(f: A => B): Option[B] = \n",
    "    maybeA match {\n",
    "        case None => None\n",
    "        case Some(a) => Some(f(a))\n",
    "    }"
   ]
  },
  {
   "cell_type": "code",
   "execution_count": null,
   "metadata": {},
   "outputs": [],
   "source": [
    "run(new TestMapOption(mapOpt))"
   ]
  },
  {
   "cell_type": "markdown",
   "metadata": {},
   "source": [
    "## Filtering elements"
   ]
  },
  {
   "cell_type": "markdown",
   "metadata": {},
   "source": [
    "Unlike `map`, the `filter` HOF allows us to change the shape of the data structure, removing those elements that do not satisfy a given predicate. "
   ]
  },
  {
   "cell_type": "markdown",
   "metadata": {},
   "source": [
    "![filter](../images/filter.svg)"
   ]
  },
  {
   "cell_type": "code",
   "execution_count": 14,
   "metadata": {},
   "outputs": [
    {
     "data": {
      "text/plain": [
       "defined \u001b[32mfunction\u001b[39m \u001b[36mfilterEven\u001b[39m"
      ]
     },
     "execution_count": 14,
     "metadata": {},
     "output_type": "execute_result"
    }
   ],
   "source": [
    "def filterEven(list:List[Int]):List[Int]=\n",
    "list.foldRight(Nil : List[Int])(\n",
    "    (head:Int, tailFiltered:List[Int])=>\n",
    "       if(head % 2 == 0 )head :: tailFiltered\n",
    "       else tailFiltered : List[Int]\n",
    "\n",
    ")"
   ]
  },
  {
   "cell_type": "code",
   "execution_count": 15,
   "metadata": {},
   "outputs": [
    {
     "data": {
      "text/plain": [
       "defined \u001b[32mfunction\u001b[39m \u001b[36mfilter\u001b[39m"
      ]
     },
     "execution_count": 15,
     "metadata": {},
     "output_type": "execute_result"
    }
   ],
   "source": [
    "def filter[A](list:List[A])(predicate: A=>Boolean):List[A]=\n",
    "list.foldRight(Nil : List[A])(\n",
    "    (head:A, tailFiltered:List[A])=>\n",
    "       if(predicate(head))head :: tailFiltered\n",
    "       else tailFiltered : List[A]\n",
    "\n",
    ")"
   ]
  },
  {
   "cell_type": "code",
   "execution_count": 16,
   "metadata": {},
   "outputs": [
    {
     "data": {
      "text/plain": [
       "defined \u001b[32mclass\u001b[39m \u001b[36mTestFilterList\u001b[39m"
      ]
     },
     "execution_count": 16,
     "metadata": {},
     "output_type": "execute_result"
    }
   ],
   "source": [
    "class TestFilterList(\n",
    "    filter: List[Int] => (Int => Boolean) => List[Int]\n",
    ") extends FlatSpec with Matchers{\n",
    "    \n",
    "    \"filter\" should \"work\" in {\n",
    "        filter(List())(_ % 2 == 0) shouldBe List()\n",
    "        filter(List(1))(_ % 2 == 0) shouldBe List()\n",
    "        filter(List(1,3,5))(_ % 2 == 0) shouldBe List()\n",
    "        filter(List(2,4,6))(_ % 2 == 0) shouldBe List(2,4,6)\n",
    "    }\n",
    "}"
   ]
  },
  {
   "cell_type": "code",
   "execution_count": 17,
   "metadata": {},
   "outputs": [
    {
     "name": "stdout",
     "output_type": "stream",
     "text": [
      "\u001b[32mcmd15$Helper$TestFilterList:\u001b[0m\n",
      "\u001b[32mfilter\u001b[0m\n",
      "\u001b[32m- should work\u001b[0m\n"
     ]
    }
   ],
   "source": [
    "run(new TestFilterList(filter))"
   ]
  },
  {
   "cell_type": "markdown",
   "metadata": {},
   "source": [
    "Using `foldRight` we can get a more modular implementation: "
   ]
  },
  {
   "cell_type": "markdown",
   "metadata": {},
   "source": [
    "### Filtering optional values"
   ]
  },
  {
   "cell_type": "markdown",
   "metadata": {},
   "source": [
    "We only have a possible value, so implementing filtering is easy in this case:"
   ]
  },
  {
   "cell_type": "code",
   "execution_count": 3,
   "metadata": {},
   "outputs": [
    {
     "data": {
      "text/plain": [
       "defined \u001b[32mclass\u001b[39m \u001b[36mTestFilterOption\u001b[39m"
      ]
     },
     "execution_count": 3,
     "metadata": {},
     "output_type": "execute_result"
    }
   ],
   "source": [
    "class TestFilterOption(\n",
    "    filter: Option[Int] => (Int => Boolean) => Option[Int]\n",
    ") extends FlatSpec with Matchers{\n",
    "    \n",
    "    \"filter\" should \"work\" in {\n",
    "        filter(None)(_ % 2 == 0) shouldBe None\n",
    "        filter(Some(1))(_ % 2 == 0) shouldBe None\n",
    "        filter(Some(2))(_ % 2 == 0) shouldBe Some(2)\n",
    "    }\n",
    "}"
   ]
  },
  {
   "cell_type": "code",
   "execution_count": 2,
   "metadata": {},
   "outputs": [
    {
     "data": {
      "text/plain": [
       "defined \u001b[32mfunction\u001b[39m \u001b[36mfilter\u001b[39m"
      ]
     },
     "execution_count": 2,
     "metadata": {},
     "output_type": "execute_result"
    }
   ],
   "source": [
    "def filter[A](maybeA: Option[A])(predicate: A => Boolean): Option[A] = \n",
    "    maybeA match {\n",
    "        case None => None\n",
    "        case Some(a) if predicate(a) => Some(a)\n",
    "        case _ => None\n",
    "    }"
   ]
  },
  {
   "cell_type": "code",
   "execution_count": 4,
   "metadata": {},
   "outputs": [
    {
     "name": "stdout",
     "output_type": "stream",
     "text": [
      "\u001b[32mcmd2$Helper$TestFilterOption:\u001b[0m\n",
      "\u001b[32mfilter\u001b[0m\n",
      "\u001b[32m- should work\u001b[0m\n"
     ]
    }
   ],
   "source": [
    "run(new TestFilterOption(filter))"
   ]
  },
  {
   "cell_type": "markdown",
   "metadata": {},
   "source": [
    "## FlatMapping data structures"
   ]
  },
  {
   "cell_type": "markdown",
   "metadata": {},
   "source": [
    "Let's consider a paragraph represented as a list of sentences, where each sentence is in turn modelled as a string made of _words_ separated by blank spaces. We want to obtain a list of all the words in each sentence. "
   ]
  },
  {
   "cell_type": "code",
   "execution_count": 9,
   "metadata": {},
   "outputs": [
    {
     "data": {
      "text/plain": [
       "defined \u001b[32mclass\u001b[39m \u001b[36mTestWords\u001b[39m"
      ]
     },
     "execution_count": 9,
     "metadata": {},
     "output_type": "execute_result"
    }
   ],
   "source": [
    "class TestWords(\n",
    "    words: List[String] => List[String]\n",
    ") extends FlatSpec with Matchers{\n",
    "            \n",
    "    val paragraph1 = List(\n",
    "        \"En un lugar\",\n",
    "        \"de la Mancha\", \n",
    "        \"de cuyo nombre no\",\n",
    "        \"quiero acordarme\")\n",
    "    \n",
    "    \"words\" should \"work\" in {\n",
    "        words(paragraph1) shouldBe \n",
    "            List(\"En\",\"un\",\"lugar\",\n",
    "                 \"de\",\"la\",\"Mancha\",\n",
    "                 \"de\",\"cuyo\",\"nombre\",\n",
    "                 \"no\",\"quiero\",\"acordarme\")\n",
    "    }\n",
    "}"
   ]
  },
  {
   "cell_type": "markdown",
   "metadata": {},
   "source": [
    "We may try to map the paragraph with a function that `split`s  each sentence into the words they are made of:"
   ]
  },
  {
   "cell_type": "code",
   "execution_count": 6,
   "metadata": {},
   "outputs": [
    {
     "data": {
      "text/plain": [
       "\u001b[36mparagraph\u001b[39m: \u001b[32mList\u001b[39m[\u001b[32mString\u001b[39m] = \u001b[33mList\u001b[39m(\u001b[32m\"en un lugar\"\u001b[39m, \u001b[32m\"de la Mancha\"\u001b[39m)\n",
       "\u001b[36mres5_1\u001b[39m: \u001b[32mList\u001b[39m[\u001b[32mList\u001b[39m[\u001b[32mString\u001b[39m]] = \u001b[33mList\u001b[39m(\n",
       "  \u001b[33mList\u001b[39m(\u001b[32m\"en\"\u001b[39m, \u001b[32m\"un\"\u001b[39m, \u001b[32m\"lugar\"\u001b[39m),\n",
       "  \u001b[33mList\u001b[39m(\u001b[32m\"de\"\u001b[39m, \u001b[32m\"la\"\u001b[39m, \u001b[32m\"Mancha\"\u001b[39m)\n",
       ")\n",
       "\u001b[36mres5_2\u001b[39m: \u001b[32mList\u001b[39m[\u001b[32mString\u001b[39m] = \u001b[33mList\u001b[39m(\u001b[32m\"en\"\u001b[39m, \u001b[32m\"un\"\u001b[39m, \u001b[32m\"lugar\"\u001b[39m, \u001b[32m\"de\"\u001b[39m, \u001b[32m\"la\"\u001b[39m, \u001b[32m\"Mancha\"\u001b[39m)"
      ]
     },
     "execution_count": 6,
     "metadata": {},
     "output_type": "execute_result"
    }
   ],
   "source": [
    "val paragraph: List[String] = List(\"en un lugar\", \"de la Mancha\")\n",
    "paragraph.map((phrase:String)=> phrase.split(\" \").toList)\n",
    "paragraph.map((phrase:String)=> phrase.split(\" \").toList).flatten"
   ]
  },
  {
   "cell_type": "markdown",
   "metadata": {},
   "source": [
    "but then we obtain a _list of lists_ of strings, not a list of plain strings. The solution is not far though: we have just to concatenate all the lists and we obtain what we need. The function `flatten` performs this concatenation:"
   ]
  },
  {
   "cell_type": "code",
   "execution_count": 26,
   "metadata": {},
   "outputs": [
    {
     "data": {
      "text/plain": [
       "defined \u001b[32mfunction\u001b[39m \u001b[36mflatten\u001b[39m"
      ]
     },
     "execution_count": 26,
     "metadata": {},
     "output_type": "execute_result"
    }
   ],
   "source": [
    "def flatten[A](listOflists: List[List[A]]): List[A] = \n",
    "    listOflists.foldRight(Nil : List[A])(\n",
    "        (head:List[A],tailConcatenated:List[A]) =>\n",
    "            head ++ tailConcatenated : List[A]\n",
    "    )"
   ]
  },
  {
   "cell_type": "markdown",
   "metadata": {},
   "source": [
    "The function `flatten` is actually provided by the Scala API. So, the implementation of the `words` function is as follows:"
   ]
  },
  {
   "cell_type": "code",
   "execution_count": 30,
   "metadata": {},
   "outputs": [
    {
     "data": {
      "text/plain": [
       "defined \u001b[32mfunction\u001b[39m \u001b[36mwords\u001b[39m"
      ]
     },
     "execution_count": 30,
     "metadata": {},
     "output_type": "execute_result"
    }
   ],
   "source": [
    "def words(paragraph: List[String]): List[String] = \n",
    "    paragraph.map((phrase:String)=> phrase.split(\" \").toList).flatten"
   ]
  },
  {
   "cell_type": "code",
   "execution_count": 10,
   "metadata": {
    "scrolled": true
   },
   "outputs": [
    {
     "name": "stdout",
     "output_type": "stream",
     "text": [
      "\u001b[32mcmd8$Helper$TestWords:\u001b[0m\n",
      "\u001b[32mwords\u001b[0m\n",
      "\u001b[32m- should work\u001b[0m\n"
     ]
    }
   ],
   "source": [
    "run(new TestWords(words))"
   ]
  },
  {
   "cell_type": "code",
   "execution_count": 34,
   "metadata": {
    "scrolled": true
   },
   "outputs": [
    {
     "name": "stdout",
     "output_type": "stream",
     "text": [
      "\u001b[32mcmd19$Helper$TestWords:\u001b[0m\n",
      "\u001b[32mwords\u001b[0m\n",
      "\u001b[32m- should work\u001b[0m\n"
     ]
    }
   ],
   "source": [
    "run(new TestWords(wordsFT))"
   ]
  },
  {
   "cell_type": "markdown",
   "metadata": {},
   "source": [
    "This combination of the HOF `map` and the function `flatten` is so common, that it has been given a proper name: `flatMap`. "
   ]
  },
  {
   "cell_type": "code",
   "execution_count": 35,
   "metadata": {},
   "outputs": [
    {
     "data": {
      "text/plain": [
       "defined \u001b[32mfunction\u001b[39m \u001b[36mflatMap\u001b[39m"
      ]
     },
     "execution_count": 35,
     "metadata": {},
     "output_type": "execute_result"
    }
   ],
   "source": [
    "def flatMap[A](list: List[A])(f: A => List[A]): List[A] = \n",
    "    list.map(f).flatten"
   ]
  },
  {
   "cell_type": "markdown",
   "metadata": {},
   "source": [
    "![filter](../images/flatMap.svg)"
   ]
  },
  {
   "cell_type": "markdown",
   "metadata": {},
   "source": [
    "Using `flatMap` the word function is implemented even more easily:"
   ]
  },
  {
   "cell_type": "code",
   "execution_count": 8,
   "metadata": {},
   "outputs": [
    {
     "data": {
      "text/plain": [
       "defined \u001b[32mfunction\u001b[39m \u001b[36mwords\u001b[39m"
      ]
     },
     "execution_count": 8,
     "metadata": {},
     "output_type": "execute_result"
    }
   ],
   "source": [
    "def words(paragraph: List[String]): List[String] = \n",
    "    paragraph.flatMap((phrase:String)=> phrase.split(\" \").toList)"
   ]
  },
  {
   "cell_type": "markdown",
   "metadata": {},
   "source": [
    "### FlatMapping optional values"
   ]
  },
  {
   "cell_type": "code",
   "execution_count": 12,
   "metadata": {},
   "outputs": [
    {
     "data": {
      "text/plain": [
       "defined \u001b[32mfunction\u001b[39m \u001b[36mflatMap\u001b[39m"
      ]
     },
     "execution_count": 12,
     "metadata": {},
     "output_type": "execute_result"
    }
   ],
   "source": [
    "def flatMap[A, B](maybeA: Option[A])(cont: A => Option[B]): Option[B] = \n",
    "    maybeA match {\n",
    "        case None => \n",
    "            None\n",
    "        case Some(a) => \n",
    "            cont(a)\n",
    "    }"
   ]
  },
  {
   "cell_type": "code",
   "execution_count": 15,
   "metadata": {},
   "outputs": [
    {
     "data": {
      "text/plain": [
       "defined \u001b[32mclass\u001b[39m \u001b[36mTestFlatMapOption\u001b[39m"
      ]
     },
     "execution_count": 15,
     "metadata": {},
     "output_type": "execute_result"
    }
   ],
   "source": [
    "class TestFlatMapOption(\n",
    "    flatMap: Option[Int] => (Int => Option[Boolean]) => Option[Boolean]\n",
    ") extends FlatSpec with Matchers {\n",
    "    \n",
    "    def isPositiveEven(i: Int): Option[Boolean] = \n",
    "        if (i>=0) Some(i % 2 == 0)\n",
    "        else None\n",
    "    \n",
    "    \"flatMap\" should \"work\" in {\n",
    "        flatMap(None)(isPositiveEven) shouldBe None\n",
    "        flatMap(Some(5))(isPositiveEven) shouldBe Some(false)\n",
    "        flatMap(Some(-5))(isPositiveEven) shouldBe None\n",
    "        flatMap(Some(0))(isPositiveEven) shouldBe Some(true)\n",
    "        flatMap(Some(4))(isPositiveEven) shouldBe Some(true)\n",
    "        \n",
    "        \n",
    "    }\n",
    "}"
   ]
  },
  {
   "cell_type": "code",
   "execution_count": 16,
   "metadata": {},
   "outputs": [
    {
     "name": "stdout",
     "output_type": "stream",
     "text": [
      "\u001b[32mcmd14$Helper$TestFlatMapOption:\u001b[0m\n",
      "\u001b[32mflatMap\u001b[0m\n",
      "\u001b[32m- should work\u001b[0m\n"
     ]
    }
   ],
   "source": [
    "run(new TestFlatMapOption(flatMap))"
   ]
  },
  {
   "cell_type": "markdown",
   "metadata": {},
   "source": [
    "## All together: a modularity problem"
   ]
  },
  {
   "cell_type": "markdown",
   "metadata": {},
   "source": [
    "As before, we start from a list of sentences, but now we want to take care of the possible extra spaces between each word. Also, we want to obtain not the words themselves but their lengths. So, the specification of our problem is a function `lengths`:"
   ]
  },
  {
   "cell_type": "code",
   "execution_count": 17,
   "metadata": {},
   "outputs": [
    {
     "data": {
      "text/plain": [
       "defined \u001b[32mclass\u001b[39m \u001b[36mTestLengths\u001b[39m"
      ]
     },
     "execution_count": 17,
     "metadata": {},
     "output_type": "execute_result"
    }
   ],
   "source": [
    "class TestLengths(\n",
    "    lengths: List[String] => List[Int]\n",
    ") extends FlatSpec with Matchers{\n",
    "            \n",
    "    val paragraph1 = List(\n",
    "        \"En un  lugar\",\n",
    "        \"de  la Mancha \", \n",
    "        \"de cuyo nombre no\",\n",
    "        \"quiero        acordarme\")\n",
    "    \n",
    "    \"lengths\" should \"work\" in {\n",
    "        lengths(paragraph1) shouldBe \n",
    "            List(2, 2, 5, 2, 2, 6, \n",
    "                 2, 4, 6, 2, 6, 9)\n",
    "    }\n",
    "}"
   ]
  },
  {
   "cell_type": "markdown",
   "metadata": {},
   "source": [
    "We may try to implement this function imperatively using mutable variables:"
   ]
  },
  {
   "cell_type": "code",
   "execution_count": 18,
   "metadata": {},
   "outputs": [
    {
     "data": {
      "text/plain": [
       "defined \u001b[32mfunction\u001b[39m \u001b[36mlengthsM\u001b[39m"
      ]
     },
     "execution_count": 18,
     "metadata": {},
     "output_type": "execute_result"
    }
   ],
   "source": [
    "def lengthsM(paragraph: List[String]): List[Int] = {\n",
    "    var out: List[Int] = List()\n",
    "\n",
    "    for (sentence <- paragraph){\n",
    "        val words: List[String] =\n",
    "            sentence.split(\" \").toList\n",
    "        for (word <- words)\n",
    "            if (word != \"\") \n",
    "                out = word.length :: out\n",
    "    }\n",
    "\n",
    "    out.reverse\n",
    "}\n"
   ]
  },
  {
   "cell_type": "markdown",
   "metadata": {},
   "source": [
    "and this works, of course: "
   ]
  },
  {
   "cell_type": "code",
   "execution_count": 19,
   "metadata": {},
   "outputs": [
    {
     "name": "stdout",
     "output_type": "stream",
     "text": [
      "\u001b[32mcmd16$Helper$TestLengths:\u001b[0m\n",
      "\u001b[32mlengths\u001b[0m\n",
      "\u001b[32m- should work\u001b[0m\n"
     ]
    }
   ],
   "source": [
    "run(new TestLengths(lengthsM))"
   ]
  },
  {
   "cell_type": "markdown",
   "metadata": {},
   "source": [
    "but can we do it better? Yes, we can! Using HOFs we can get a more concise, understandable and reliable version, with a great level of reuse!"
   ]
  },
  {
   "cell_type": "code",
   "execution_count": 20,
   "metadata": {},
   "outputs": [
    {
     "data": {
      "text/plain": [
       "defined \u001b[32mfunction\u001b[39m \u001b[36mlengthsHOF\u001b[39m"
      ]
     },
     "execution_count": 20,
     "metadata": {},
     "output_type": "execute_result"
    }
   ],
   "source": [
    "def lengthsHOF(paragraph: List[String]): List[Int] = \n",
    "    paragraph.flatMap(sentence=>sentence.split(\" \").toList)\n",
    "    .filter(word => word !=\"\": Boolean)\n",
    "    .map(word=> word.length)\n"
   ]
  },
  {
   "cell_type": "code",
   "execution_count": 21,
   "metadata": {},
   "outputs": [
    {
     "name": "stdout",
     "output_type": "stream",
     "text": [
      "\u001b[32mcmd16$Helper$TestLengths:\u001b[0m\n",
      "\u001b[32mlengths\u001b[0m\n",
      "\u001b[32m- should work\u001b[0m\n"
     ]
    }
   ],
   "source": [
    "run(new TestLengths(lengthsHOF))"
   ]
  },
  {
   "cell_type": "markdown",
   "metadata": {},
   "source": [
    "This solution contrasts with the mutable version in several respects:\n",
    "- It's more **modular**, i.e. it's made of coarse-grained components: the HOFs `flatMap`, `filter` and `map`. The mutable version builds instead upon fine-grained components: `var`s, and `for` loops.\n",
    "- The HOF components `flatMap`, etc., are actually very generic and domain-independent, and are typically part of standard libraries, so the level of **reuse** and **reliability** of the HOF-based solution is very high.\n",
    "- The HOF-based solution is more **understandable**: it models the solution to the problem in terms of standard _transformations_ which are composed together using plain function composition. Moreover, these transformations are also at the right level of abstraction, i.e. it's natural to specify the solution to the problem in terms of flatMap, filter and map."
   ]
  },
  {
   "cell_type": "markdown",
   "metadata": {},
   "source": [
    "### For-comprehensions"
   ]
  },
  {
   "cell_type": "markdown",
   "metadata": {},
   "source": [
    "The combination of `map`, `flatMap` and `filter` HOFs is so common, that Scala has a special syntax for them: for-comprehensions."
   ]
  },
  {
   "cell_type": "code",
   "execution_count": 24,
   "metadata": {},
   "outputs": [
    {
     "data": {
      "text/plain": [
       "defined \u001b[32mfunction\u001b[39m \u001b[36mlengthsFC\u001b[39m"
      ]
     },
     "execution_count": 24,
     "metadata": {},
     "output_type": "execute_result"
    }
   ],
   "source": [
    "def lengthsFC(paragraph: List[String]): List[Int] = \n",
    "    paragraph\n",
    "    .flatMap(_.split(\" \").toList)\n",
    "    .filter(_ !=\"\": Boolean)\n",
    "    .map(_.length)"
   ]
  },
  {
   "cell_type": "code",
   "execution_count": 25,
   "metadata": {},
   "outputs": [
    {
     "name": "stdout",
     "output_type": "stream",
     "text": [
      "\u001b[32mcmd16$Helper$TestLengths:\u001b[0m\n",
      "\u001b[32mlengths\u001b[0m\n",
      "\u001b[32m- should work\u001b[0m\n"
     ]
    }
   ],
   "source": [
    "run(new TestLengths(lengthsFC))"
   ]
  }
 ],
 "metadata": {
  "kernelspec": {
   "display_name": "Scala 2.12",
   "language": "scala",
   "name": "scala212"
  },
  "language_info": {
   "codemirror_mode": "text/x-scala",
   "file_extension": ".sc",
   "mimetype": "text/x-scala",
   "name": "scala",
   "nbconvert_exporter": "script",
   "version": "2.12.12"
  }
 },
 "nbformat": 4,
 "nbformat_minor": 2
}
