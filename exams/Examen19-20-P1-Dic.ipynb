{
 "cells": [
  {
   "cell_type": "markdown",
   "metadata": {},
   "source": [
    "# Programación declarativa @ URJC\n",
    "# Programación funcional\n",
    "## Examen Convocatoria Ordinaria\n",
    "## Curso 19-20"
   ]
  },
  {
   "cell_type": "markdown",
   "metadata": {},
   "source": [
    "# Definiciones auxiliares"
   ]
  },
  {
   "cell_type": "code",
   "execution_count": null,
   "metadata": {},
   "outputs": [],
   "source": [
    "import $ivy.`org.scalatest::scalatest:3.0.8`\n",
    "import org.scalatest._"
   ]
  },
  {
   "cell_type": "markdown",
   "metadata": {},
   "source": [
    "### Algunas funciones sobre listas"
   ]
  },
  {
   "cell_type": "code",
   "execution_count": null,
   "metadata": {},
   "outputs": [],
   "source": [
    "object Signatures{\n",
    "    abstract class List[A]{\n",
    "        \n",
    "        // Common HOFs\n",
    "        def foldRight[B](directSol: B)(composeSol: (A, B) => B): B\n",
    "        def foldLeft[B](initial: B)(update: (B, A) => B): B\n",
    "        def map[B](f: A => B): List[B]\n",
    "        def flatMap[B](f: A => List[B]): List[B]\n",
    "        def filter(f: A => Boolean): List[A]\n",
    "        def forall(pred: A => Boolean): Boolean\n",
    "        def exists(pred: A => Boolean): Boolean\n",
    "        \n",
    "        // Reverse a list\n",
    "        // e.g. List(1,2,3).reverse==List(3,2,1)\n",
    "        def reverse: List[A]\n",
    "        \n",
    "        // Take the first `n` elements of the list\n",
    "        // e.g. List(1,2,3).take(2) == List(1,2)\n",
    "        //      List(1,2,3).take(0) == List()\n",
    "        //      List(1,2,3).take(5) == List(1,2,3)\n",
    "        def take(n: Int): List[A]\n",
    "        \n",
    "        // Drop the first `n` elements of the list \n",
    "        // e.g. List(1,2,3).drop(2) == List(3)\n",
    "        //      List(1,2,3).drop(0) == List(1,2,3)\n",
    "        //      List(1,2,3).drop(4) == List()\n",
    "        def drop(n: Int): List[A]\n",
    "\n",
    "        // List concatenation\n",
    "        // e.g. List(1,2,3).concat(List(4,5)) == List(1,2,3,4,5)\n",
    "        def concat(l: List[A]): List[A]\n",
    "    }\n",
    "}"
   ]
  },
  {
   "cell_type": "markdown",
   "metadata": {},
   "source": [
    "### Definiciones sobre árboles binarios"
   ]
  },
  {
   "cell_type": "code",
   "execution_count": null,
   "metadata": {},
   "outputs": [],
   "source": [
    "sealed abstract class Tree[A]\n",
    "case class Empty[A]() extends Tree[A]\n",
    "case class Node[A](left: Tree[A], root: A, right: Tree[A]) extends Tree[A]"
   ]
  },
  {
   "cell_type": "code",
   "execution_count": null,
   "metadata": {},
   "outputs": [],
   "source": [
    "object Tree{\n",
    "    \n",
    "    def void[A]: Tree[A] = \n",
    "        Empty()\n",
    "    \n",
    "    def leaf[A](a: A): Node[A] = \n",
    "        Node(Empty(), a, Empty())\n",
    "    \n",
    "    def right[A](a: A, tree: Tree[A]): Node[A] = \n",
    "        Node(Empty(), a, tree)\n",
    "    \n",
    "    def left[A](tree: Tree[A], a: A): Node[A] = \n",
    "        Node(tree, a, Empty())\n",
    "    \n",
    "    def node[A](left: Tree[A], a: A, right: Tree[A]): Node[A] = \n",
    "        Node(left, a, right)\n",
    "    \n",
    "    def foldTree[A, B](tree: Tree[A])(empty: B)(node: (B, A, B) => B): B = \n",
    "        tree match {\n",
    "            case Empty() => \n",
    "                empty\n",
    "            case Node(left, a, right) =>\n",
    "                node(foldTree(left)(empty)(node),\n",
    "                    a,\n",
    "                    foldTree(right)(empty)(node))\n",
    "        }\n",
    "}\n",
    "\n",
    "import Tree._"
   ]
  },
  {
   "cell_type": "markdown",
   "metadata": {},
   "source": [
    "### Modelo de datos de películas"
   ]
  },
  {
   "cell_type": "code",
   "execution_count": null,
   "metadata": {},
   "outputs": [],
   "source": [
    "case class MovieDatabase(\n",
    "    films: Map[Film.Id, Film],\n",
    "    users: Map[User.Id, User],\n",
    "    ratings: Map[(Film.Id, User.Id), Rating])\n",
    "    \n",
    "case class Film(\n",
    "    id: Film.Id, \n",
    "    title: String, \n",
    "    director: String,\n",
    "    genre: String,\n",
    "    year: Int,\n",
    "    country: String)\n",
    "\n",
    "object Film{\n",
    "    type Id = Int\n",
    "}\n",
    "\n",
    "case class User(\n",
    "    id: User.Id,\n",
    "    name: String,\n",
    "    registered: Int)\n",
    "        \n",
    "object User{\n",
    "    type Id = Int\n",
    "}\n",
    "        \n",
    "case class Rating(\n",
    "    film: Film.Id,\n",
    "    user: User.Id,\n",
    "    score: Int)"
   ]
  },
  {
   "cell_type": "code",
   "execution_count": null,
   "metadata": {},
   "outputs": [],
   "source": [
    "val moviedb: MovieDatabase = MovieDatabase(\n",
    "    films = Map(\n",
    "        1 -> Film(1, \"Blade Runner\", \"Ridley Scott\", \"Sci-Fi\", 1982, \"United States\"),\n",
    "        2 -> Film(2, \"Amanece, que no es poco\", \"José Luis Cuerda\", \"Comedy\", 1989, \"Spain\"),\n",
    "        3 -> Film(3, \"El milagro de P. Tinto\", \"Javier Fesser\", \"Comedy\", 1998, \"Spain\"),\n",
    "        4 -> Film(4, \"Mars Attacks!\", \"Tim Burton\", \"Sci-Fi\", 1996, \"United States\"),\n",
    "        5 -> Film(5, \"2001: A Space Odyssey\", \"Stanley Kubrick\", \"Sci-Fi\", 1968, \"United Kingdom\"),\n",
    "        6 -> Film(6, \"El crack Cero\", \"José Luis Garci\", \"Film noir\", 2019, \"Spain\"),\n",
    "        7 -> Film(7, \"El crack\", \"José Luis Garci\", \"Film noir\", 1981, \"Spain\"),\n",
    "        8 -> Film(8, \"The Maltese Falcon\", \"John Huston\", \"Film noir\", 1941, \"United States\"),\n",
    "        9 -> Film(9, \"Chinatown\", \"Roman Polanski\", \"Film noir\", 1974, \"United States\"),\n",
    "        10 -> Film(10, \"Batman v. Superman: Dawn of Justice\", \"Zack Snyder\", \"Sci-Fi\", 2016, \"United States\"),\n",
    "        11 -> Film(11, \"Dumb and Dumber\", \"Peter Farrelly\", \"Comedy\", 1994, \"United States\")\n",
    "    ),\n",
    "    users = Map(\n",
    "        1 -> User(1, \"Juan\", 2000),\n",
    "        2 -> User(2, \"Alf\", 1998),\n",
    "        3 -> User(3, \"Lola\", 2004),\n",
    "        4 -> User(4, \"Lolo\", 2018),\n",
    "        5 -> User(5, \"Dinu\", 2005)),\n",
    "    ratings = Map(\n",
    "        (1,1) -> Rating(1,1,5),\n",
    "        (1,2) -> Rating(1,2,1),\n",
    "        (1,3) -> Rating(1,3,4),\n",
    "        (1,4) -> Rating(1,4,3),\n",
    "        (2,1) -> Rating(2,1,1),\n",
    "        (2,4) -> Rating(2,4,1),\n",
    "        (4,1) -> Rating(4,1,3),\n",
    "        (5,4) -> Rating(5,4,2),\n",
    "        (6,1) -> Rating(6,1,2),\n",
    "        (7,1) -> Rating(7,1,3),\n",
    "        (7,2) -> Rating(7,2,3),\n",
    "        (7,3) -> Rating(7,3,3),\n",
    "        (8,2) -> Rating(8,2,2),\n",
    "        (9,1) -> Rating(9,1,1),\n",
    "        (10,1) -> Rating(10,1,0),\n",
    "        (10,3) -> Rating(10,3,0),\n",
    "        (11,1) -> Rating(11,1,0),\n",
    "        (11,2) -> Rating(11,2,1),\n",
    "        (11,4) -> Rating(11,4,2)))"
   ]
  },
  {
   "cell_type": "code",
   "execution_count": null,
   "metadata": {},
   "outputs": [],
   "source": [
    "object BasicQueries{\n",
    "    \n",
    "    // Entities\n",
    "    \n",
    "    def films(mdb: MovieDatabase): List[Film] =\n",
    "        mdb.films.values.toList\n",
    "    \n",
    "    def filmIds(mdb: MovieDatabase): List[Film.Id] =\n",
    "        mdb.films.keys.toList\n",
    "\n",
    "    def getFilm(id: Film.Id)(mdb: MovieDatabase): List[Film] = \n",
    "        mdb.films.get(id).toList\n",
    "    \n",
    "    def userIds(mdb: MovieDatabase): List[User.Id] = \n",
    "        mdb.users.keys.toList\n",
    "    \n",
    "    def getUser(id: User.Id)(mdb: MovieDatabase): List[User] = \n",
    "        mdb.users.get(id).toList\n",
    "    \n",
    "    // 1-N relationships\n",
    "    \n",
    "    def films(dir: String)(mdb: MovieDatabase): List[Film.Id] = \n",
    "        mdb.films.filter(_._2.director == dir).map(_._1).toList\n",
    "    \n",
    "    // N-M relationships\n",
    "    \n",
    "    def ratings(mdb: MovieDatabase): List[Rating] = \n",
    "        mdb.ratings.values.toList\n",
    "    \n",
    "    def userRatings(user: User.Id)(mdb: MovieDatabase): List[Rating] = \n",
    "        mdb.ratings.filter(_._1._2 == user).values.toList\n",
    "    \n",
    "    def filmRatings(film: Film.Id)(mdb: MovieDatabase): List[Rating] = \n",
    "        mdb.ratings.filter(_._1._1 == film).values.toList\n",
    "}\n",
    "\n",
    "import BasicQueries._"
   ]
  },
  {
   "cell_type": "markdown",
   "metadata": {},
   "source": [
    "# Ejercicio 1\n",
    "__(0,5 puntos)__"
   ]
  },
  {
   "cell_type": "markdown",
   "metadata": {},
   "source": [
    "Implementa la función `cnf` especificada por la siguiente signatura:"
   ]
  },
  {
   "cell_type": "code",
   "execution_count": null,
   "metadata": {},
   "outputs": [],
   "source": [
    "def cnf[P, Q, R, S](a: Either[P, Q], b: Either[R, S]): \n",
    "        Either[(P, R), Either[(P, S), Either[(Q, R), (Q, S)]]] = \n",
    "    (a, b) match {\n",
    "        case (Left(p), Left(r)) =>\n",
    "            Left((p,r))\n",
    "        case (Left(p), Right(s)) =>\n",
    "            Right(Left((p,s)))\n",
    "        case (Right(q), Left(r)) =>\n",
    "            Right(Right(Left((q,r))))\n",
    "        case (Right(q), Right(s)) =>\n",
    "            Right(Right(Right((q,s))))\n",
    "    }"
   ]
  },
  {
   "cell_type": "markdown",
   "metadata": {},
   "source": [
    "# Ejercicio 2 \n",
    "__(3,5 puntos)__"
   ]
  },
  {
   "cell_type": "markdown",
   "metadata": {},
   "source": [
    "Un árbol binario de búsqueda es un árbol binario vacío o uno no vacío que cumple las siguientes condiciones:\n",
    "* Los elementos del hijo izquierdo, caso de existir, son menores estrictamente que la raíz.\n",
    "* Los elementos del hijo derecho, caso de existir, son mayores estrictamente que la raíz. \n",
    "* Sus hijos izquierdo y derecho son árboles binarios de búsqueda. \n",
    "\n",
    "Obsérvese que, según esta definición, en un árbol binario de búsqueda no hay elementos repetidos."
   ]
  },
  {
   "cell_type": "markdown",
   "metadata": {},
   "source": [
    "#### a) (1 punto)\n",
    "Implementa la función `add` que añade un elemento a un árbol binario de búsqueda, de tal manera que el árbol resultante sea un árbol de búsqueda y contenga a dicho elemento. Por ejemplo:"
   ]
  },
  {
   "cell_type": "code",
   "execution_count": null,
   "metadata": {},
   "outputs": [],
   "source": [
    "class TestAdd(\n",
    "    add: (Tree[Int], Int) => Tree[Int]\n",
    ") extends FlatSpec with Matchers{\n",
    "    \n",
    "    \"add\" should \"work\" in {\n",
    "        add(void, 1) shouldBe leaf(1)\n",
    "        add(leaf(1), 2) shouldBe right(1, leaf(2))\n",
    "        add(leaf(1), 1) shouldBe leaf(1)\n",
    "        add(left(leaf(2), 3), 1) shouldBe left(left(leaf(1), 2), 3)\n",
    "        add(node(leaf(3), 4, leaf(6)), 5) shouldBe \n",
    "            node(leaf(3), 4, left(leaf(5), 6))\n",
    "    }\n",
    "}"
   ]
  },
  {
   "cell_type": "code",
   "execution_count": null,
   "metadata": {},
   "outputs": [],
   "source": [
    "def add(tree: Tree[Int], i: Int): Tree[Int] = \n",
    "    tree match {\n",
    "        case Empty() => leaf(i)\n",
    "        case Node(left, root, right) => \n",
    "            if (i == root) tree\n",
    "            else if (i < root) Node(add(left, i), root, right)\n",
    "            else Node(left, root, add(right, i))\n",
    "    }"
   ]
  },
  {
   "cell_type": "code",
   "execution_count": null,
   "metadata": {},
   "outputs": [],
   "source": [
    "run(new TestAdd(add))"
   ]
  },
  {
   "cell_type": "markdown",
   "metadata": {},
   "source": [
    "#### b) (1,5 puntos)\n",
    "\n",
    "Implementa una función `toTree` que construya un árbol binario de búsqueda a partir de una lista de números. La implementación deberá realizarse con __recursión final__ (o recursión por cola) y utilizando la función `add` del apartado anterior. Además, se deberán satisfacer los siguientes casos de prueba:"
   ]
  },
  {
   "cell_type": "code",
   "execution_count": null,
   "metadata": {},
   "outputs": [],
   "source": [
    "class TestToTree(\n",
    "    toTree: List[Int] => Tree[Int]\n",
    ") extends FlatSpec with Matchers{\n",
    "    \n",
    "    \"toTree\" should \"work\" in {\n",
    "        toTree(List()) shouldBe void\n",
    "        toTree(List(1)) shouldBe leaf(1)\n",
    "        toTree(List(3,2,2)) shouldBe left(leaf(2), 3)\n",
    "        toTree(List(2,3)) shouldBe right(2, leaf(3))\n",
    "        toTree(List(1,2,4,3,2,5,1)) shouldBe \n",
    "            right(1, right(2, node(leaf(3), 4, leaf(5))))\n",
    "    }\n",
    "}"
   ]
  },
  {
   "cell_type": "code",
   "execution_count": null,
   "metadata": {},
   "outputs": [],
   "source": [
    "def toTree(list: List[Int]): Tree[Int] = {\n",
    "    def auxToTree(out: Tree[Int], aux: List[Int]): Tree[Int] = \n",
    "        aux match {\n",
    "            case Nil => out\n",
    "            case head :: tail => \n",
    "                auxToTree(add(out, head), tail)\n",
    "        }\n",
    "    auxToTree(void, list)\n",
    "}"
   ]
  },
  {
   "cell_type": "code",
   "execution_count": null,
   "metadata": {},
   "outputs": [],
   "source": [
    "run(new TestToTree(toTree))"
   ]
  },
  {
   "cell_type": "markdown",
   "metadata": {},
   "source": [
    "#### c) (1 punto)\n",
    "Implementa la función `toTree` utilizando __`foldLeft`__."
   ]
  },
  {
   "cell_type": "code",
   "execution_count": null,
   "metadata": {},
   "outputs": [],
   "source": [
    "def toTree(list: List[Int]): Tree[Int] = \n",
    "    list.foldLeft(void[Int])(add)"
   ]
  },
  {
   "cell_type": "code",
   "execution_count": null,
   "metadata": {},
   "outputs": [],
   "source": [
    "run(new TestToTree(toTree))"
   ]
  },
  {
   "cell_type": "markdown",
   "metadata": {},
   "source": [
    "# Ejercicio 3\n",
    "__(2,5 puntos)__\n",
    "\n",
    "Se desea implementar una función `compress` que reemplace las subsecuencias de elementos repetidos en una lista de entrada por pares formados por los elementos y las longitudes de dichas subsecuencias. Por ejemplo:"
   ]
  },
  {
   "cell_type": "code",
   "execution_count": null,
   "metadata": {},
   "outputs": [],
   "source": [
    "class TestCompress(\n",
    "    compress: List[Char] => List[(Char, Int)]\n",
    ") extends FlatSpec with Matchers{\n",
    "    \n",
    "    \"compress\" should \"work\" in {\n",
    "        compress(List()) shouldBe \n",
    "            List()\n",
    "        compress(List('a','a','a','c','c','b','z','z')) shouldBe \n",
    "            List(('a',3),('c',2),('b',1),('z',2))\n",
    "        compress(List('a','b','c')) shouldBe \n",
    "            List(('a',1),('b',1),('c',1))\n",
    "        compress(List('a','a','a','c','c','a', 'b','z','z')) shouldBe \n",
    "            List(('a',3),('c',2),('a', 1), ('b',1),('z',2))\n",
    "        compress(List('k','k','a','ñ','ñ','ñ','h', 'k')) shouldBe \n",
    "            List(('k',2),('a',1),('ñ',3),('h',1),('k', 1))\n",
    "    }\n",
    "}"
   ]
  },
  {
   "cell_type": "markdown",
   "metadata": {},
   "source": [
    "__a) (1,5 puntos)__ Implementa la función `compress` de manera recursiva (__sin__ recursividad por cola)."
   ]
  },
  {
   "cell_type": "code",
   "execution_count": null,
   "metadata": {},
   "outputs": [],
   "source": [
    "def compress[A](list: List[A]): List[(A, Int)] = \n",
    "    list match {\n",
    "        case Nil => \n",
    "            List()\n",
    "        case head :: tail => \n",
    "            compress(tail) match {\n",
    "                case (`head`, n) :: tailT => \n",
    "                    (head, n+1) :: tailT\n",
    "                case tailSol => \n",
    "                    (head, 1) :: tailSol\n",
    "            }\n",
    "    }"
   ]
  },
  {
   "cell_type": "code",
   "execution_count": null,
   "metadata": {},
   "outputs": [],
   "source": [
    "run(new TestCompress(compress))"
   ]
  },
  {
   "cell_type": "markdown",
   "metadata": {},
   "source": [
    "__b) (1 punto)__ Implementar la función `compress` utilizando __`foldRight`__."
   ]
  },
  {
   "cell_type": "code",
   "execution_count": null,
   "metadata": {},
   "outputs": [],
   "source": [
    "def compress[A](list: List[A]): List[(A, Int)] = \n",
    "    list.foldRight(List[(A, Int)]()){\n",
    "        case (head, (headT, n) :: tailT) if headT == head =>\n",
    "            (headT, n+1) :: tailT\n",
    "        case (head, tailSol) => \n",
    "            (head, 1) :: tailSol\n",
    "    }"
   ]
  },
  {
   "cell_type": "code",
   "execution_count": null,
   "metadata": {},
   "outputs": [],
   "source": [
    "run(new TestCompress(compress))"
   ]
  },
  {
   "cell_type": "markdown",
   "metadata": {},
   "source": [
    "# Ejercicio 4\n",
    "__(1 punto/modelos A, C)__ \n",
    "\n",
    "__(2 puntos/modelos B, D)__"
   ]
  },
  {
   "cell_type": "markdown",
   "metadata": {},
   "source": [
    "Dada una lista, un elemento y un número positivo, la función `insertAt` inserta el elemento en la posición especificada de la lista, o en la última posición, en caso de que la lista resultante no tenga el suficiente número de elementos. Considérese que la cabeza de la lista se encuentra en la posición uno. Por ejemplo:"
   ]
  },
  {
   "cell_type": "code",
   "execution_count": null,
   "metadata": {},
   "outputs": [],
   "source": [
    "class TestInsertAt(\n",
    "    insertAt: (Char, Int, List[Char]) => List[Char]\n",
    ") extends FlatSpec with Matchers{\n",
    "    \"insertAt\" should \"work\" in {\n",
    "        insertAt('a', 3, List('a','b','c','d','e')) shouldBe \n",
    "            List('a','b','a', 'c','d','e')\n",
    "        insertAt('a', 4, List('a','b')) shouldBe \n",
    "            List('a','b','a')\n",
    "        insertAt('a', 3, List('a','b')) shouldBe \n",
    "            List('a','b','a')\n",
    "        insertAt('a', 1, List('d','b','e')) shouldBe \n",
    "            List('a','d','b','e')\n",
    "    }\n",
    "}"
   ]
  },
  {
   "cell_type": "markdown",
   "metadata": {},
   "source": [
    "__a) (1 punto)__ Se pide utilizar las funciones de la librería de colecciones de Scala `take` y `drop` para implementar la función `insertAt`. "
   ]
  },
  {
   "cell_type": "code",
   "execution_count": null,
   "metadata": {},
   "outputs": [],
   "source": [
    "def insertAt[A](a: A, n: Int, list: List[A]): List[A] = \n",
    "    list.take(n-1) ++ (a :: list.drop(n-1))"
   ]
  },
  {
   "cell_type": "code",
   "execution_count": null,
   "metadata": {},
   "outputs": [],
   "source": [
    "run(new TestInsertAt(insertAt))"
   ]
  },
  {
   "cell_type": "markdown",
   "metadata": {},
   "source": [
    "__b) (1 punto / modelos B, D)__ Implementa la función mediante `foldLeft` y `reverse`, __sin__ utilizar ninguna otra función de la librería de colecciones de Scala."
   ]
  },
  {
   "cell_type": "code",
   "execution_count": null,
   "metadata": {},
   "outputs": [],
   "source": [
    "def insertAt[A](a: A, n: Int, list: List[A]): List[A] = {\n",
    "    val (out, length) = list.foldLeft((List[A](), 0)){\n",
    "        case ((out, l), e) if l+1 == n => \n",
    "            (e :: a :: out, l+1)\n",
    "        case ((out, l), e) => \n",
    "            (e :: out, l+1)\n",
    "    }\n",
    "    (if (length < n) a :: out else out).reverse\n",
    "}"
   ]
  },
  {
   "cell_type": "code",
   "execution_count": null,
   "metadata": {},
   "outputs": [],
   "source": [
    "run(new TestInsertAt(insertAt))"
   ]
  },
  {
   "cell_type": "markdown",
   "metadata": {},
   "source": [
    "# Ejercicio 5\n",
    "\n",
    "__(2,5 puntos/ modelos A, B)__\n",
    "\n",
    "__(1,5 puntos/ modelos B, D)__"
   ]
  },
  {
   "cell_type": "markdown",
   "metadata": {},
   "source": [
    "Considere la siguiente implementación imperativa de una función sobre el modelo de datos de películas:"
   ]
  },
  {
   "cell_type": "code",
   "execution_count": null,
   "metadata": {},
   "outputs": [],
   "source": [
    "def mistery(id: Film.Id, year: Int)(\n",
    "        mdb: MovieDatabase): List[(String, Int)] = {\n",
    "    var out: List[(String, Int)] = List()\n",
    "    for (rating <- filmRatings(id)(mdb))\n",
    "        for (user <- getUser(rating.user)(mdb))\n",
    "            if (user.registered >= year)\n",
    "                out = (user.name, user.registered) :: out\n",
    "    out.reverse\n",
    "}"
   ]
  },
  {
   "cell_type": "markdown",
   "metadata": {},
   "source": [
    "__a) (0,2 puntos)__ Describa en lenguaje natural, brevemente y de manera precisa, la especificación de dicha función."
   ]
  },
  {
   "cell_type": "markdown",
   "metadata": {},
   "source": [
    "_Dados una película y una fecha, la función devuelve las fechas de registro y nombres de los usuarios que han valorado dicha película registrados con posterioridad a la fecha de entrada._"
   ]
  },
  {
   "cell_type": "markdown",
   "metadata": {},
   "source": [
    "#### b) (1,3 puntos)\n",
    "Implementa la función `mistery` utilizando las funciones de orden superior `flatMap`, `filter` y `map`."
   ]
  },
  {
   "cell_type": "code",
   "execution_count": null,
   "metadata": {},
   "outputs": [],
   "source": [
    "class TestMistery(\n",
    "    misteryHOF: (Film.Id, Int) => MovieDatabase => List[(String, Int)]\n",
    ") extends FlatSpec with Matchers {\n",
    "    \n",
    "    \"misteryHOF\" should \"work\" in {\n",
    "        misteryHOF(1, 2001)(moviedb) shouldBe \n",
    "            mistery(1, 2001)(moviedb)\n",
    "        \n",
    "        misteryHOF(7, 1999)(moviedb) shouldBe \n",
    "            mistery(7, 1999)(moviedb)\n",
    "    }\n",
    "}"
   ]
  },
  {
   "cell_type": "code",
   "execution_count": null,
   "metadata": {},
   "outputs": [],
   "source": [
    "def misteryHOF(id: Film.Id, year: Int)(mdb: MovieDatabase): List[(String, Int)] = \n",
    "    filmRatings(id)(mdb)\n",
    "        .flatMap(rating => getUser(rating.user)(mdb))\n",
    "        .filter(_.registered >= year)\n",
    "        .map(user => (user.name, user.registered))"
   ]
  },
  {
   "cell_type": "code",
   "execution_count": null,
   "metadata": {},
   "outputs": [],
   "source": [
    "run(new TestMistery(mistery))"
   ]
  },
  {
   "cell_type": "markdown",
   "metadata": {},
   "source": [
    "#### c) (1 punto / modelos A, B)\n",
    "Implementa la función `mistery` utilizando funciones de orden superior, pero __sin__ utilizar la función `filter`."
   ]
  },
  {
   "cell_type": "code",
   "execution_count": null,
   "metadata": {},
   "outputs": [],
   "source": [
    "def misteryHOF(id: User.Id, year: Int)(mdb: MovieDatabase): List[(String, Int)] = \n",
    "    filmRatings(id)(mdb)\n",
    "        .flatMap(rating => getUser(rating.user)(mdb))\n",
    "        .flatMap(user => \n",
    "            if (user.registered >= year) \n",
    "                List((user.name, user.registered))\n",
    "            else List())"
   ]
  },
  {
   "cell_type": "code",
   "execution_count": null,
   "metadata": {},
   "outputs": [],
   "source": [
    "run(new TestMistery(misteryHOF))"
   ]
  }
 ],
 "metadata": {
  "kernelspec": {
   "display_name": "Scala 2.12",
   "language": "scala",
   "name": "scala212"
  },
  "language_info": {
   "codemirror_mode": "text/x-scala",
   "file_extension": ".sc",
   "mimetype": "text/x-scala",
   "name": "scala",
   "nbconvert_exporter": "script",
   "version": "2.12.12"
  }
 },
 "nbformat": 4,
 "nbformat_minor": 2
}
