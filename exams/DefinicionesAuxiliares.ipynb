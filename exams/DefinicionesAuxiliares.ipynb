{
 "cells": [
  {
   "cell_type": "markdown",
   "metadata": {},
   "source": [
    "# Programación declarativa @ URJC\n",
    "# Programación funcional\n",
    "## Examen Convocatoria Extraordinaria\n",
    "## Curso 19-20"
   ]
  },
  {
   "cell_type": "markdown",
   "metadata": {},
   "source": [
    "# Definiciones auxiliares"
   ]
  },
  {
   "cell_type": "markdown",
   "metadata": {},
   "source": [
    "### Algunas funciones sobre listas"
   ]
  },
  {
   "cell_type": "code",
   "execution_count": null,
   "metadata": {},
   "outputs": [],
   "source": [
    "object Signatures{\n",
    "    abstract class List[A]{\n",
    "        \n",
    "        // Common HOFs\n",
    "        def foldRight[B](directSol: B)(composeSol: (A, B) => B): B\n",
    "        def foldLeft[B](initial: B)(update: (B, A) => B): B\n",
    "        def map[B](f: A => B): List[B]\n",
    "        def flatMap[B](f: A => List[B]): List[B]\n",
    "        def filter(f: A => Boolean): List[A]\n",
    "        def forall(pred: A => Boolean): Boolean\n",
    "        def exists(pred: A => Boolean): Boolean\n",
    "                \n",
    "        // Sort a list\n",
    "        // e.g. List(3,2,1).sortWith((i, j) => i < j) == List(1,2,3)\n",
    "        def sortWith(lt: (A, A) => Boolean): List[A]\n",
    "        \n",
    "        // Take the first `n` elements of the list\n",
    "        // e.g. List(1,2,3).take(2) == List(1,2)\n",
    "        //      List(1,2,3).take(0) == List()\n",
    "        //      List(1,2,3).take(5) == List(1,2,3)\n",
    "        def take(n: Int): List[A]\n",
    "        \n",
    "        // Return the head, if not empty\n",
    "        def headOption: Option[A]\n",
    "    }\n",
    "}"
   ]
  },
  {
   "cell_type": "markdown",
   "metadata": {},
   "source": [
    "### Definiciones sobre árboles binarios"
   ]
  },
  {
   "cell_type": "code",
   "execution_count": null,
   "metadata": {},
   "outputs": [],
   "source": [
    "sealed abstract class Tree[A]\n",
    "case class Empty[A]() extends Tree[A]\n",
    "case class Node[A](left: Tree[A], root: A, right: Tree[A]) extends Tree[A]"
   ]
  },
  {
   "cell_type": "code",
   "execution_count": null,
   "metadata": {},
   "outputs": [],
   "source": [
    "object Tree{\n",
    "    \n",
    "    def void[A]: Tree[A] = \n",
    "        Empty()\n",
    "    \n",
    "    def leaf[A](a: A): Node[A] = \n",
    "        Node(Empty(), a, Empty())\n",
    "    \n",
    "    def right[A](a: A, tree: Tree[A]): Node[A] = \n",
    "        Node(Empty(), a, tree)\n",
    "    \n",
    "    def left[A](tree: Tree[A], a: A): Node[A] = \n",
    "        Node(tree, a, Empty())\n",
    "    \n",
    "    def node[A](left: Tree[A], a: A, right: Tree[A]): Node[A] = \n",
    "        Node(left, a, right)\n",
    "    \n",
    "    def foldTree[A, B](tree: Tree[A])(empty: B)(node: (B, A, B) => B): B = \n",
    "        tree match {\n",
    "            case Empty() => \n",
    "                empty\n",
    "            case Node(left, a, right) =>\n",
    "                node(foldTree(left)(empty)(node),\n",
    "                    a,\n",
    "                    foldTree(right)(empty)(node))\n",
    "        }\n",
    "}\n",
    "\n",
    "import Tree._"
   ]
  },
  {
   "cell_type": "markdown",
   "metadata": {},
   "source": [
    "### Modelo de datos de películas"
   ]
  },
  {
   "cell_type": "code",
   "execution_count": null,
   "metadata": {},
   "outputs": [],
   "source": [
    "case class MovieDatabase(\n",
    "    films: Map[Film.Id, Film],\n",
    "    users: Map[User.Id, User],\n",
    "    ratings: Map[(Film.Id, User.Id), Rating])\n",
    "    \n",
    "case class Film(\n",
    "    id: Film.Id, \n",
    "    title: String, \n",
    "    director: String,\n",
    "    genre: String,\n",
    "    year: Int,\n",
    "    country: String)\n",
    "\n",
    "object Film{\n",
    "    type Id = Int\n",
    "}\n",
    "\n",
    "case class User(\n",
    "    id: User.Id,\n",
    "    name: String,\n",
    "    age: Int)\n",
    "        \n",
    "object User{\n",
    "    type Id = Int\n",
    "}\n",
    "        \n",
    "case class Rating(\n",
    "    film: Film.Id,\n",
    "    user: User.Id,\n",
    "    score: Int)"
   ]
  },
  {
   "cell_type": "code",
   "execution_count": null,
   "metadata": {},
   "outputs": [],
   "source": [
    "object BasicQueries{\n",
    "    \n",
    "    // Entities\n",
    "    \n",
    "    def films(mdb: MovieDatabase): List[Film] =\n",
    "        mdb.films.values.toList\n",
    "    \n",
    "    def filmIds(mdb: MovieDatabase): List[Film.Id] =\n",
    "        mdb.films.keys.toList\n",
    "\n",
    "    def getFilm(id: Film.Id)(mdb: MovieDatabase): List[Film] = \n",
    "        mdb.films.get(id).toList\n",
    "    \n",
    "    def userIds(mdb: MovieDatabase): List[User.Id] = \n",
    "        mdb.users.keys.toList\n",
    "    \n",
    "    def getUser(id: User.Id)(mdb: MovieDatabase): List[User] = \n",
    "        mdb.users.get(id).toList\n",
    "    \n",
    "    // 1-N relationships\n",
    "    \n",
    "    def films(dir: String)(mdb: MovieDatabase): List[Film.Id] = \n",
    "        mdb.films.filter(_._2.director == dir).map(_._1).toList\n",
    "    \n",
    "    // N-M relationships\n",
    "    \n",
    "    def ratings(mdb: MovieDatabase): List[Rating] = \n",
    "        mdb.ratings.values.toList\n",
    "    \n",
    "    def userRatings(user: User.Id)(mdb: MovieDatabase): List[Rating] = \n",
    "        mdb.ratings.filter(_._1._2 == user).values.toList\n",
    "    \n",
    "    def filmRatings(film: Film.Id)(mdb: MovieDatabase): List[Rating] = \n",
    "        mdb.ratings.filter(_._1._1 == film).values.toList\n",
    "}\n",
    "\n",
    "import BasicQueries._"
   ]
  }
 ],
 "metadata": {
  "kernelspec": {
   "display_name": "Scala",
   "language": "scala",
   "name": "scala"
  },
  "language_info": {
   "codemirror_mode": "text/x-scala",
   "file_extension": ".scala",
   "mimetype": "text/x-scala",
   "name": "scala",
   "nbconvert_exporter": "script",
   "version": "2.13.3"
  }
 },
 "nbformat": 4,
 "nbformat_minor": 2
}
